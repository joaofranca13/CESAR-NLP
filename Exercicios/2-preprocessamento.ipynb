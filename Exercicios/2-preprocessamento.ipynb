{
 "cells": [
  {
   "cell_type": "markdown",
   "id": "1d420e52-9825-48e2-a6d8-7dd7a3505f8f",
   "metadata": {},
   "source": [
    "## Leitura e Preprocessamento dos Dados"
   ]
  },
  {
   "cell_type": "markdown",
   "id": "c38be862-1694-4df6-9d60-2539fd6564fd",
   "metadata": {},
   "source": [
    "### Requirements"
   ]
  },
  {
   "cell_type": "code",
   "execution_count": 1,
   "id": "c23515ad-3bcb-4050-88f3-debb020ae7b0",
   "metadata": {},
   "outputs": [
    {
     "name": "stderr",
     "output_type": "stream",
     "text": [
      "[nltk_data] Downloading package stopwords to /home/studio-lab-\n",
      "[nltk_data]     user/nltk_data...\n",
      "[nltk_data]   Unzipping corpora/stopwords.zip.\n",
      "[nltk_data] Downloading package punkt to /home/studio-lab-\n",
      "[nltk_data]     user/nltk_data...\n",
      "[nltk_data]   Package punkt is already up-to-date!\n"
     ]
    },
    {
     "data": {
      "text/plain": [
       "True"
      ]
     },
     "execution_count": 1,
     "metadata": {},
     "output_type": "execute_result"
    }
   ],
   "source": [
    "import pandas as pd\n",
    "import numpy as np\n",
    "import os\n",
    "import glob\n",
    "import nltk\n",
    "from nltk.corpus import stopwords\n",
    "from nltk.tokenize import word_tokenize\n",
    "from nltk.tokenize.treebank import TreebankWordDetokenizer\n",
    "from sklearn.feature_extraction.text import CountVectorizer, TfidfTransformer\n",
    "from sklearn.metrics import pairwise_distances\n",
    "import matplotlib.pyplot as plt\n",
    "import seaborn as sns\n",
    "\n",
    "\n",
    "\n",
    "nltk.download('stopwords')\n",
    "nltk.download('punkt')"
   ]
  },
  {
   "cell_type": "markdown",
   "id": "242273a0-e751-42bd-9f5d-f0c3230996d4",
   "metadata": {},
   "source": [
    "### Leitura e Concatenação "
   ]
  },
  {
   "cell_type": "code",
   "execution_count": 2,
   "id": "9747a1eb-480a-44bd-b93f-47e5c6e338ea",
   "metadata": {},
   "outputs": [],
   "source": [
    "path = os.getcwd()\n",
    "files = glob.glob(os.path.join(path, \"output/*/*.json\"))"
   ]
  },
  {
   "cell_type": "code",
   "execution_count": 3,
   "id": "f0969fc3-102b-47b3-8425-56cedfc1759e",
   "metadata": {},
   "outputs": [],
   "source": [
    "jsons = [pd.read_json(file, lines=True) for file in files]\n",
    "df = pd.concat(jsons, ignore_index=True)\n",
    "\n",
    "df[\"subject\"] = [os.path.split(os.path.dirname(file))[-1] for file in files]"
   ]
  },
  {
   "cell_type": "code",
   "execution_count": 4,
   "id": "352a142f-36fa-4299-84c5-450b0085beb4",
   "metadata": {},
   "outputs": [
    {
     "data": {
      "text/html": [
       "<div>\n",
       "<style scoped>\n",
       "    .dataframe tbody tr th:only-of-type {\n",
       "        vertical-align: middle;\n",
       "    }\n",
       "\n",
       "    .dataframe tbody tr th {\n",
       "        vertical-align: top;\n",
       "    }\n",
       "\n",
       "    .dataframe thead th {\n",
       "        text-align: right;\n",
       "    }\n",
       "</style>\n",
       "<table border=\"1\" class=\"dataframe\">\n",
       "  <thead>\n",
       "    <tr style=\"text-align: right;\">\n",
       "      <th></th>\n",
       "      <th>title</th>\n",
       "      <th>abstract</th>\n",
       "      <th>subject</th>\n",
       "    </tr>\n",
       "  </thead>\n",
       "  <tbody>\n",
       "    <tr>\n",
       "      <th>0</th>\n",
       "      <td>Modelagem de reforma catalítica seca de metano...</td>\n",
       "      <td>Estamos vivenciando o início da Era da Informa...</td>\n",
       "      <td>machinelearning</td>\n",
       "    </tr>\n",
       "    <tr>\n",
       "      <th>1</th>\n",
       "      <td>Aplicação de machine learning para apostas esp...</td>\n",
       "      <td>As práticas esportivas surgiram de atividades ...</td>\n",
       "      <td>machinelearning</td>\n",
       "    </tr>\n",
       "    <tr>\n",
       "      <th>2</th>\n",
       "      <td>Social machines: a unified paradigm to describ...</td>\n",
       "      <td>The open, distributed approach of the Web and ...</td>\n",
       "      <td>machinelearning</td>\n",
       "    </tr>\n",
       "    <tr>\n",
       "      <th>3</th>\n",
       "      <td>Um método de aprendizagem seqüencial com filtr...</td>\n",
       "      <td>Em aplicações de aprendizagem de máquina, é co...</td>\n",
       "      <td>machinelearning</td>\n",
       "    </tr>\n",
       "    <tr>\n",
       "      <th>4</th>\n",
       "      <td>Development of machine and deep learning based...</td>\n",
       "      <td>Artificial intelligence-based algorithms have ...</td>\n",
       "      <td>machinelearning</td>\n",
       "    </tr>\n",
       "    <tr>\n",
       "      <th>5</th>\n",
       "      <td>Automação de controle de acesso por reconhecim...</td>\n",
       "      <td>Esta pesquisa tem como objetivo propor um méto...</td>\n",
       "      <td>machinelearning</td>\n",
       "    </tr>\n",
       "    <tr>\n",
       "      <th>6</th>\n",
       "      <td>Visão computacional aplicada a gestão da manut...</td>\n",
       "      <td>O desgaste progressivo de peças rotativas como...</td>\n",
       "      <td>machinelearning</td>\n",
       "    </tr>\n",
       "    <tr>\n",
       "      <th>7</th>\n",
       "      <td>A machine learning-based methodology for autom...</td>\n",
       "      <td>Oil refineries process hazardous substances at...</td>\n",
       "      <td>machinelearning</td>\n",
       "    </tr>\n",
       "    <tr>\n",
       "      <th>8</th>\n",
       "      <td>Time Aware Sigmoid Optimization : a new learni...</td>\n",
       "      <td>The correct choice of hyperparameters for the ...</td>\n",
       "      <td>machinelearning</td>\n",
       "    </tr>\n",
       "    <tr>\n",
       "      <th>9</th>\n",
       "      <td>Time series forecasting with deep forest regre...</td>\n",
       "      <td>A time series is a collection of ordered obser...</td>\n",
       "      <td>machinelearning</td>\n",
       "    </tr>\n",
       "    <tr>\n",
       "      <th>10</th>\n",
       "      <td>Competitividade do setor exportador da economi...</td>\n",
       "      <td>O objetivo desta pesquisa é analisar a competi...</td>\n",
       "      <td>economiabrasileira</td>\n",
       "    </tr>\n",
       "    <tr>\n",
       "      <th>11</th>\n",
       "      <td>Economia criativa e economia colaborativa como...</td>\n",
       "      <td>Esta trabalho tem como objetivo demonstrar com...</td>\n",
       "      <td>economiabrasileira</td>\n",
       "    </tr>\n",
       "    <tr>\n",
       "      <th>12</th>\n",
       "      <td>Uma análise das desigualdades dos estados bras...</td>\n",
       "      <td>A evolução das desigualdades entre as economia...</td>\n",
       "      <td>economiabrasileira</td>\n",
       "    </tr>\n",
       "    <tr>\n",
       "      <th>13</th>\n",
       "      <td>Uma análise do mercado de trabalho na economia...</td>\n",
       "      <td>Dentre as diversas áreas que constituem o estu...</td>\n",
       "      <td>economiabrasileira</td>\n",
       "    </tr>\n",
       "    <tr>\n",
       "      <th>14</th>\n",
       "      <td>Feiras colaborativas e economia criativa na ci...</td>\n",
       "      <td>Este trabalho possui por escopo analisar os no...</td>\n",
       "      <td>economiabrasileira</td>\n",
       "    </tr>\n",
       "    <tr>\n",
       "      <th>15</th>\n",
       "      <td>Outra economia acontece? A economia solidária ...</td>\n",
       "      <td>O objetivo desta tese é analisar e interpretar...</td>\n",
       "      <td>economiabrasileira</td>\n",
       "    </tr>\n",
       "    <tr>\n",
       "      <th>16</th>\n",
       "      <td>Economia colaborativa no Brasil: uma revisão s...</td>\n",
       "      <td>A economia colaborativa é um tema inovador e s...</td>\n",
       "      <td>economiabrasileira</td>\n",
       "    </tr>\n",
       "    <tr>\n",
       "      <th>17</th>\n",
       "      <td>Uma abordagem da economia de comunhão como  es...</td>\n",
       "      <td>O TCM  Uma abordagem da Economia de Comunhão c...</td>\n",
       "      <td>economiabrasileira</td>\n",
       "    </tr>\n",
       "    <tr>\n",
       "      <th>18</th>\n",
       "      <td>A competitividade internacional das Commoditie...</td>\n",
       "      <td>O presente estudo tem como objetivo principal ...</td>\n",
       "      <td>economiabrasileira</td>\n",
       "    </tr>\n",
       "    <tr>\n",
       "      <th>19</th>\n",
       "      <td>Impactos de longo prazo de reformas fiscais so...</td>\n",
       "      <td>Este trabalho objetiva analisar o impacto sobr...</td>\n",
       "      <td>economiabrasileira</td>\n",
       "    </tr>\n",
       "    <tr>\n",
       "      <th>20</th>\n",
       "      <td>Usos da fotografia analógica no design.</td>\n",
       "      <td>Este trabalho tem como base a história do Desi...</td>\n",
       "      <td>bauhaus_arquitetura</td>\n",
       "    </tr>\n",
       "    <tr>\n",
       "      <th>21</th>\n",
       "      <td>Design e arte: a batalha épica.</td>\n",
       "      <td>Este trabalho apresenta relações históricas e ...</td>\n",
       "      <td>bauhaus_arquitetura</td>\n",
       "    </tr>\n",
       "    <tr>\n",
       "      <th>22</th>\n",
       "      <td>O humor e a ludicidade do memphis no design de...</td>\n",
       "      <td>O presente trabalho de monografia parte do tem...</td>\n",
       "      <td>bauhaus_arquitetura</td>\n",
       "    </tr>\n",
       "    <tr>\n",
       "      <th>23</th>\n",
       "      <td>Integração das artes plásticas e arquitetura e...</td>\n",
       "      <td>A integração das artes é um tema que vem sendo...</td>\n",
       "      <td>bauhaus_arquitetura</td>\n",
       "    </tr>\n",
       "    <tr>\n",
       "      <th>24</th>\n",
       "      <td>Arte e artesanato na arquitetura de interiores...</td>\n",
       "      <td>A arquiteta pernambucana Janete Costa (1932-20...</td>\n",
       "      <td>bauhaus_arquitetura</td>\n",
       "    </tr>\n",
       "    <tr>\n",
       "      <th>25</th>\n",
       "      <td>O “Disco da banana”: uma análise histórico-art...</td>\n",
       "      <td>Este trabalho trata da compreensão do signific...</td>\n",
       "      <td>bauhaus_arquitetura</td>\n",
       "    </tr>\n",
       "    <tr>\n",
       "      <th>26</th>\n",
       "      <td>Cruzadas editoriais no Brasil e na Argentina: ...</td>\n",
       "      <td>Esta tese procura contribuir com os estudos so...</td>\n",
       "      <td>bauhaus_arquitetura</td>\n",
       "    </tr>\n",
       "    <tr>\n",
       "      <th>27</th>\n",
       "      <td>Estética moderna do Design pernambucano: Lula ...</td>\n",
       "      <td>Esta dissertação objetiva fazer um resgate dos...</td>\n",
       "      <td>bauhaus_arquitetura</td>\n",
       "    </tr>\n",
       "    <tr>\n",
       "      <th>28</th>\n",
       "      <td>Lina Bo Bardi, architetto e designer: um estud...</td>\n",
       "      <td>A italiana Lina Bo Bardi foi relevante, enquan...</td>\n",
       "      <td>bauhaus_arquitetura</td>\n",
       "    </tr>\n",
       "    <tr>\n",
       "      <th>29</th>\n",
       "      <td>Arquitetas no Recife : uma leitura de gênero d...</td>\n",
       "      <td>Este estudo investiga as arquitetas formadas n...</td>\n",
       "      <td>bauhaus_arquitetura</td>\n",
       "    </tr>\n",
       "    <tr>\n",
       "      <th>30</th>\n",
       "      <td>Diversidade genética de populações naturais de...</td>\n",
       "      <td>O bicudo do algodoeiro, Anthonomus grandis Boh...</td>\n",
       "      <td>genetica</td>\n",
       "    </tr>\n",
       "    <tr>\n",
       "      <th>31</th>\n",
       "      <td>Variabilidade genética de populações remanesce...</td>\n",
       "      <td>Podocarpus sellowii, única conífera nativa do ...</td>\n",
       "      <td>genetica</td>\n",
       "    </tr>\n",
       "    <tr>\n",
       "      <th>32</th>\n",
       "      <td>Efeitos da fragmentação da restinga na estrutu...</td>\n",
       "      <td>Dichotomius schiffleri é uma espécie de besour...</td>\n",
       "      <td>genetica</td>\n",
       "    </tr>\n",
       "    <tr>\n",
       "      <th>33</th>\n",
       "      <td>Diversidade Genética populacional nas espécies...</td>\n",
       "      <td>A Floresta Atlântica tem sofrido contínuas ret...</td>\n",
       "      <td>genetica</td>\n",
       "    </tr>\n",
       "    <tr>\n",
       "      <th>34</th>\n",
       "      <td>Variação genética e a conservação do guaiamum ...</td>\n",
       "      <td>Cardisoma guanhumi é um caranguejo terrestre i...</td>\n",
       "      <td>genetica</td>\n",
       "    </tr>\n",
       "    <tr>\n",
       "      <th>35</th>\n",
       "      <td>Efeitos da perturbação antrópica sobre a demog...</td>\n",
       "      <td>Uma das principais hipóteses para explicar a c...</td>\n",
       "      <td>genetica</td>\n",
       "    </tr>\n",
       "    <tr>\n",
       "      <th>36</th>\n",
       "      <td>Variação genética em Aedes aegypti e Aedes alb...</td>\n",
       "      <td>Aedes aegypti e Aedes albopictus são espécies ...</td>\n",
       "      <td>genetica</td>\n",
       "    </tr>\n",
       "    <tr>\n",
       "      <th>37</th>\n",
       "      <td>Diversidade genética de leveduras do complexo ...</td>\n",
       "      <td>O complexo Saccharomyces  sensu stricto  é atu...</td>\n",
       "      <td>genetica</td>\n",
       "    </tr>\n",
       "    <tr>\n",
       "      <th>38</th>\n",
       "      <td>Diversidade genética, conectividade populacion...</td>\n",
       "      <td>O Mero, Epinephelus itajara, é umas das espéci...</td>\n",
       "      <td>genetica</td>\n",
       "    </tr>\n",
       "    <tr>\n",
       "      <th>39</th>\n",
       "      <td>Conectividade genética e morfológica de Mugil ...</td>\n",
       "      <td>Os padrões de estruturação populacional podem ...</td>\n",
       "      <td>genetica</td>\n",
       "    </tr>\n",
       "    <tr>\n",
       "      <th>40</th>\n",
       "      <td>Avaliação do impacto do Programa Mãe Coruja Pe...</td>\n",
       "      <td>As taxas de mortalidade infantil e materna são...</td>\n",
       "      <td>saudeinfantil</td>\n",
       "    </tr>\n",
       "    <tr>\n",
       "      <th>41</th>\n",
       "      <td>Educadoras infantis: o que pensam sobre questõ...</td>\n",
       "      <td>Este trabalho trata da relação entre gênero e ...</td>\n",
       "      <td>saudeinfantil</td>\n",
       "    </tr>\n",
       "    <tr>\n",
       "      <th>42</th>\n",
       "      <td>A estratégia de saúde da família no contexto s...</td>\n",
       "      <td>No Brasil, e mais especificamente, no Recife, ...</td>\n",
       "      <td>saudeinfantil</td>\n",
       "    </tr>\n",
       "    <tr>\n",
       "      <th>43</th>\n",
       "      <td>Análise da relação entre gasto público per cap...</td>\n",
       "      <td>Um dos principais desafios em pauta para o SUS...</td>\n",
       "      <td>saudeinfantil</td>\n",
       "    </tr>\n",
       "    <tr>\n",
       "      <th>44</th>\n",
       "      <td>Renda, desigualdade regional e saúde infantil ...</td>\n",
       "      <td>Muitos estudos na literatura econômica têm mos...</td>\n",
       "      <td>saudeinfantil</td>\n",
       "    </tr>\n",
       "    <tr>\n",
       "      <th>45</th>\n",
       "      <td>A consulta infantil realizada por médicos da  ...</td>\n",
       "      <td>A implantação do novo modelo de atenção à saúd...</td>\n",
       "      <td>saudeinfantil</td>\n",
       "    </tr>\n",
       "    <tr>\n",
       "      <th>46</th>\n",
       "      <td>Desenvolvimento infantil e programas de estimu...</td>\n",
       "      <td>Introdução: o desenvolvimento infantil é um do...</td>\n",
       "      <td>saudeinfantil</td>\n",
       "    </tr>\n",
       "    <tr>\n",
       "      <th>47</th>\n",
       "      <td>A educação infantil nas representações sociais...</td>\n",
       "      <td>Esta pesquisa teve como objetivo identificar a...</td>\n",
       "      <td>saudeinfantil</td>\n",
       "    </tr>\n",
       "    <tr>\n",
       "      <th>48</th>\n",
       "      <td>Fundo social e mortalidade infantil : evidênci...</td>\n",
       "      <td>O objetivo desta dissertação é estudar os efei...</td>\n",
       "      <td>saudeinfantil</td>\n",
       "    </tr>\n",
       "    <tr>\n",
       "      <th>49</th>\n",
       "      <td>Desenvolvimento neuropiscomotor: Importância d...</td>\n",
       "      <td>Ações voltadas para o acompanhamento do desenv...</td>\n",
       "      <td>saudeinfantil</td>\n",
       "    </tr>\n",
       "  </tbody>\n",
       "</table>\n",
       "</div>"
      ],
      "text/plain": [
       "                                                title  \\\n",
       "0   Modelagem de reforma catalítica seca de metano...   \n",
       "1   Aplicação de machine learning para apostas esp...   \n",
       "2   Social machines: a unified paradigm to describ...   \n",
       "3   Um método de aprendizagem seqüencial com filtr...   \n",
       "4   Development of machine and deep learning based...   \n",
       "5   Automação de controle de acesso por reconhecim...   \n",
       "6   Visão computacional aplicada a gestão da manut...   \n",
       "7   A machine learning-based methodology for autom...   \n",
       "8   Time Aware Sigmoid Optimization : a new learni...   \n",
       "9   Time series forecasting with deep forest regre...   \n",
       "10  Competitividade do setor exportador da economi...   \n",
       "11  Economia criativa e economia colaborativa como...   \n",
       "12  Uma análise das desigualdades dos estados bras...   \n",
       "13  Uma análise do mercado de trabalho na economia...   \n",
       "14  Feiras colaborativas e economia criativa na ci...   \n",
       "15  Outra economia acontece? A economia solidária ...   \n",
       "16  Economia colaborativa no Brasil: uma revisão s...   \n",
       "17  Uma abordagem da economia de comunhão como  es...   \n",
       "18  A competitividade internacional das Commoditie...   \n",
       "19  Impactos de longo prazo de reformas fiscais so...   \n",
       "20            Usos da fotografia analógica no design.   \n",
       "21                    Design e arte: a batalha épica.   \n",
       "22  O humor e a ludicidade do memphis no design de...   \n",
       "23  Integração das artes plásticas e arquitetura e...   \n",
       "24  Arte e artesanato na arquitetura de interiores...   \n",
       "25  O “Disco da banana”: uma análise histórico-art...   \n",
       "26  Cruzadas editoriais no Brasil e na Argentina: ...   \n",
       "27  Estética moderna do Design pernambucano: Lula ...   \n",
       "28  Lina Bo Bardi, architetto e designer: um estud...   \n",
       "29  Arquitetas no Recife : uma leitura de gênero d...   \n",
       "30  Diversidade genética de populações naturais de...   \n",
       "31  Variabilidade genética de populações remanesce...   \n",
       "32  Efeitos da fragmentação da restinga na estrutu...   \n",
       "33  Diversidade Genética populacional nas espécies...   \n",
       "34  Variação genética e a conservação do guaiamum ...   \n",
       "35  Efeitos da perturbação antrópica sobre a demog...   \n",
       "36  Variação genética em Aedes aegypti e Aedes alb...   \n",
       "37  Diversidade genética de leveduras do complexo ...   \n",
       "38  Diversidade genética, conectividade populacion...   \n",
       "39  Conectividade genética e morfológica de Mugil ...   \n",
       "40  Avaliação do impacto do Programa Mãe Coruja Pe...   \n",
       "41  Educadoras infantis: o que pensam sobre questõ...   \n",
       "42  A estratégia de saúde da família no contexto s...   \n",
       "43  Análise da relação entre gasto público per cap...   \n",
       "44  Renda, desigualdade regional e saúde infantil ...   \n",
       "45  A consulta infantil realizada por médicos da  ...   \n",
       "46  Desenvolvimento infantil e programas de estimu...   \n",
       "47  A educação infantil nas representações sociais...   \n",
       "48  Fundo social e mortalidade infantil : evidênci...   \n",
       "49  Desenvolvimento neuropiscomotor: Importância d...   \n",
       "\n",
       "                                             abstract              subject  \n",
       "0   Estamos vivenciando o início da Era da Informa...      machinelearning  \n",
       "1   As práticas esportivas surgiram de atividades ...      machinelearning  \n",
       "2   The open, distributed approach of the Web and ...      machinelearning  \n",
       "3   Em aplicações de aprendizagem de máquina, é co...      machinelearning  \n",
       "4   Artificial intelligence-based algorithms have ...      machinelearning  \n",
       "5   Esta pesquisa tem como objetivo propor um méto...      machinelearning  \n",
       "6   O desgaste progressivo de peças rotativas como...      machinelearning  \n",
       "7   Oil refineries process hazardous substances at...      machinelearning  \n",
       "8   The correct choice of hyperparameters for the ...      machinelearning  \n",
       "9   A time series is a collection of ordered obser...      machinelearning  \n",
       "10  O objetivo desta pesquisa é analisar a competi...   economiabrasileira  \n",
       "11  Esta trabalho tem como objetivo demonstrar com...   economiabrasileira  \n",
       "12  A evolução das desigualdades entre as economia...   economiabrasileira  \n",
       "13  Dentre as diversas áreas que constituem o estu...   economiabrasileira  \n",
       "14  Este trabalho possui por escopo analisar os no...   economiabrasileira  \n",
       "15  O objetivo desta tese é analisar e interpretar...   economiabrasileira  \n",
       "16  A economia colaborativa é um tema inovador e s...   economiabrasileira  \n",
       "17  O TCM  Uma abordagem da Economia de Comunhão c...   economiabrasileira  \n",
       "18  O presente estudo tem como objetivo principal ...   economiabrasileira  \n",
       "19  Este trabalho objetiva analisar o impacto sobr...   economiabrasileira  \n",
       "20  Este trabalho tem como base a história do Desi...  bauhaus_arquitetura  \n",
       "21  Este trabalho apresenta relações históricas e ...  bauhaus_arquitetura  \n",
       "22  O presente trabalho de monografia parte do tem...  bauhaus_arquitetura  \n",
       "23  A integração das artes é um tema que vem sendo...  bauhaus_arquitetura  \n",
       "24  A arquiteta pernambucana Janete Costa (1932-20...  bauhaus_arquitetura  \n",
       "25  Este trabalho trata da compreensão do signific...  bauhaus_arquitetura  \n",
       "26  Esta tese procura contribuir com os estudos so...  bauhaus_arquitetura  \n",
       "27  Esta dissertação objetiva fazer um resgate dos...  bauhaus_arquitetura  \n",
       "28  A italiana Lina Bo Bardi foi relevante, enquan...  bauhaus_arquitetura  \n",
       "29  Este estudo investiga as arquitetas formadas n...  bauhaus_arquitetura  \n",
       "30  O bicudo do algodoeiro, Anthonomus grandis Boh...             genetica  \n",
       "31  Podocarpus sellowii, única conífera nativa do ...             genetica  \n",
       "32  Dichotomius schiffleri é uma espécie de besour...             genetica  \n",
       "33  A Floresta Atlântica tem sofrido contínuas ret...             genetica  \n",
       "34  Cardisoma guanhumi é um caranguejo terrestre i...             genetica  \n",
       "35  Uma das principais hipóteses para explicar a c...             genetica  \n",
       "36  Aedes aegypti e Aedes albopictus são espécies ...             genetica  \n",
       "37  O complexo Saccharomyces  sensu stricto  é atu...             genetica  \n",
       "38  O Mero, Epinephelus itajara, é umas das espéci...             genetica  \n",
       "39  Os padrões de estruturação populacional podem ...             genetica  \n",
       "40  As taxas de mortalidade infantil e materna são...        saudeinfantil  \n",
       "41  Este trabalho trata da relação entre gênero e ...        saudeinfantil  \n",
       "42  No Brasil, e mais especificamente, no Recife, ...        saudeinfantil  \n",
       "43  Um dos principais desafios em pauta para o SUS...        saudeinfantil  \n",
       "44  Muitos estudos na literatura econômica têm mos...        saudeinfantil  \n",
       "45  A implantação do novo modelo de atenção à saúd...        saudeinfantil  \n",
       "46  Introdução: o desenvolvimento infantil é um do...        saudeinfantil  \n",
       "47  Esta pesquisa teve como objetivo identificar a...        saudeinfantil  \n",
       "48  O objetivo desta dissertação é estudar os efei...        saudeinfantil  \n",
       "49  Ações voltadas para o acompanhamento do desenv...        saudeinfantil  "
      ]
     },
     "execution_count": 4,
     "metadata": {},
     "output_type": "execute_result"
    }
   ],
   "source": [
    "df"
   ]
  },
  {
   "cell_type": "code",
   "execution_count": 5,
   "id": "6641be4b-fcc9-4ca9-ae2b-32d040564a2c",
   "metadata": {},
   "outputs": [
    {
     "data": {
      "text/html": [
       "<div>\n",
       "<style scoped>\n",
       "    .dataframe tbody tr th:only-of-type {\n",
       "        vertical-align: middle;\n",
       "    }\n",
       "\n",
       "    .dataframe tbody tr th {\n",
       "        vertical-align: top;\n",
       "    }\n",
       "\n",
       "    .dataframe thead th {\n",
       "        text-align: right;\n",
       "    }\n",
       "</style>\n",
       "<table border=\"1\" class=\"dataframe\">\n",
       "  <thead>\n",
       "    <tr style=\"text-align: right;\">\n",
       "      <th></th>\n",
       "      <th>title</th>\n",
       "      <th>abstract</th>\n",
       "      <th>subject</th>\n",
       "    </tr>\n",
       "  </thead>\n",
       "  <tbody>\n",
       "    <tr>\n",
       "      <th>count</th>\n",
       "      <td>50</td>\n",
       "      <td>50</td>\n",
       "      <td>50</td>\n",
       "    </tr>\n",
       "    <tr>\n",
       "      <th>unique</th>\n",
       "      <td>50</td>\n",
       "      <td>50</td>\n",
       "      <td>5</td>\n",
       "    </tr>\n",
       "    <tr>\n",
       "      <th>top</th>\n",
       "      <td>Modelagem de reforma catalítica seca de metano...</td>\n",
       "      <td>Estamos vivenciando o início da Era da Informa...</td>\n",
       "      <td>machinelearning</td>\n",
       "    </tr>\n",
       "    <tr>\n",
       "      <th>freq</th>\n",
       "      <td>1</td>\n",
       "      <td>1</td>\n",
       "      <td>10</td>\n",
       "    </tr>\n",
       "  </tbody>\n",
       "</table>\n",
       "</div>"
      ],
      "text/plain": [
       "                                                    title  \\\n",
       "count                                                  50   \n",
       "unique                                                 50   \n",
       "top     Modelagem de reforma catalítica seca de metano...   \n",
       "freq                                                    1   \n",
       "\n",
       "                                                 abstract          subject  \n",
       "count                                                  50               50  \n",
       "unique                                                 50                5  \n",
       "top     Estamos vivenciando o início da Era da Informa...  machinelearning  \n",
       "freq                                                    1               10  "
      ]
     },
     "execution_count": 5,
     "metadata": {},
     "output_type": "execute_result"
    }
   ],
   "source": [
    "df.describe()"
   ]
  },
  {
   "cell_type": "markdown",
   "id": "751c63d4-4ca9-47df-9b3c-b5b0698355e7",
   "metadata": {},
   "source": [
    "### Stopwords\n",
    "\n",
    "English and portuguese"
   ]
  },
  {
   "cell_type": "code",
   "execution_count": 6,
   "id": "1e5cf81b-03ee-4b28-976d-470a20bd3aad",
   "metadata": {},
   "outputs": [],
   "source": [
    "languages = ['english', 'portuguese']"
   ]
  },
  {
   "cell_type": "code",
   "execution_count": 7,
   "id": "23a44b9f-4b5f-4cca-8916-bde7ab1b4262",
   "metadata": {},
   "outputs": [
    {
     "name": "stdout",
     "output_type": "stream",
     "text": [
      "['i', 'me', 'my', 'myself', 'we', 'our', 'ours', 'ourselves', 'you', \"you're\"]\n",
      "['tivessem', 'tivéssemos', 'tu', 'tua', 'tuas', 'um', 'uma', 'você', 'vocês', 'vos']\n"
     ]
    }
   ],
   "source": [
    "list_stop = stopwords.words(languages)\n",
    "print(list_stop[:10])\n",
    "print(list_stop[-10:])"
   ]
  },
  {
   "cell_type": "markdown",
   "id": "3137a9ac-cba8-45b1-ad48-64fbf163fd98",
   "metadata": {},
   "source": [
    "### Construção do vocabulário e preprocessamento dos documentos"
   ]
  },
  {
   "cell_type": "code",
   "execution_count": 8,
   "id": "85790c74-50a1-4138-a0fb-4d1c79ed05ae",
   "metadata": {},
   "outputs": [],
   "source": [
    "documents = df[\"abstract\"].copy()\n",
    "\n",
    "documents_tokens = []\n",
    "vocabulary = set()\n",
    "\n",
    "for document in documents:\n",
    "    document_lower = document.lower()  # transforma todos as frases em minusculo\n",
    "   \n",
    "    for language in languages: # para cada linguagem executa o list comprehension abaixo:\n",
    "        token_list = [\n",
    "            token for token in word_tokenize(document_lower, language=language) if token.isalnum() and token not in list_stop\n",
    "        ] # quebra as frases em tokens, verifica se não está no stoplist, verifica se é alfanumerico. Caso sim, adiciona a lista de tokens\n",
    "        \n",
    "        if token_list not in documents_tokens:\n",
    "            documents_tokens.append(token_list) #se a lista de tokens não constar na lista de frases, é adicionada\n",
    "            \n",
    "        for token in token_list:\n",
    "            if token not in vocabulary and token.isalnum(): # se o token não já constar no vocabulario, adiciona no vocabulario\n",
    "                vocabulary.add(token)"
   ]
  },
  {
   "cell_type": "code",
   "execution_count": 9,
   "id": "33d71fc0-b84e-40f0-81cd-1a036ae8a8eb",
   "metadata": {},
   "outputs": [
    {
     "data": {
      "text/plain": [
       "3269"
      ]
     },
     "execution_count": 9,
     "metadata": {},
     "output_type": "execute_result"
    }
   ],
   "source": [
    "len(vocabulary) #Tamanho do vocabulario "
   ]
  },
  {
   "cell_type": "code",
   "execution_count": 10,
   "id": "afa25721-229c-4869-b43f-f4bbe546ee50",
   "metadata": {},
   "outputs": [
    {
     "data": {
      "text/plain": [
       "50"
      ]
     },
     "execution_count": 10,
     "metadata": {},
     "output_type": "execute_result"
    }
   ],
   "source": [
    "len(documents_tokens) #Tamanho da lista de frases"
   ]
  },
  {
   "cell_type": "code",
   "execution_count": 11,
   "id": "37e92873-7191-4329-a391-ed65be0fee6c",
   "metadata": {},
   "outputs": [
    {
     "name": "stdout",
     "output_type": "stream",
     "text": [
      "['1', '2', '3', '8', 'k', '7', '6', 'á', 'c', 'p', 'f', '4', '5', 'b']\n"
     ]
    }
   ],
   "source": [
    "print([v for v in vocabulary if len(v) == 1]) #Tokens indesejados"
   ]
  },
  {
   "cell_type": "code",
   "execution_count": 13,
   "id": "cbe2762b-20e9-404d-bc63-32ad6d44620f",
   "metadata": {},
   "outputs": [
    {
     "name": "stdout",
     "output_type": "stream",
     "text": [
      "50\n",
      "objetivo desta pesquisa analisar competitividade setores exportadores economia estado maranhão 1991 motivação trabalho avanço produção bens serviços economia maranhense iniciado anos 80 levou referido estado melhorar parcela contribuição pib região nordeste pib economia brasileira boa performance alavancada principalmente setor industrial ainda importante grande parcela dessa produção sendo mercado externo exportação metodologia utilizada aplicação indicadores chamada competitividade revelada largamente utilizada estudos portanto sendo metodologia consagrada resultados indicam maranhão realmente conseguiu obter boa performance exportações durante período estudo obtendo excelentes resultados matéria capacidade exportar indicadores selecionados mostram setor bens semimanufaturados sobressaiu perante demais setores apresenta vantagem comparativa relação região nordeste economia brasileira\n"
     ]
    }
   ],
   "source": [
    "#Untokenized documents list\n",
    "\n",
    "preprocessed_documents = []\n",
    "\n",
    "for document in documents_tokens:\n",
    "    preprocessed_documents.append(TreebankWordDetokenizer().detokenize(document))\n",
    "    \n",
    "print(len(preprocessed_documents))\n",
    "print(preprocessed_documents[10])"
   ]
  },
  {
   "cell_type": "markdown",
   "id": "99b40325-4c39-4181-a18e-05d0bece0b6f",
   "metadata": {},
   "source": [
    "### Utilizando Sklearn"
   ]
  },
  {
   "cell_type": "code",
   "execution_count": 14,
   "id": "ab657cd0-cc54-47b2-9452-4e7e76ac19fa",
   "metadata": {},
   "outputs": [
    {
     "data": {
      "text/html": [
       "<style>#sk-container-id-1 {color: black;background-color: white;}#sk-container-id-1 pre{padding: 0;}#sk-container-id-1 div.sk-toggleable {background-color: white;}#sk-container-id-1 label.sk-toggleable__label {cursor: pointer;display: block;width: 100%;margin-bottom: 0;padding: 0.3em;box-sizing: border-box;text-align: center;}#sk-container-id-1 label.sk-toggleable__label-arrow:before {content: \"▸\";float: left;margin-right: 0.25em;color: #696969;}#sk-container-id-1 label.sk-toggleable__label-arrow:hover:before {color: black;}#sk-container-id-1 div.sk-estimator:hover label.sk-toggleable__label-arrow:before {color: black;}#sk-container-id-1 div.sk-toggleable__content {max-height: 0;max-width: 0;overflow: hidden;text-align: left;background-color: #f0f8ff;}#sk-container-id-1 div.sk-toggleable__content pre {margin: 0.2em;color: black;border-radius: 0.25em;background-color: #f0f8ff;}#sk-container-id-1 input.sk-toggleable__control:checked~div.sk-toggleable__content {max-height: 200px;max-width: 100%;overflow: auto;}#sk-container-id-1 input.sk-toggleable__control:checked~label.sk-toggleable__label-arrow:before {content: \"▾\";}#sk-container-id-1 div.sk-estimator input.sk-toggleable__control:checked~label.sk-toggleable__label {background-color: #d4ebff;}#sk-container-id-1 div.sk-label input.sk-toggleable__control:checked~label.sk-toggleable__label {background-color: #d4ebff;}#sk-container-id-1 input.sk-hidden--visually {border: 0;clip: rect(1px 1px 1px 1px);clip: rect(1px, 1px, 1px, 1px);height: 1px;margin: -1px;overflow: hidden;padding: 0;position: absolute;width: 1px;}#sk-container-id-1 div.sk-estimator {font-family: monospace;background-color: #f0f8ff;border: 1px dotted black;border-radius: 0.25em;box-sizing: border-box;margin-bottom: 0.5em;}#sk-container-id-1 div.sk-estimator:hover {background-color: #d4ebff;}#sk-container-id-1 div.sk-parallel-item::after {content: \"\";width: 100%;border-bottom: 1px solid gray;flex-grow: 1;}#sk-container-id-1 div.sk-label:hover label.sk-toggleable__label {background-color: #d4ebff;}#sk-container-id-1 div.sk-serial::before {content: \"\";position: absolute;border-left: 1px solid gray;box-sizing: border-box;top: 0;bottom: 0;left: 50%;z-index: 0;}#sk-container-id-1 div.sk-serial {display: flex;flex-direction: column;align-items: center;background-color: white;padding-right: 0.2em;padding-left: 0.2em;position: relative;}#sk-container-id-1 div.sk-item {position: relative;z-index: 1;}#sk-container-id-1 div.sk-parallel {display: flex;align-items: stretch;justify-content: center;background-color: white;position: relative;}#sk-container-id-1 div.sk-item::before, #sk-container-id-1 div.sk-parallel-item::before {content: \"\";position: absolute;border-left: 1px solid gray;box-sizing: border-box;top: 0;bottom: 0;left: 50%;z-index: -1;}#sk-container-id-1 div.sk-parallel-item {display: flex;flex-direction: column;z-index: 1;position: relative;background-color: white;}#sk-container-id-1 div.sk-parallel-item:first-child::after {align-self: flex-end;width: 50%;}#sk-container-id-1 div.sk-parallel-item:last-child::after {align-self: flex-start;width: 50%;}#sk-container-id-1 div.sk-parallel-item:only-child::after {width: 0;}#sk-container-id-1 div.sk-dashed-wrapped {border: 1px dashed gray;margin: 0 0.4em 0.5em 0.4em;box-sizing: border-box;padding-bottom: 0.4em;background-color: white;}#sk-container-id-1 div.sk-label label {font-family: monospace;font-weight: bold;display: inline-block;line-height: 1.2em;}#sk-container-id-1 div.sk-label-container {text-align: center;}#sk-container-id-1 div.sk-container {/* jupyter's `normalize.less` sets `[hidden] { display: none; }` but bootstrap.min.css set `[hidden] { display: none !important; }` so we also need the `!important` here to be able to override the default hidden behavior on the sphinx rendered scikit-learn.org. See: https://github.com/scikit-learn/scikit-learn/issues/21755 */display: inline-block !important;position: relative;}#sk-container-id-1 div.sk-text-repr-fallback {display: none;}</style><div id=\"sk-container-id-1\" class=\"sk-top-container\"><div class=\"sk-text-repr-fallback\"><pre>CountVectorizer(max_df=0.5, max_features=100, min_df=0.005,\n",
       "                stop_words=[&#x27;english&#x27;, &#x27;portuguese&#x27;])</pre><b>In a Jupyter environment, please rerun this cell to show the HTML representation or trust the notebook. <br />On GitHub, the HTML representation is unable to render, please try loading this page with nbviewer.org.</b></div><div class=\"sk-container\" hidden><div class=\"sk-item\"><div class=\"sk-estimator sk-toggleable\"><input class=\"sk-toggleable__control sk-hidden--visually\" id=\"sk-estimator-id-1\" type=\"checkbox\" checked><label for=\"sk-estimator-id-1\" class=\"sk-toggleable__label sk-toggleable__label-arrow\">CountVectorizer</label><div class=\"sk-toggleable__content\"><pre>CountVectorizer(max_df=0.5, max_features=100, min_df=0.005,\n",
       "                stop_words=[&#x27;english&#x27;, &#x27;portuguese&#x27;])</pre></div></div></div></div></div>"
      ],
      "text/plain": [
       "CountVectorizer(max_df=0.5, max_features=100, min_df=0.005,\n",
       "                stop_words=['english', 'portuguese'])"
      ]
     },
     "execution_count": 14,
     "metadata": {},
     "output_type": "execute_result"
    }
   ],
   "source": [
    "count_vect = CountVectorizer(stop_words=languages, min_df=0.005, max_df=0.5, max_features=100)\n",
    "count_vect.fit(preprocessed_documents)"
   ]
  },
  {
   "cell_type": "code",
   "execution_count": 15,
   "id": "0d122bd3-9c38-4baa-955d-bf9fc9a5711f",
   "metadata": {},
   "outputs": [
    {
     "name": "stdout",
     "output_type": "stream",
     "text": [
      "Tamanho do vocabulário:  100\n",
      "Quantidade total de palavras:  4950\n"
     ]
    }
   ],
   "source": [
    "print('Tamanho do vocabulário: ', len(count_vect.vocabulary_))\n",
    "counter = 0\n",
    "for _, count in count_vect.vocabulary_.items():\n",
    "    counter += count\n",
    "    \n",
    "print('Quantidade total de palavras: ', counter)"
   ]
  },
  {
   "cell_type": "code",
   "execution_count": 17,
   "id": "576214d1-031d-4b7f-9541-534afb3c0594",
   "metadata": {},
   "outputs": [
    {
     "data": {
      "text/plain": [
       "[('áreas', 99),\n",
       " ('training', 98),\n",
       " ('tema', 97),\n",
       " ('taxas', 96),\n",
       " ('tanto', 95),\n",
       " ('tal', 94),\n",
       " ('social', 93),\n",
       " ('sociais', 92),\n",
       " ('sobre', 91),\n",
       " ('sendo', 90),\n",
       " ('saúde', 89),\n",
       " ('saccharomyces', 88),\n",
       " ('resultados', 87),\n",
       " ('relações', 86),\n",
       " ('relação', 85),\n",
       " ('região', 84),\n",
       " ('redução', 83),\n",
       " ('recife', 82),\n",
       " ('programa', 81),\n",
       " ('profissionais', 80),\n",
       " ('produção', 79),\n",
       " ('processos', 78),\n",
       " ('processo', 77),\n",
       " ('principalmente', 76),\n",
       " ('principais', 75),\n",
       " ('presente', 74),\n",
       " ('populações', 73),\n",
       " ('população', 72),\n",
       " ('podem', 71),\n",
       " ('pesquisa', 70),\n",
       " ('período', 69),\n",
       " ('pernambuco', 68),\n",
       " ('performance', 67),\n",
       " ('partir', 66),\n",
       " ('parte', 65),\n",
       " ('obtidos', 64),\n",
       " ('observada', 63),\n",
       " ('objetivo', 62),\n",
       " ('níveis', 61),\n",
       " ('nordeste', 60),\n",
       " ('métodos', 59),\n",
       " ('método', 58),\n",
       " ('movimento', 57),\n",
       " ('mortalidade', 56),\n",
       " ('modelos', 55),\n",
       " ('modelo', 54),\n",
       " ('mercado', 53),\n",
       " ('meio', 52),\n",
       " ('marcadores', 51),\n",
       " ('maior', 50),\n",
       " ('machine', 49),\n",
       " ('longo', 48),\n",
       " ('loci', 47),\n",
       " ('learning', 46),\n",
       " ('infantil', 45),\n",
       " ('indivíduos', 44),\n",
       " ('importante', 43),\n",
       " ('impacto', 42),\n",
       " ('grande', 41),\n",
       " ('genética', 40),\n",
       " ('forma', 39),\n",
       " ('estudos', 38),\n",
       " ('estudo', 37),\n",
       " ('estruturação', 36),\n",
       " ('estados', 35),\n",
       " ('estado', 34),\n",
       " ('espécies', 33),\n",
       " ('espécie', 32),\n",
       " ('elementos', 31),\n",
       " ('efeitos', 30),\n",
       " ('educação', 29),\n",
       " ('economia', 28),\n",
       " ('durante', 27),\n",
       " ('dois', 26),\n",
       " ('diversidade', 25),\n",
       " ('disso', 24),\n",
       " ('diferenciação', 23),\n",
       " ('deste', 22),\n",
       " ('desta', 21),\n",
       " ('desse', 20),\n",
       " ('design', 19),\n",
       " ('desenvolvimento', 18),\n",
       " ('dados', 17),\n",
       " ('crianças', 16),\n",
       " ('criança', 15),\n",
       " ('conservação', 14),\n",
       " ('condições', 13),\n",
       " ('campo', 12),\n",
       " ('brasileira', 11),\n",
       " ('brasil', 10),\n",
       " ('através', 9),\n",
       " ('assim', 8),\n",
       " ('arte', 7),\n",
       " ('arquitetura', 6),\n",
       " ('apresenta', 5),\n",
       " ('análise', 4),\n",
       " ('anos', 3),\n",
       " ('analisar', 2),\n",
       " ('além', 1),\n",
       " ('ainda', 0)]"
      ]
     },
     "execution_count": 17,
     "metadata": {},
     "output_type": "execute_result"
    }
   ],
   "source": [
    "sorted(count_vect.vocabulary_.items(), reverse=True)"
   ]
  },
  {
   "cell_type": "markdown",
   "id": "b96045e6-67d5-499f-83a2-d85f0c18d20f",
   "metadata": {},
   "source": [
    "### Extração de caracteristicas TF-IDF"
   ]
  },
  {
   "cell_type": "code",
   "execution_count": 18,
   "id": "e7ee0ad9-4045-4020-b65c-c32241a68e71",
   "metadata": {},
   "outputs": [],
   "source": [
    "X = count_vect.transform(preprocessed_documents)"
   ]
  },
  {
   "cell_type": "code",
   "execution_count": 19,
   "id": "841d84ca-7980-4f0b-94ab-f9e284a3bab7",
   "metadata": {},
   "outputs": [
    {
     "data": {
      "text/plain": [
       "<50x100 sparse matrix of type '<class 'numpy.int64'>'\n",
       "\twith 886 stored elements in Compressed Sparse Row format>"
      ]
     },
     "execution_count": 19,
     "metadata": {},
     "output_type": "execute_result"
    }
   ],
   "source": [
    "X"
   ]
  },
  {
   "cell_type": "code",
   "execution_count": 20,
   "id": "67677d73-975e-40d2-a1bb-506db29e9a9f",
   "metadata": {},
   "outputs": [
    {
     "data": {
      "text/plain": [
       "(50, 100)"
      ]
     },
     "execution_count": 20,
     "metadata": {},
     "output_type": "execute_result"
    }
   ],
   "source": [
    "X.shape"
   ]
  },
  {
   "cell_type": "code",
   "execution_count": 21,
   "id": "a90bf8c3-3a3c-4e46-affa-d124a21cdce4",
   "metadata": {},
   "outputs": [
    {
     "name": "stdout",
     "output_type": "stream",
     "text": [
      "  (0, 1)\t1\n",
      "  (0, 8)\t1\n",
      "  (0, 9)\t2\n",
      "  (0, 12)\t1\n",
      "  (0, 17)\t3\n",
      "  (0, 18)\t2\n",
      "  (0, 24)\t1\n",
      "  (0, 26)\t1\n",
      "  (0, 41)\t3\n",
      "  (0, 42)\t2\n",
      "  (0, 46)\t2\n",
      "  (0, 49)\t2\n",
      "  (0, 55)\t6\n",
      "  (0, 59)\t3\n",
      "  (0, 64)\t1\n",
      "  (0, 66)\t1\n",
      "  (0, 71)\t4\n",
      "  (0, 74)\t1\n",
      "  (0, 75)\t1\n",
      "  (0, 76)\t1\n",
      "  (0, 77)\t2\n",
      "  (0, 78)\t6\n",
      "  (0, 79)\t3\n",
      "  (0, 86)\t1\n",
      "  (0, 87)\t1\n",
      "  (0, 96)\t1\n",
      "  (0, 99)\t1\n"
     ]
    }
   ],
   "source": [
    "print(X[0,:])"
   ]
  },
  {
   "cell_type": "code",
   "execution_count": 22,
   "id": "d721ccdb-3e44-4b8c-a9fe-2d5a68b4f222",
   "metadata": {},
   "outputs": [
    {
     "data": {
      "text/html": [
       "<style>#sk-container-id-2 {color: black;background-color: white;}#sk-container-id-2 pre{padding: 0;}#sk-container-id-2 div.sk-toggleable {background-color: white;}#sk-container-id-2 label.sk-toggleable__label {cursor: pointer;display: block;width: 100%;margin-bottom: 0;padding: 0.3em;box-sizing: border-box;text-align: center;}#sk-container-id-2 label.sk-toggleable__label-arrow:before {content: \"▸\";float: left;margin-right: 0.25em;color: #696969;}#sk-container-id-2 label.sk-toggleable__label-arrow:hover:before {color: black;}#sk-container-id-2 div.sk-estimator:hover label.sk-toggleable__label-arrow:before {color: black;}#sk-container-id-2 div.sk-toggleable__content {max-height: 0;max-width: 0;overflow: hidden;text-align: left;background-color: #f0f8ff;}#sk-container-id-2 div.sk-toggleable__content pre {margin: 0.2em;color: black;border-radius: 0.25em;background-color: #f0f8ff;}#sk-container-id-2 input.sk-toggleable__control:checked~div.sk-toggleable__content {max-height: 200px;max-width: 100%;overflow: auto;}#sk-container-id-2 input.sk-toggleable__control:checked~label.sk-toggleable__label-arrow:before {content: \"▾\";}#sk-container-id-2 div.sk-estimator input.sk-toggleable__control:checked~label.sk-toggleable__label {background-color: #d4ebff;}#sk-container-id-2 div.sk-label input.sk-toggleable__control:checked~label.sk-toggleable__label {background-color: #d4ebff;}#sk-container-id-2 input.sk-hidden--visually {border: 0;clip: rect(1px 1px 1px 1px);clip: rect(1px, 1px, 1px, 1px);height: 1px;margin: -1px;overflow: hidden;padding: 0;position: absolute;width: 1px;}#sk-container-id-2 div.sk-estimator {font-family: monospace;background-color: #f0f8ff;border: 1px dotted black;border-radius: 0.25em;box-sizing: border-box;margin-bottom: 0.5em;}#sk-container-id-2 div.sk-estimator:hover {background-color: #d4ebff;}#sk-container-id-2 div.sk-parallel-item::after {content: \"\";width: 100%;border-bottom: 1px solid gray;flex-grow: 1;}#sk-container-id-2 div.sk-label:hover label.sk-toggleable__label {background-color: #d4ebff;}#sk-container-id-2 div.sk-serial::before {content: \"\";position: absolute;border-left: 1px solid gray;box-sizing: border-box;top: 0;bottom: 0;left: 50%;z-index: 0;}#sk-container-id-2 div.sk-serial {display: flex;flex-direction: column;align-items: center;background-color: white;padding-right: 0.2em;padding-left: 0.2em;position: relative;}#sk-container-id-2 div.sk-item {position: relative;z-index: 1;}#sk-container-id-2 div.sk-parallel {display: flex;align-items: stretch;justify-content: center;background-color: white;position: relative;}#sk-container-id-2 div.sk-item::before, #sk-container-id-2 div.sk-parallel-item::before {content: \"\";position: absolute;border-left: 1px solid gray;box-sizing: border-box;top: 0;bottom: 0;left: 50%;z-index: -1;}#sk-container-id-2 div.sk-parallel-item {display: flex;flex-direction: column;z-index: 1;position: relative;background-color: white;}#sk-container-id-2 div.sk-parallel-item:first-child::after {align-self: flex-end;width: 50%;}#sk-container-id-2 div.sk-parallel-item:last-child::after {align-self: flex-start;width: 50%;}#sk-container-id-2 div.sk-parallel-item:only-child::after {width: 0;}#sk-container-id-2 div.sk-dashed-wrapped {border: 1px dashed gray;margin: 0 0.4em 0.5em 0.4em;box-sizing: border-box;padding-bottom: 0.4em;background-color: white;}#sk-container-id-2 div.sk-label label {font-family: monospace;font-weight: bold;display: inline-block;line-height: 1.2em;}#sk-container-id-2 div.sk-label-container {text-align: center;}#sk-container-id-2 div.sk-container {/* jupyter's `normalize.less` sets `[hidden] { display: none; }` but bootstrap.min.css set `[hidden] { display: none !important; }` so we also need the `!important` here to be able to override the default hidden behavior on the sphinx rendered scikit-learn.org. See: https://github.com/scikit-learn/scikit-learn/issues/21755 */display: inline-block !important;position: relative;}#sk-container-id-2 div.sk-text-repr-fallback {display: none;}</style><div id=\"sk-container-id-2\" class=\"sk-top-container\"><div class=\"sk-text-repr-fallback\"><pre>TfidfTransformer()</pre><b>In a Jupyter environment, please rerun this cell to show the HTML representation or trust the notebook. <br />On GitHub, the HTML representation is unable to render, please try loading this page with nbviewer.org.</b></div><div class=\"sk-container\" hidden><div class=\"sk-item\"><div class=\"sk-estimator sk-toggleable\"><input class=\"sk-toggleable__control sk-hidden--visually\" id=\"sk-estimator-id-2\" type=\"checkbox\" checked><label for=\"sk-estimator-id-2\" class=\"sk-toggleable__label sk-toggleable__label-arrow\">TfidfTransformer</label><div class=\"sk-toggleable__content\"><pre>TfidfTransformer()</pre></div></div></div></div></div>"
      ],
      "text/plain": [
       "TfidfTransformer()"
      ]
     },
     "execution_count": 22,
     "metadata": {},
     "output_type": "execute_result"
    }
   ],
   "source": [
    "tfidf_transformer = TfidfTransformer()\n",
    "tfidf_transformer.fit(X)"
   ]
  },
  {
   "cell_type": "code",
   "execution_count": 23,
   "id": "40c12a9b-0232-4143-8288-51ec1f5c2b9d",
   "metadata": {},
   "outputs": [
    {
     "name": "stdout",
     "output_type": "stream",
     "text": [
      "  (0, 99)\t0.07205573156303349\n",
      "  (0, 96)\t0.08754369389635704\n",
      "  (0, 87)\t0.046211241660226374\n",
      "  (0, 86)\t0.06927952074477736\n",
      "  (0, 79)\t0.20783856223433209\n",
      "  (0, 78)\t0.5252621633781422\n",
      "  (0, 77)\t0.14411146312606699\n",
      "  (0, 76)\t0.07205573156303349\n",
      "  (0, 75)\t0.07205573156303349\n",
      "  (0, 74)\t0.06927952074477736\n",
      "  (0, 71)\t0.27711808297910945\n",
      "  (0, 66)\t0.06041360112091812\n",
      "  (0, 64)\t0.07205573156303349\n",
      "  (0, 59)\t0.22547781363647496\n",
      "  (0, 55)\t0.5605406661824279\n",
      "  (0, 49)\t0.14411146312606699\n",
      "  (0, 46)\t0.13855904148955472\n",
      "  (0, 42)\t0.1573555485449956\n",
      "  (0, 41)\t0.20783856223433209\n",
      "  (0, 26)\t0.07205573156303349\n",
      "  (0, 24)\t0.07205573156303349\n",
      "  (0, 18)\t0.12082720224183624\n",
      "  (0, 17)\t0.14199801551872077\n",
      "  (0, 12)\t0.06676813257805621\n",
      "  (0, 9)\t0.10473381405200877\n",
      "  (0, 8)\t0.05689509806057863\n",
      "  (0, 1)\t0.05236690702600438\n"
     ]
    }
   ],
   "source": [
    "X_tfidf = tfidf_transformer.transform(X)\n",
    "print(X_tfidf[0,:])"
   ]
  },
  {
   "cell_type": "code",
   "execution_count": 24,
   "id": "2c33d039-7473-4917-ac9e-4826623b8a14",
   "metadata": {},
   "outputs": [
    {
     "data": {
      "text/plain": [
       "<50x100 sparse matrix of type '<class 'numpy.float64'>'\n",
       "\twith 886 stored elements in Compressed Sparse Row format>"
      ]
     },
     "execution_count": 24,
     "metadata": {},
     "output_type": "execute_result"
    }
   ],
   "source": [
    "X_tfidf"
   ]
  },
  {
   "cell_type": "code",
   "execution_count": 25,
   "id": "c2fc7de3-1c35-47bc-8f6b-471ac5881e12",
   "metadata": {},
   "outputs": [
    {
     "data": {
      "text/plain": [
       "(50, 100)"
      ]
     },
     "execution_count": 25,
     "metadata": {},
     "output_type": "execute_result"
    }
   ],
   "source": [
    "X_tfidf.shape"
   ]
  },
  {
   "cell_type": "markdown",
   "id": "6d627137-ebbd-4fd2-b449-21644b8ffd4a",
   "metadata": {},
   "source": [
    "### Análise das Caracteristicas textuais"
   ]
  },
  {
   "cell_type": "code",
   "execution_count": 27,
   "id": "e444c45b-9e40-4d84-9e27-0d888efbf3d8",
   "metadata": {},
   "outputs": [
    {
     "name": "stdout",
     "output_type": "stream",
     "text": [
      "Termos mais comuns nos 10 primeiros documentos:\n",
      "['processos' 'modelos' 'podem']\n",
      "['dados' 'resultados' 'machine']\n",
      "['social' 'design' 'áreas']\n",
      "['método' 'machine' 'learning']\n",
      "['learning' 'machine' 'estruturação']\n",
      "['através' 'modelo' 'método']\n",
      "['meio' 'machine' 'learning']\n",
      "['machine' 'learning' 'estruturação']\n",
      "['training' 'learning' 'performance']\n",
      "['performance' 'machine' 'learning']\n",
      "\n",
      "Termos mais relevantes nos 10 primeiros documentos:\n",
      "['modelos' 'processos' 'podem']\n",
      "['dados' 'mercado' 'machine']\n",
      "['social' 'design' 'áreas']\n",
      "['método' 'métodos' 'machine']\n",
      "['learning' 'machine' 'estruturação']\n",
      "['através' 'método' 'modelo']\n",
      "['meio' 'machine' 'learning']\n",
      "['machine' 'learning' 'estruturação']\n",
      "['training' 'performance' 'learning']\n",
      "['performance' 'machine' 'learning']\n",
      "\n",
      "Termos mais relevantes na base de dados:\n",
      "[['condições' 'população' 'efeitos' 'marcadores' 'observada' 'criança'\n",
      "  'obtidos' 'impacto' 'programa' 'nordeste' 'processos' 'loci' 'disso'\n",
      "  'saccharomyces' 'processo' 'tanto' 'diferenciação' 'dois'\n",
      "  'principalmente' 'taxas' 'presente' 'desta' 'tal' 'estudos' 'apresenta'\n",
      "  'podem' 'principais' 'desse' 'importante' 'training' 'parte'\n",
      "  'indivíduos' 'relações' 'deste' 'modelos' 'período' 'conservação'\n",
      "  'grande' 'sociais' 'estruturação' 'redução' 'ainda' 'profissionais'\n",
      "  'performance' 'estados' 'espécies' 'crianças' 'níveis' 'longo' 'partir'\n",
      "  'assim' 'durante' 'elementos' 'estado' 'métodos' 'produção' 'região'\n",
      "  'forma' 'anos' 'campo' 'áreas' 'tema' 'mercado' 'sendo' 'movimento'\n",
      "  'diversidade' 'modelo' 'educação' 'relação' 'espécie' 'meio'\n",
      "  'brasileira' 'maior' 'pesquisa' 'recife' 'analisar' 'mortalidade'\n",
      "  'brasil' 'arte' 'pernambuco' 'além' 'arquitetura' 'objetivo' 'método'\n",
      "  'resultados' 'social' 'análise' 'através' 'estudo' 'sobre' 'dados'\n",
      "  'infantil' 'machine' 'desenvolvimento' 'populações' 'learning'\n",
      "  'economia' 'saúde' 'genética' 'design']]\n"
     ]
    }
   ],
   "source": [
    "sorted_X_indices = np.argsort(X.toarray(), axis=1)[:, ::-1]\n",
    "sorted_Xtfidf_indices = np.argsort(X_tfidf.toarray(), axis=1)[:,::-1]\n",
    "\n",
    "print('Termos mais comuns nos 10 primeiros documentos:')\n",
    "for i in range(10):\n",
    "    print(count_vect.get_feature_names_out()[sorted_X_indices[i, :3]])\n",
    "\n",
    "print('\\nTermos mais relevantes nos 10 primeiros documentos:')\n",
    "for i in range(10):\n",
    "    print(count_vect.get_feature_names_out()[sorted_Xtfidf_indices[i, :3]])\n",
    "\n",
    "print('\\nTermos mais relevantes na base de dados:')\n",
    "mean_Xtfidf = X_tfidf.mean(axis=0)\n",
    "sorted_meanXtfidf_indices = np.argsort(mean_Xtfidf)[::-1]\n",
    "print(count_vect.get_feature_names_out()[sorted_meanXtfidf_indices[:3]])"
   ]
  },
  {
   "cell_type": "markdown",
   "id": "3d3e045b-9539-4a9c-ae64-a0160be8ec66",
   "metadata": {},
   "source": [
    "### Data Viz"
   ]
  },
  {
   "cell_type": "code",
   "execution_count": 31,
   "id": "1a5b0ebb-c436-454b-8c4a-268a768e4cd5",
   "metadata": {},
   "outputs": [
    {
     "data": {
      "text/plain": [
       "<matplotlib.colorbar.Colorbar at 0x7f351ca42d90>"
      ]
     },
     "execution_count": 31,
     "metadata": {},
     "output_type": "execute_result"
    },
    {
     "data": {
      "image/png": "[encoded data removed]",
      "text/plain": [
       "<Figure size 640x480 with 2 Axes>"
      ]
     },
     "metadata": {},
     "output_type": "display_data"
    }
   ],
   "source": [
    "p = pairwise_distances(np.argsort(X_tfidf.toarray(), axis=0)[:,::-1], metric='euclidean')\n",
    "plt.imshow(p, interpolation='nearest')\n",
    "plt.colorbar()"
   ]
  }
 ],
 "metadata": {
  "kernelspec": {
   "display_name": "cesarnlp:Python",
   "language": "python",
   "name": "conda-env-cesarnlp-py"
  },
  "language_info": {
   "codemirror_mode": {
    "name": "ipython",
    "version": 3
   },
   "file_extension": ".py",
   "mimetype": "text/x-python",
   "name": "python",
   "nbconvert_exporter": "python",
   "pygments_lexer": "ipython3",
   "version": "3.11.0"
  }
 },
 "nbformat": 4,
 "nbformat_minor": 5
}
