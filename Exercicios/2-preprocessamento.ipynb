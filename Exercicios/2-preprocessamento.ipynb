{
 "cells": [
  {
   "cell_type": "markdown",
   "id": "1d420e52-9825-48e2-a6d8-7dd7a3505f8f",
   "metadata": {},
   "source": [
    "## Leitura e Preprocessamento dos Dados"
   ]
  },
  {
   "cell_type": "markdown",
   "id": "c38be862-1694-4df6-9d60-2539fd6564fd",
   "metadata": {},
   "source": [
    "### Requirements"
   ]
  },
  {
   "cell_type": "code",
   "execution_count": 48,
   "id": "c23515ad-3bcb-4050-88f3-debb020ae7b0",
   "metadata": {},
   "outputs": [
    {
     "name": "stderr",
     "output_type": "stream",
     "text": [
      "[nltk_data] Downloading package stopwords to /home/studio-lab-\n",
      "[nltk_data]     user/nltk_data...\n",
      "[nltk_data]   Package stopwords is already up-to-date!\n",
      "[nltk_data] Downloading package punkt to /home/studio-lab-\n",
      "[nltk_data]     user/nltk_data...\n",
      "[nltk_data]   Package punkt is already up-to-date!\n"
     ]
    },
    {
     "data": {
      "text/plain": [
       "True"
      ]
     },
     "execution_count": 48,
     "metadata": {},
     "output_type": "execute_result"
    }
   ],
   "source": [
    "import pandas as pd\n",
    "import numpy as np\n",
    "import os\n",
    "import glob\n",
    "import nltk\n",
    "from nltk.corpus import stopwords\n",
    "from nltk.tokenize import word_tokenize\n",
    "from nltk.tokenize.treebank import TreebankWordDetokenizer\n",
    "from sklearn.feature_extraction.text import CountVectorizer, TfidfTransformer\n",
    "from sklearn.metrics import pairwise_distances\n",
    "import matplotlib.pyplot as plt\n",
    "import seaborn as sns\n",
    "\n",
    "\n",
    "\n",
    "nltk.download('stopwords')\n",
    "nltk.download('punkt')"
   ]
  },
  {
   "cell_type": "markdown",
   "id": "242273a0-e751-42bd-9f5d-f0c3230996d4",
   "metadata": {},
   "source": [
    "### Leitura e Concatenação "
   ]
  },
  {
   "cell_type": "code",
   "execution_count": 2,
   "id": "9747a1eb-480a-44bd-b93f-47e5c6e338ea",
   "metadata": {},
   "outputs": [],
   "source": [
    "path = os.getcwd()\n",
    "files = glob.glob(os.path.join(path, \"output/*/*.json\"))"
   ]
  },
  {
   "cell_type": "code",
   "execution_count": 3,
   "id": "f0969fc3-102b-47b3-8425-56cedfc1759e",
   "metadata": {},
   "outputs": [],
   "source": [
    "jsons = [pd.read_json(file, lines=True) for file in files]\n",
    "df = pd.concat(jsons, ignore_index=True)\n",
    "\n",
    "df[\"subject\"] = [os.path.split(os.path.dirname(file))[-1] for file in files]"
   ]
  },
  {
   "cell_type": "code",
   "execution_count": 4,
   "id": "352a142f-36fa-4299-84c5-450b0085beb4",
   "metadata": {},
   "outputs": [
    {
     "data": {
      "text/html": [
       "<div>\n",
       "<style scoped>\n",
       "    .dataframe tbody tr th:only-of-type {\n",
       "        vertical-align: middle;\n",
       "    }\n",
       "\n",
       "    .dataframe tbody tr th {\n",
       "        vertical-align: top;\n",
       "    }\n",
       "\n",
       "    .dataframe thead th {\n",
       "        text-align: right;\n",
       "    }\n",
       "</style>\n",
       "<table border=\"1\" class=\"dataframe\">\n",
       "  <thead>\n",
       "    <tr style=\"text-align: right;\">\n",
       "      <th></th>\n",
       "      <th>title</th>\n",
       "      <th>abstract</th>\n",
       "      <th>subject</th>\n",
       "    </tr>\n",
       "  </thead>\n",
       "  <tbody>\n",
       "    <tr>\n",
       "      <th>0</th>\n",
       "      <td>Modelagem de reforma catalítica seca de metano...</td>\n",
       "      <td>Estamos vivenciando o início da Era da Informa...</td>\n",
       "      <td>machinelearning</td>\n",
       "    </tr>\n",
       "    <tr>\n",
       "      <th>1</th>\n",
       "      <td>Aplicação de machine learning para apostas esp...</td>\n",
       "      <td>As práticas esportivas surgiram de atividades ...</td>\n",
       "      <td>machinelearning</td>\n",
       "    </tr>\n",
       "    <tr>\n",
       "      <th>2</th>\n",
       "      <td>Social machines: a unified paradigm to describ...</td>\n",
       "      <td>The open, distributed approach of the Web and ...</td>\n",
       "      <td>machinelearning</td>\n",
       "    </tr>\n",
       "    <tr>\n",
       "      <th>3</th>\n",
       "      <td>Um método de aprendizagem seqüencial com filtr...</td>\n",
       "      <td>Em aplicações de aprendizagem de máquina, é co...</td>\n",
       "      <td>machinelearning</td>\n",
       "    </tr>\n",
       "    <tr>\n",
       "      <th>4</th>\n",
       "      <td>Development of machine and deep learning based...</td>\n",
       "      <td>Artificial intelligence-based algorithms have ...</td>\n",
       "      <td>machinelearning</td>\n",
       "    </tr>\n",
       "    <tr>\n",
       "      <th>5</th>\n",
       "      <td>Automação de controle de acesso por reconhecim...</td>\n",
       "      <td>Esta pesquisa tem como objetivo propor um méto...</td>\n",
       "      <td>machinelearning</td>\n",
       "    </tr>\n",
       "    <tr>\n",
       "      <th>6</th>\n",
       "      <td>Visão computacional aplicada a gestão da manut...</td>\n",
       "      <td>O desgaste progressivo de peças rotativas como...</td>\n",
       "      <td>machinelearning</td>\n",
       "    </tr>\n",
       "    <tr>\n",
       "      <th>7</th>\n",
       "      <td>A machine learning-based methodology for autom...</td>\n",
       "      <td>Oil refineries process hazardous substances at...</td>\n",
       "      <td>machinelearning</td>\n",
       "    </tr>\n",
       "    <tr>\n",
       "      <th>8</th>\n",
       "      <td>Time Aware Sigmoid Optimization : a new learni...</td>\n",
       "      <td>The correct choice of hyperparameters for the ...</td>\n",
       "      <td>machinelearning</td>\n",
       "    </tr>\n",
       "    <tr>\n",
       "      <th>9</th>\n",
       "      <td>Time series forecasting with deep forest regre...</td>\n",
       "      <td>A time series is a collection of ordered obser...</td>\n",
       "      <td>machinelearning</td>\n",
       "    </tr>\n",
       "    <tr>\n",
       "      <th>10</th>\n",
       "      <td>Competitividade do setor exportador da economi...</td>\n",
       "      <td>O objetivo desta pesquisa é analisar a competi...</td>\n",
       "      <td>economiabrasileira</td>\n",
       "    </tr>\n",
       "    <tr>\n",
       "      <th>11</th>\n",
       "      <td>Economia criativa e economia colaborativa como...</td>\n",
       "      <td>Esta trabalho tem como objetivo demonstrar com...</td>\n",
       "      <td>economiabrasileira</td>\n",
       "    </tr>\n",
       "    <tr>\n",
       "      <th>12</th>\n",
       "      <td>Uma análise das desigualdades dos estados bras...</td>\n",
       "      <td>A evolução das desigualdades entre as economia...</td>\n",
       "      <td>economiabrasileira</td>\n",
       "    </tr>\n",
       "    <tr>\n",
       "      <th>13</th>\n",
       "      <td>Uma análise do mercado de trabalho na economia...</td>\n",
       "      <td>Dentre as diversas áreas que constituem o estu...</td>\n",
       "      <td>economiabrasileira</td>\n",
       "    </tr>\n",
       "    <tr>\n",
       "      <th>14</th>\n",
       "      <td>Feiras colaborativas e economia criativa na ci...</td>\n",
       "      <td>Este trabalho possui por escopo analisar os no...</td>\n",
       "      <td>economiabrasileira</td>\n",
       "    </tr>\n",
       "    <tr>\n",
       "      <th>15</th>\n",
       "      <td>Outra economia acontece? A economia solidária ...</td>\n",
       "      <td>O objetivo desta tese é analisar e interpretar...</td>\n",
       "      <td>economiabrasileira</td>\n",
       "    </tr>\n",
       "    <tr>\n",
       "      <th>16</th>\n",
       "      <td>Economia colaborativa no Brasil: uma revisão s...</td>\n",
       "      <td>A economia colaborativa é um tema inovador e s...</td>\n",
       "      <td>economiabrasileira</td>\n",
       "    </tr>\n",
       "    <tr>\n",
       "      <th>17</th>\n",
       "      <td>Uma abordagem da economia de comunhão como  es...</td>\n",
       "      <td>O TCM  Uma abordagem da Economia de Comunhão c...</td>\n",
       "      <td>economiabrasileira</td>\n",
       "    </tr>\n",
       "    <tr>\n",
       "      <th>18</th>\n",
       "      <td>A competitividade internacional das Commoditie...</td>\n",
       "      <td>O presente estudo tem como objetivo principal ...</td>\n",
       "      <td>economiabrasileira</td>\n",
       "    </tr>\n",
       "    <tr>\n",
       "      <th>19</th>\n",
       "      <td>Impactos de longo prazo de reformas fiscais so...</td>\n",
       "      <td>Este trabalho objetiva analisar o impacto sobr...</td>\n",
       "      <td>economiabrasileira</td>\n",
       "    </tr>\n",
       "    <tr>\n",
       "      <th>20</th>\n",
       "      <td>Usos da fotografia analógica no design.</td>\n",
       "      <td>Este trabalho tem como base a história do Desi...</td>\n",
       "      <td>bauhaus_arquitetura</td>\n",
       "    </tr>\n",
       "    <tr>\n",
       "      <th>21</th>\n",
       "      <td>Design e arte: a batalha épica.</td>\n",
       "      <td>Este trabalho apresenta relações históricas e ...</td>\n",
       "      <td>bauhaus_arquitetura</td>\n",
       "    </tr>\n",
       "    <tr>\n",
       "      <th>22</th>\n",
       "      <td>O humor e a ludicidade do memphis no design de...</td>\n",
       "      <td>O presente trabalho de monografia parte do tem...</td>\n",
       "      <td>bauhaus_arquitetura</td>\n",
       "    </tr>\n",
       "    <tr>\n",
       "      <th>23</th>\n",
       "      <td>Integração das artes plásticas e arquitetura e...</td>\n",
       "      <td>A integração das artes é um tema que vem sendo...</td>\n",
       "      <td>bauhaus_arquitetura</td>\n",
       "    </tr>\n",
       "    <tr>\n",
       "      <th>24</th>\n",
       "      <td>Arte e artesanato na arquitetura de interiores...</td>\n",
       "      <td>A arquiteta pernambucana Janete Costa (1932-20...</td>\n",
       "      <td>bauhaus_arquitetura</td>\n",
       "    </tr>\n",
       "    <tr>\n",
       "      <th>25</th>\n",
       "      <td>O “Disco da banana”: uma análise histórico-art...</td>\n",
       "      <td>Este trabalho trata da compreensão do signific...</td>\n",
       "      <td>bauhaus_arquitetura</td>\n",
       "    </tr>\n",
       "    <tr>\n",
       "      <th>26</th>\n",
       "      <td>Cruzadas editoriais no Brasil e na Argentina: ...</td>\n",
       "      <td>Esta tese procura contribuir com os estudos so...</td>\n",
       "      <td>bauhaus_arquitetura</td>\n",
       "    </tr>\n",
       "    <tr>\n",
       "      <th>27</th>\n",
       "      <td>Estética moderna do Design pernambucano: Lula ...</td>\n",
       "      <td>Esta dissertação objetiva fazer um resgate dos...</td>\n",
       "      <td>bauhaus_arquitetura</td>\n",
       "    </tr>\n",
       "    <tr>\n",
       "      <th>28</th>\n",
       "      <td>Lina Bo Bardi, architetto e designer: um estud...</td>\n",
       "      <td>A italiana Lina Bo Bardi foi relevante, enquan...</td>\n",
       "      <td>bauhaus_arquitetura</td>\n",
       "    </tr>\n",
       "    <tr>\n",
       "      <th>29</th>\n",
       "      <td>Arquitetas no Recife : uma leitura de gênero d...</td>\n",
       "      <td>Este estudo investiga as arquitetas formadas n...</td>\n",
       "      <td>bauhaus_arquitetura</td>\n",
       "    </tr>\n",
       "  </tbody>\n",
       "</table>\n",
       "</div>"
      ],
      "text/plain": [
       "                                                title  \\\n",
       "0   Modelagem de reforma catalítica seca de metano...   \n",
       "1   Aplicação de machine learning para apostas esp...   \n",
       "2   Social machines: a unified paradigm to describ...   \n",
       "3   Um método de aprendizagem seqüencial com filtr...   \n",
       "4   Development of machine and deep learning based...   \n",
       "5   Automação de controle de acesso por reconhecim...   \n",
       "6   Visão computacional aplicada a gestão da manut...   \n",
       "7   A machine learning-based methodology for autom...   \n",
       "8   Time Aware Sigmoid Optimization : a new learni...   \n",
       "9   Time series forecasting with deep forest regre...   \n",
       "10  Competitividade do setor exportador da economi...   \n",
       "11  Economia criativa e economia colaborativa como...   \n",
       "12  Uma análise das desigualdades dos estados bras...   \n",
       "13  Uma análise do mercado de trabalho na economia...   \n",
       "14  Feiras colaborativas e economia criativa na ci...   \n",
       "15  Outra economia acontece? A economia solidária ...   \n",
       "16  Economia colaborativa no Brasil: uma revisão s...   \n",
       "17  Uma abordagem da economia de comunhão como  es...   \n",
       "18  A competitividade internacional das Commoditie...   \n",
       "19  Impactos de longo prazo de reformas fiscais so...   \n",
       "20            Usos da fotografia analógica no design.   \n",
       "21                    Design e arte: a batalha épica.   \n",
       "22  O humor e a ludicidade do memphis no design de...   \n",
       "23  Integração das artes plásticas e arquitetura e...   \n",
       "24  Arte e artesanato na arquitetura de interiores...   \n",
       "25  O “Disco da banana”: uma análise histórico-art...   \n",
       "26  Cruzadas editoriais no Brasil e na Argentina: ...   \n",
       "27  Estética moderna do Design pernambucano: Lula ...   \n",
       "28  Lina Bo Bardi, architetto e designer: um estud...   \n",
       "29  Arquitetas no Recife : uma leitura de gênero d...   \n",
       "\n",
       "                                             abstract              subject  \n",
       "0   Estamos vivenciando o início da Era da Informa...      machinelearning  \n",
       "1   As práticas esportivas surgiram de atividades ...      machinelearning  \n",
       "2   The open, distributed approach of the Web and ...      machinelearning  \n",
       "3   Em aplicações de aprendizagem de máquina, é co...      machinelearning  \n",
       "4   Artificial intelligence-based algorithms have ...      machinelearning  \n",
       "5   Esta pesquisa tem como objetivo propor um méto...      machinelearning  \n",
       "6   O desgaste progressivo de peças rotativas como...      machinelearning  \n",
       "7   Oil refineries process hazardous substances at...      machinelearning  \n",
       "8   The correct choice of hyperparameters for the ...      machinelearning  \n",
       "9   A time series is a collection of ordered obser...      machinelearning  \n",
       "10  O objetivo desta pesquisa é analisar a competi...   economiabrasileira  \n",
       "11  Esta trabalho tem como objetivo demonstrar com...   economiabrasileira  \n",
       "12  A evolução das desigualdades entre as economia...   economiabrasileira  \n",
       "13  Dentre as diversas áreas que constituem o estu...   economiabrasileira  \n",
       "14  Este trabalho possui por escopo analisar os no...   economiabrasileira  \n",
       "15  O objetivo desta tese é analisar e interpretar...   economiabrasileira  \n",
       "16  A economia colaborativa é um tema inovador e s...   economiabrasileira  \n",
       "17  O TCM  Uma abordagem da Economia de Comunhão c...   economiabrasileira  \n",
       "18  O presente estudo tem como objetivo principal ...   economiabrasileira  \n",
       "19  Este trabalho objetiva analisar o impacto sobr...   economiabrasileira  \n",
       "20  Este trabalho tem como base a história do Desi...  bauhaus_arquitetura  \n",
       "21  Este trabalho apresenta relações históricas e ...  bauhaus_arquitetura  \n",
       "22  O presente trabalho de monografia parte do tem...  bauhaus_arquitetura  \n",
       "23  A integração das artes é um tema que vem sendo...  bauhaus_arquitetura  \n",
       "24  A arquiteta pernambucana Janete Costa (1932-20...  bauhaus_arquitetura  \n",
       "25  Este trabalho trata da compreensão do signific...  bauhaus_arquitetura  \n",
       "26  Esta tese procura contribuir com os estudos so...  bauhaus_arquitetura  \n",
       "27  Esta dissertação objetiva fazer um resgate dos...  bauhaus_arquitetura  \n",
       "28  A italiana Lina Bo Bardi foi relevante, enquan...  bauhaus_arquitetura  \n",
       "29  Este estudo investiga as arquitetas formadas n...  bauhaus_arquitetura  "
      ]
     },
     "execution_count": 4,
     "metadata": {},
     "output_type": "execute_result"
    }
   ],
   "source": [
    "df"
   ]
  },
  {
   "cell_type": "code",
   "execution_count": 5,
   "id": "6641be4b-fcc9-4ca9-ae2b-32d040564a2c",
   "metadata": {},
   "outputs": [
    {
     "data": {
      "text/html": [
       "<div>\n",
       "<style scoped>\n",
       "    .dataframe tbody tr th:only-of-type {\n",
       "        vertical-align: middle;\n",
       "    }\n",
       "\n",
       "    .dataframe tbody tr th {\n",
       "        vertical-align: top;\n",
       "    }\n",
       "\n",
       "    .dataframe thead th {\n",
       "        text-align: right;\n",
       "    }\n",
       "</style>\n",
       "<table border=\"1\" class=\"dataframe\">\n",
       "  <thead>\n",
       "    <tr style=\"text-align: right;\">\n",
       "      <th></th>\n",
       "      <th>title</th>\n",
       "      <th>abstract</th>\n",
       "      <th>subject</th>\n",
       "    </tr>\n",
       "  </thead>\n",
       "  <tbody>\n",
       "    <tr>\n",
       "      <th>count</th>\n",
       "      <td>30</td>\n",
       "      <td>30</td>\n",
       "      <td>30</td>\n",
       "    </tr>\n",
       "    <tr>\n",
       "      <th>unique</th>\n",
       "      <td>30</td>\n",
       "      <td>30</td>\n",
       "      <td>3</td>\n",
       "    </tr>\n",
       "    <tr>\n",
       "      <th>top</th>\n",
       "      <td>Modelagem de reforma catalítica seca de metano...</td>\n",
       "      <td>Estamos vivenciando o início da Era da Informa...</td>\n",
       "      <td>machinelearning</td>\n",
       "    </tr>\n",
       "    <tr>\n",
       "      <th>freq</th>\n",
       "      <td>1</td>\n",
       "      <td>1</td>\n",
       "      <td>10</td>\n",
       "    </tr>\n",
       "  </tbody>\n",
       "</table>\n",
       "</div>"
      ],
      "text/plain": [
       "                                                    title  \\\n",
       "count                                                  30   \n",
       "unique                                                 30   \n",
       "top     Modelagem de reforma catalítica seca de metano...   \n",
       "freq                                                    1   \n",
       "\n",
       "                                                 abstract          subject  \n",
       "count                                                  30               30  \n",
       "unique                                                 30                3  \n",
       "top     Estamos vivenciando o início da Era da Informa...  machinelearning  \n",
       "freq                                                    1               10  "
      ]
     },
     "execution_count": 5,
     "metadata": {},
     "output_type": "execute_result"
    }
   ],
   "source": [
    "df.describe()"
   ]
  },
  {
   "cell_type": "markdown",
   "id": "751c63d4-4ca9-47df-9b3c-b5b0698355e7",
   "metadata": {},
   "source": [
    "### Stopwords\n",
    "\n",
    "English and portuguese"
   ]
  },
  {
   "cell_type": "code",
   "execution_count": 6,
   "id": "1e5cf81b-03ee-4b28-976d-470a20bd3aad",
   "metadata": {},
   "outputs": [],
   "source": [
    "languages = ['english', 'portuguese']"
   ]
  },
  {
   "cell_type": "code",
   "execution_count": 7,
   "id": "23a44b9f-4b5f-4cca-8916-bde7ab1b4262",
   "metadata": {},
   "outputs": [
    {
     "name": "stdout",
     "output_type": "stream",
     "text": [
      "['i', 'me', 'my', 'myself', 'we', 'our', 'ours', 'ourselves', 'you', \"you're\"]\n",
      "['tivessem', 'tivéssemos', 'tu', 'tua', 'tuas', 'um', 'uma', 'você', 'vocês', 'vos']\n"
     ]
    }
   ],
   "source": [
    "list_stop = stopwords.words(languages)\n",
    "print(list_stop[:10])\n",
    "print(list_stop[-10:])"
   ]
  },
  {
   "cell_type": "markdown",
   "id": "3137a9ac-cba8-45b1-ad48-64fbf163fd98",
   "metadata": {},
   "source": [
    "### Construção do vocabulário e preprocessamento dos documentos"
   ]
  },
  {
   "cell_type": "code",
   "execution_count": 8,
   "id": "85790c74-50a1-4138-a0fb-4d1c79ed05ae",
   "metadata": {},
   "outputs": [],
   "source": [
    "documents = df[\"abstract\"].copy()\n",
    "\n",
    "documents_tokens = []\n",
    "vocabulary = set()\n",
    "\n",
    "for document in documents:\n",
    "    document_lower = document.lower()  # transforma todos as frases em minusculo\n",
    "   \n",
    "    for language in languages: # para cada linguagem executa o list comprehension abaixo:\n",
    "        token_list = [\n",
    "            token for token in word_tokenize(document_lower, language=language) if token.isalnum() and token not in list_stop\n",
    "        ] # quebra as frases em tokens, verifica se não está no stoplist, verifica se é alfanumerico. Caso sim, adiciona a lista de tokens\n",
    "        \n",
    "        if token_list not in documents_tokens:\n",
    "            documents_tokens.append(token_list) #se a lista de tokens não constar na lista de frases, é adicionada\n",
    "            \n",
    "        for token in token_list:\n",
    "            if token not in vocabulary and token.isalnum(): # se o token não já constar no vocabulario, adiciona no vocabulario\n",
    "                vocabulary.add(token)"
   ]
  },
  {
   "cell_type": "code",
   "execution_count": 9,
   "id": "33d71fc0-b84e-40f0-81cd-1a036ae8a8eb",
   "metadata": {},
   "outputs": [
    {
     "data": {
      "text/plain": [
       "2045"
      ]
     },
     "execution_count": 9,
     "metadata": {},
     "output_type": "execute_result"
    }
   ],
   "source": [
    "len(vocabulary) #Tamanho do vocabulario "
   ]
  },
  {
   "cell_type": "code",
   "execution_count": 10,
   "id": "afa25721-229c-4869-b43f-f4bbe546ee50",
   "metadata": {},
   "outputs": [
    {
     "data": {
      "text/plain": [
       "30"
      ]
     },
     "execution_count": 10,
     "metadata": {},
     "output_type": "execute_result"
    }
   ],
   "source": [
    "len(documents_tokens) #Tamanho da lista de frases"
   ]
  },
  {
   "cell_type": "code",
   "execution_count": 11,
   "id": "37e92873-7191-4329-a391-ed65be0fee6c",
   "metadata": {},
   "outputs": [
    {
     "name": "stdout",
     "output_type": "stream",
     "text": [
      "['k', '7', 'á', '3', 'b', '2', '5', 'f', '1']\n"
     ]
    }
   ],
   "source": [
    "print([v for v in vocabulary if len(v) == 1]) #Tokens indesejados"
   ]
  },
  {
   "cell_type": "code",
   "execution_count": 12,
   "id": "cbe2762b-20e9-404d-bc63-32ad6d44620f",
   "metadata": {},
   "outputs": [
    {
     "name": "stdout",
     "output_type": "stream",
     "text": [
      "30\n",
      "vivenciando início informação onde enormes quantidades dados geradas cada instante principalmente decorrência rápida modernização desenvolvimento tecnológico têm acontecido diversos setores sociedade âmbito indústrias presenciando desenrolar 4ª revolução industrial indústria fortemente marcada automação inteligência artificial big data revolução novas tecnologias trazidas podem trazer grandes melhorias indústria modificando relações trabalho aumentando significativamente eficiência segurança qualidade processos industriais tecnologias trazem grande impacto diversas áreas campo inteligência artificial conjunto recursos computacionais podem usados modelar resolver problemas alta complexidade utilizando menos recursos métodos tradicionais indústria química inteligências artificiais podem usadas exemplo modelagem processos complexos contenham grande número variáveis associadas tornando difícil desenvolver modelos fenomenológicos robustos precisos suficiente prever processos exemplo processo complexo pode valer tais tecnologias produção gás síntese através reforma catalítica metano gás síntese mistura gasosa composta gás hidrogênio monóxido carbono grande interesse econômico pois pode utilizado obter vários produtos alto valor agregado amônia hidrogênio combustível hidrocarbonetos incluindo combustíveis sintéticos além disso processo reforma catalítica seca consome metano gás carbônico dois principais causadores efeito estufa compostos menos impacto ambiental porém devido complexidade baixa linearidade presente nestes processos difícil gerar modelos fenomenológicos precisos possam valer dados disponíveis assim utilização inteligências artificias nesse caso métodos machine learning podem trazer avanços desenvolvimento controle entendimento desses processos neste trabalho utilizados métodos machine learning dentre redes neurais artificiais modelagem reforma catalítica seca metano produção gás síntese partir dados experimentais obtidos literatura modelos desenvolvidos avaliados através métricas regressão comparados si buscando apresentaram melhor desempenho modelos redes neurais obtiveram melhor desempenho modelos testados apresentando coeficientes determinação acima previsão taxas produção componentes gás síntese erros relativos médios resultados apontam utilidade desses modelos uso industrial acadêmico modelagem processos químicos complexos\n"
     ]
    }
   ],
   "source": [
    "#Untokenized documents list\n",
    "\n",
    "preprocessed_documents = []\n",
    "\n",
    "for document in documents_tokens:\n",
    "    preprocessed_documents.append(TreebankWordDetokenizer().detokenize(document))\n",
    "    \n",
    "print(len(preprocessed_documents))\n",
    "print(preprocessed_documents[0])"
   ]
  },
  {
   "cell_type": "markdown",
   "id": "99b40325-4c39-4181-a18e-05d0bece0b6f",
   "metadata": {},
   "source": [
    "### Utilizando Sklearn"
   ]
  },
  {
   "cell_type": "code",
   "execution_count": 30,
   "id": "ab657cd0-cc54-47b2-9452-4e7e76ac19fa",
   "metadata": {},
   "outputs": [
    {
     "data": {
      "text/html": [
       "<style>#sk-container-id-3 {color: black;background-color: white;}#sk-container-id-3 pre{padding: 0;}#sk-container-id-3 div.sk-toggleable {background-color: white;}#sk-container-id-3 label.sk-toggleable__label {cursor: pointer;display: block;width: 100%;margin-bottom: 0;padding: 0.3em;box-sizing: border-box;text-align: center;}#sk-container-id-3 label.sk-toggleable__label-arrow:before {content: \"▸\";float: left;margin-right: 0.25em;color: #696969;}#sk-container-id-3 label.sk-toggleable__label-arrow:hover:before {color: black;}#sk-container-id-3 div.sk-estimator:hover label.sk-toggleable__label-arrow:before {color: black;}#sk-container-id-3 div.sk-toggleable__content {max-height: 0;max-width: 0;overflow: hidden;text-align: left;background-color: #f0f8ff;}#sk-container-id-3 div.sk-toggleable__content pre {margin: 0.2em;color: black;border-radius: 0.25em;background-color: #f0f8ff;}#sk-container-id-3 input.sk-toggleable__control:checked~div.sk-toggleable__content {max-height: 200px;max-width: 100%;overflow: auto;}#sk-container-id-3 input.sk-toggleable__control:checked~label.sk-toggleable__label-arrow:before {content: \"▾\";}#sk-container-id-3 div.sk-estimator input.sk-toggleable__control:checked~label.sk-toggleable__label {background-color: #d4ebff;}#sk-container-id-3 div.sk-label input.sk-toggleable__control:checked~label.sk-toggleable__label {background-color: #d4ebff;}#sk-container-id-3 input.sk-hidden--visually {border: 0;clip: rect(1px 1px 1px 1px);clip: rect(1px, 1px, 1px, 1px);height: 1px;margin: -1px;overflow: hidden;padding: 0;position: absolute;width: 1px;}#sk-container-id-3 div.sk-estimator {font-family: monospace;background-color: #f0f8ff;border: 1px dotted black;border-radius: 0.25em;box-sizing: border-box;margin-bottom: 0.5em;}#sk-container-id-3 div.sk-estimator:hover {background-color: #d4ebff;}#sk-container-id-3 div.sk-parallel-item::after {content: \"\";width: 100%;border-bottom: 1px solid gray;flex-grow: 1;}#sk-container-id-3 div.sk-label:hover label.sk-toggleable__label {background-color: #d4ebff;}#sk-container-id-3 div.sk-serial::before {content: \"\";position: absolute;border-left: 1px solid gray;box-sizing: border-box;top: 0;bottom: 0;left: 50%;z-index: 0;}#sk-container-id-3 div.sk-serial {display: flex;flex-direction: column;align-items: center;background-color: white;padding-right: 0.2em;padding-left: 0.2em;position: relative;}#sk-container-id-3 div.sk-item {position: relative;z-index: 1;}#sk-container-id-3 div.sk-parallel {display: flex;align-items: stretch;justify-content: center;background-color: white;position: relative;}#sk-container-id-3 div.sk-item::before, #sk-container-id-3 div.sk-parallel-item::before {content: \"\";position: absolute;border-left: 1px solid gray;box-sizing: border-box;top: 0;bottom: 0;left: 50%;z-index: -1;}#sk-container-id-3 div.sk-parallel-item {display: flex;flex-direction: column;z-index: 1;position: relative;background-color: white;}#sk-container-id-3 div.sk-parallel-item:first-child::after {align-self: flex-end;width: 50%;}#sk-container-id-3 div.sk-parallel-item:last-child::after {align-self: flex-start;width: 50%;}#sk-container-id-3 div.sk-parallel-item:only-child::after {width: 0;}#sk-container-id-3 div.sk-dashed-wrapped {border: 1px dashed gray;margin: 0 0.4em 0.5em 0.4em;box-sizing: border-box;padding-bottom: 0.4em;background-color: white;}#sk-container-id-3 div.sk-label label {font-family: monospace;font-weight: bold;display: inline-block;line-height: 1.2em;}#sk-container-id-3 div.sk-label-container {text-align: center;}#sk-container-id-3 div.sk-container {/* jupyter's `normalize.less` sets `[hidden] { display: none; }` but bootstrap.min.css set `[hidden] { display: none !important; }` so we also need the `!important` here to be able to override the default hidden behavior on the sphinx rendered scikit-learn.org. See: https://github.com/scikit-learn/scikit-learn/issues/21755 */display: inline-block !important;position: relative;}#sk-container-id-3 div.sk-text-repr-fallback {display: none;}</style><div id=\"sk-container-id-3\" class=\"sk-top-container\"><div class=\"sk-text-repr-fallback\"><pre>CountVectorizer(max_df=0.5, max_features=50, min_df=0.005,\n",
       "                stop_words=[&#x27;english&#x27;, &#x27;portuguese&#x27;])</pre><b>In a Jupyter environment, please rerun this cell to show the HTML representation or trust the notebook. <br />On GitHub, the HTML representation is unable to render, please try loading this page with nbviewer.org.</b></div><div class=\"sk-container\" hidden><div class=\"sk-item\"><div class=\"sk-estimator sk-toggleable\"><input class=\"sk-toggleable__control sk-hidden--visually\" id=\"sk-estimator-id-3\" type=\"checkbox\" checked><label for=\"sk-estimator-id-3\" class=\"sk-toggleable__label sk-toggleable__label-arrow\">CountVectorizer</label><div class=\"sk-toggleable__content\"><pre>CountVectorizer(max_df=0.5, max_features=50, min_df=0.005,\n",
       "                stop_words=[&#x27;english&#x27;, &#x27;portuguese&#x27;])</pre></div></div></div></div></div>"
      ],
      "text/plain": [
       "CountVectorizer(max_df=0.5, max_features=50, min_df=0.005,\n",
       "                stop_words=['english', 'portuguese'])"
      ]
     },
     "execution_count": 30,
     "metadata": {},
     "output_type": "execute_result"
    }
   ],
   "source": [
    "count_vect = CountVectorizer(stop_words=languages, min_df=0.005, max_df=0.5, max_features=50)\n",
    "count_vect.fit(preprocessed_documents)"
   ]
  },
  {
   "cell_type": "code",
   "execution_count": 31,
   "id": "0d122bd3-9c38-4baa-955d-bf9fc9a5711f",
   "metadata": {},
   "outputs": [
    {
     "name": "stdout",
     "output_type": "stream",
     "text": [
      "Tamanho do vocabulário:  50\n",
      "Quantidade total de palavras:  1225\n"
     ]
    }
   ],
   "source": [
    "print('Tamanho do vocabulário: ', len(count_vect.vocabulary_))\n",
    "counter = 0\n",
    "for _, count in count_vect.vocabulary_.items():\n",
    "    counter += count\n",
    "    \n",
    "print('Quantidade total de palavras: ', counter)"
   ]
  },
  {
   "cell_type": "code",
   "execution_count": 32,
   "id": "576214d1-031d-4b7f-9541-534afb3c0594",
   "metadata": {},
   "outputs": [
    {
     "data": {
      "text/plain": [
       "[('training', 49),\n",
       " ('tema', 48),\n",
       " ('social', 47),\n",
       " ('sobre', 46),\n",
       " ('series', 45),\n",
       " ('resultados', 44),\n",
       " ('relação', 43),\n",
       " ('recife', 42),\n",
       " ('proposto', 41),\n",
       " ('produção', 40)]"
      ]
     },
     "execution_count": 32,
     "metadata": {},
     "output_type": "execute_result"
    }
   ],
   "source": [
    "sorted(count_vect.vocabulary_.items(), reverse=True)[:10]"
   ]
  },
  {
   "cell_type": "markdown",
   "id": "b96045e6-67d5-499f-83a2-d85f0c18d20f",
   "metadata": {},
   "source": [
    "### Extração de caracteristicas TF-IDF"
   ]
  },
  {
   "cell_type": "code",
   "execution_count": 33,
   "id": "e7ee0ad9-4045-4020-b65c-c32241a68e71",
   "metadata": {},
   "outputs": [],
   "source": [
    "X = count_vect.transform(preprocessed_documents)"
   ]
  },
  {
   "cell_type": "code",
   "execution_count": 34,
   "id": "841d84ca-7980-4f0b-94ab-f9e284a3bab7",
   "metadata": {},
   "outputs": [
    {
     "data": {
      "text/plain": [
       "<30x50 sparse matrix of type '<class 'numpy.int64'>'\n",
       "\twith 320 stored elements in Compressed Sparse Row format>"
      ]
     },
     "execution_count": 34,
     "metadata": {},
     "output_type": "execute_result"
    }
   ],
   "source": [
    "X"
   ]
  },
  {
   "cell_type": "code",
   "execution_count": 35,
   "id": "67677d73-975e-40d2-a1bb-506db29e9a9f",
   "metadata": {},
   "outputs": [
    {
     "data": {
      "text/plain": [
       "(30, 50)"
      ]
     },
     "execution_count": 35,
     "metadata": {},
     "output_type": "execute_result"
    }
   ],
   "source": [
    "X.shape"
   ]
  },
  {
   "cell_type": "code",
   "execution_count": 36,
   "id": "a90bf8c3-3a3c-4e46-affa-d124a21cdce4",
   "metadata": {},
   "outputs": [
    {
     "name": "stdout",
     "output_type": "stream",
     "text": [
      "  (0, 0)\t1\n",
      "  (0, 9)\t2\n",
      "  (0, 12)\t1\n",
      "  (0, 13)\t3\n",
      "  (0, 14)\t2\n",
      "  (0, 21)\t3\n",
      "  (0, 22)\t2\n",
      "  (0, 23)\t2\n",
      "  (0, 25)\t2\n",
      "  (0, 29)\t6\n",
      "  (0, 32)\t3\n",
      "  (0, 34)\t1\n",
      "  (0, 38)\t1\n",
      "  (0, 39)\t6\n",
      "  (0, 40)\t3\n",
      "  (0, 44)\t1\n"
     ]
    }
   ],
   "source": [
    "print(X[0,:])"
   ]
  },
  {
   "cell_type": "code",
   "execution_count": 37,
   "id": "d721ccdb-3e44-4b8c-a9fe-2d5a68b4f222",
   "metadata": {},
   "outputs": [
    {
     "data": {
      "text/html": [
       "<style>#sk-container-id-4 {color: black;background-color: white;}#sk-container-id-4 pre{padding: 0;}#sk-container-id-4 div.sk-toggleable {background-color: white;}#sk-container-id-4 label.sk-toggleable__label {cursor: pointer;display: block;width: 100%;margin-bottom: 0;padding: 0.3em;box-sizing: border-box;text-align: center;}#sk-container-id-4 label.sk-toggleable__label-arrow:before {content: \"▸\";float: left;margin-right: 0.25em;color: #696969;}#sk-container-id-4 label.sk-toggleable__label-arrow:hover:before {color: black;}#sk-container-id-4 div.sk-estimator:hover label.sk-toggleable__label-arrow:before {color: black;}#sk-container-id-4 div.sk-toggleable__content {max-height: 0;max-width: 0;overflow: hidden;text-align: left;background-color: #f0f8ff;}#sk-container-id-4 div.sk-toggleable__content pre {margin: 0.2em;color: black;border-radius: 0.25em;background-color: #f0f8ff;}#sk-container-id-4 input.sk-toggleable__control:checked~div.sk-toggleable__content {max-height: 200px;max-width: 100%;overflow: auto;}#sk-container-id-4 input.sk-toggleable__control:checked~label.sk-toggleable__label-arrow:before {content: \"▾\";}#sk-container-id-4 div.sk-estimator input.sk-toggleable__control:checked~label.sk-toggleable__label {background-color: #d4ebff;}#sk-container-id-4 div.sk-label input.sk-toggleable__control:checked~label.sk-toggleable__label {background-color: #d4ebff;}#sk-container-id-4 input.sk-hidden--visually {border: 0;clip: rect(1px 1px 1px 1px);clip: rect(1px, 1px, 1px, 1px);height: 1px;margin: -1px;overflow: hidden;padding: 0;position: absolute;width: 1px;}#sk-container-id-4 div.sk-estimator {font-family: monospace;background-color: #f0f8ff;border: 1px dotted black;border-radius: 0.25em;box-sizing: border-box;margin-bottom: 0.5em;}#sk-container-id-4 div.sk-estimator:hover {background-color: #d4ebff;}#sk-container-id-4 div.sk-parallel-item::after {content: \"\";width: 100%;border-bottom: 1px solid gray;flex-grow: 1;}#sk-container-id-4 div.sk-label:hover label.sk-toggleable__label {background-color: #d4ebff;}#sk-container-id-4 div.sk-serial::before {content: \"\";position: absolute;border-left: 1px solid gray;box-sizing: border-box;top: 0;bottom: 0;left: 50%;z-index: 0;}#sk-container-id-4 div.sk-serial {display: flex;flex-direction: column;align-items: center;background-color: white;padding-right: 0.2em;padding-left: 0.2em;position: relative;}#sk-container-id-4 div.sk-item {position: relative;z-index: 1;}#sk-container-id-4 div.sk-parallel {display: flex;align-items: stretch;justify-content: center;background-color: white;position: relative;}#sk-container-id-4 div.sk-item::before, #sk-container-id-4 div.sk-parallel-item::before {content: \"\";position: absolute;border-left: 1px solid gray;box-sizing: border-box;top: 0;bottom: 0;left: 50%;z-index: -1;}#sk-container-id-4 div.sk-parallel-item {display: flex;flex-direction: column;z-index: 1;position: relative;background-color: white;}#sk-container-id-4 div.sk-parallel-item:first-child::after {align-self: flex-end;width: 50%;}#sk-container-id-4 div.sk-parallel-item:last-child::after {align-self: flex-start;width: 50%;}#sk-container-id-4 div.sk-parallel-item:only-child::after {width: 0;}#sk-container-id-4 div.sk-dashed-wrapped {border: 1px dashed gray;margin: 0 0.4em 0.5em 0.4em;box-sizing: border-box;padding-bottom: 0.4em;background-color: white;}#sk-container-id-4 div.sk-label label {font-family: monospace;font-weight: bold;display: inline-block;line-height: 1.2em;}#sk-container-id-4 div.sk-label-container {text-align: center;}#sk-container-id-4 div.sk-container {/* jupyter's `normalize.less` sets `[hidden] { display: none; }` but bootstrap.min.css set `[hidden] { display: none !important; }` so we also need the `!important` here to be able to override the default hidden behavior on the sphinx rendered scikit-learn.org. See: https://github.com/scikit-learn/scikit-learn/issues/21755 */display: inline-block !important;position: relative;}#sk-container-id-4 div.sk-text-repr-fallback {display: none;}</style><div id=\"sk-container-id-4\" class=\"sk-top-container\"><div class=\"sk-text-repr-fallback\"><pre>TfidfTransformer()</pre><b>In a Jupyter environment, please rerun this cell to show the HTML representation or trust the notebook. <br />On GitHub, the HTML representation is unable to render, please try loading this page with nbviewer.org.</b></div><div class=\"sk-container\" hidden><div class=\"sk-item\"><div class=\"sk-estimator sk-toggleable\"><input class=\"sk-toggleable__control sk-hidden--visually\" id=\"sk-estimator-id-4\" type=\"checkbox\" checked><label for=\"sk-estimator-id-4\" class=\"sk-toggleable__label sk-toggleable__label-arrow\">TfidfTransformer</label><div class=\"sk-toggleable__content\"><pre>TfidfTransformer()</pre></div></div></div></div></div>"
      ],
      "text/plain": [
       "TfidfTransformer()"
      ]
     },
     "execution_count": 37,
     "metadata": {},
     "output_type": "execute_result"
    }
   ],
   "source": [
    "tfidf_transformer = TfidfTransformer()\n",
    "tfidf_transformer.fit(X)"
   ]
  },
  {
   "cell_type": "code",
   "execution_count": 38,
   "id": "40c12a9b-0232-4143-8288-51ec1f5c2b9d",
   "metadata": {},
   "outputs": [
    {
     "name": "stdout",
     "output_type": "stream",
     "text": [
      "  (0, 44)\t0.06372897349820349\n",
      "  (0, 40)\t0.19118692049461045\n",
      "  (0, 39)\t0.5983667327831607\n",
      "  (0, 38)\t0.07439356275013151\n",
      "  (0, 34)\t0.0668792554060211\n",
      "  (0, 32)\t0.22318068825039453\n",
      "  (0, 29)\t0.5983667327831607\n",
      "  (0, 25)\t0.1337585108120422\n",
      "  (0, 23)\t0.12745794699640697\n",
      "  (0, 22)\t0.1689081811517593\n",
      "  (0, 21)\t0.22318068825039453\n",
      "  (0, 14)\t0.12175839373978613\n",
      "  (0, 13)\t0.18263759060967918\n",
      "  (0, 12)\t0.07439356275013151\n",
      "  (0, 9)\t0.11655510928368225\n",
      "  (0, 0)\t0.060879196869893064\n"
     ]
    }
   ],
   "source": [
    "X_tfidf = tfidf_transformer.transform(X)\n",
    "print(X_tfidf[0,:])"
   ]
  },
  {
   "cell_type": "code",
   "execution_count": 39,
   "id": "2c33d039-7473-4917-ac9e-4826623b8a14",
   "metadata": {},
   "outputs": [
    {
     "data": {
      "text/plain": [
       "<30x50 sparse matrix of type '<class 'numpy.float64'>'\n",
       "\twith 320 stored elements in Compressed Sparse Row format>"
      ]
     },
     "execution_count": 39,
     "metadata": {},
     "output_type": "execute_result"
    }
   ],
   "source": [
    "X_tfidf"
   ]
  },
  {
   "cell_type": "code",
   "execution_count": 40,
   "id": "c2fc7de3-1c35-47bc-8f6b-471ac5881e12",
   "metadata": {},
   "outputs": [
    {
     "data": {
      "text/plain": [
       "(30, 50)"
      ]
     },
     "execution_count": 40,
     "metadata": {},
     "output_type": "execute_result"
    }
   ],
   "source": [
    "X_tfidf.shape"
   ]
  },
  {
   "cell_type": "markdown",
   "id": "6d627137-ebbd-4fd2-b449-21644b8ffd4a",
   "metadata": {},
   "source": [
    "### Análise das Caracteristicas textuais"
   ]
  },
  {
   "cell_type": "code",
   "execution_count": 42,
   "id": "e444c45b-9e40-4d84-9e27-0d888efbf3d8",
   "metadata": {},
   "outputs": [
    {
     "name": "stdout",
     "output_type": "stream",
     "text": [
      "Termos mais comuns nos 10 primeiros documentos:\n",
      "['modelos' 'processos' 'grande']\n",
      "['dados' 'resultados' 'brasil']\n",
      "['social' 'machines' 'different']\n",
      "['método' 'learning' 'machine']\n",
      "['learning' 'machine' 'machines']\n",
      "['através' 'método' 'objetivo']\n",
      "['meio' 'learning' 'machine']\n",
      "['learning' 'machine' 'machines']\n",
      "['training' 'performance' 'different']\n",
      "['series' 'performance' 'learning']\n",
      "['economia' 'produção' 'resultados']\n",
      "['modelos' 'desenvolvimento' 'economia']\n",
      "['analisar' 'sobre' 'estudo']\n",
      "['mercado' 'atividade' 'estudo']\n",
      "['economia' 'analisar' 'pernambuco']\n",
      "['economia' 'movimento' 'através']\n",
      "['tema' 'economia' 'campo']\n",
      "['local' 'desenvolvimento' 'economia']\n",
      "['brasileira' 'estudo' 'relação']\n",
      "['economia' 'resultados' 'brasileira']\n",
      "['design' 'análise' 'relação']\n",
      "['arte' 'industrial' 'desenvolvimento']\n",
      "['movimento' 'design' 'elementos']\n",
      "['arquitetura' 'artes' 'além']\n",
      "['elementos' 'arquitetura' 'arte']\n",
      "['design' 'arte' 'sobre']\n",
      "['industrial' 'brasil' 'tema']\n",
      "['design' 'campo' 'além']\n",
      "['design' 'artigos' 'análise']\n",
      "['arquitetura' 'recife' 'além']\n",
      "\n",
      "Termos mais relevantes nos 10 primeiros documentos:\n",
      "['processos' 'modelos' 'métodos']\n",
      "['dados' 'resultados' 'mercado']\n",
      "['social' 'machines' 'different']\n",
      "['método' 'proposto' 'métodos']\n",
      "['learning' 'machines' 'machine']\n",
      "['através' 'método' 'proposto']\n",
      "['meio' 'machine' 'learning']\n",
      "['machines' 'machine' 'learning']\n",
      "['training' 'performance' 'different']\n",
      "['series' 'performance' 'machine']\n",
      "['economia' 'performance' 'brasileira']\n",
      "['modelos' 'meio' 'brasil']\n",
      "['analisar' 'brasileira' 'partir']\n",
      "['atividade' 'mercado' 'estudo']\n",
      "['economia' 'pernambuco' 'analisar']\n",
      "['movimento' 'economia' 'processos']\n",
      "['tema' 'economia' 'campo']\n",
      "['local' 'desenvolvimento' 'recife']\n",
      "['brasileira' 'estudo' 'brasil']\n",
      "['economia' 'brasileira' 'resultados']\n",
      "['design' 'durante' 'análise']\n",
      "['arte' 'industrial' 'meio']\n",
      "['movimento' 'elementos' 'design']\n",
      "['arquitetura' 'artes' 'pernambuco']\n",
      "['elementos' 'arquitetura' 'arte']\n",
      "['design' 'arte' 'sobre']\n",
      "['industrial' 'artigos' 'atividade']\n",
      "['design' 'campo' 'atividade']\n",
      "['artigos' 'design' 'análise']\n",
      "['recife' 'arquitetura' 'pernambuco']\n",
      "\n",
      "Termos mais relevantes na base de dados:\n",
      "[['different' 'series' 'principais' 'processos' 'grande' 'training'\n",
      "  'artes' 'partir' 'proposto' 'modelos' 'performance' 'artigos' 'local'\n",
      "  'durante' 'atividade' 'campo' 'métodos' 'elementos' 'industrial'\n",
      "  'pernambuco' 'recife' 'tema' 'mercado' 'produção' 'relação' 'anos'\n",
      "  'pesquisa' 'além' 'brasil' 'movimento' 'meio' 'social' 'objetivo'\n",
      "  'análise' 'método' 'machines' 'sobre' 'resultados' 'arte' 'arquitetura'\n",
      "  'analisar' 'brasileira' 'desenvolvimento' 'dados' 'através' 'estudo'\n",
      "  'machine' 'learning' 'design' 'economia']]\n"
     ]
    }
   ],
   "source": [
    "sorted_X_indices = np.argsort(X.toarray(), axis=1)[:, ::-1]\n",
    "sorted_Xtfidf_indices = np.argsort(X_tfidf.toarray(), axis=1)[:,::-1]\n",
    "\n",
    "print('Termos mais comuns nos 10 primeiros documentos:')\n",
    "for i in range(30):\n",
    "    print(count_vect.get_feature_names_out()[sorted_X_indices[i, :3]])\n",
    "\n",
    "print('\\nTermos mais relevantes nos 10 primeiros documentos:')\n",
    "for i in range(30):\n",
    "    print(count_vect.get_feature_names_out()[sorted_Xtfidf_indices[i, :3]])\n",
    "\n",
    "print('\\nTermos mais relevantes na base de dados:')\n",
    "mean_Xtfidf = X_tfidf.mean(axis=0)\n",
    "sorted_meanXtfidf_indices = np.argsort(mean_Xtfidf)[::-1]\n",
    "print(count_vect.get_feature_names_out()[sorted_meanXtfidf_indices[:3]])"
   ]
  },
  {
   "cell_type": "markdown",
   "id": "3d3e045b-9539-4a9c-ae64-a0160be8ec66",
   "metadata": {},
   "source": [
    "### Text Clustering"
   ]
  },
  {
   "cell_type": "code",
   "execution_count": 47,
   "id": "e4d28156-c2ee-4603-982d-254642058fe6",
   "metadata": {},
   "outputs": [],
   "source": [
    "X_tfidf_df = pd.DataFrame(X_tfidf.toarray())\n",
    "X_tfidf_df.sort_values(by=list(X_tfidf_df.columns), inplace=True)"
   ]
  },
  {
   "cell_type": "code",
   "execution_count": 74,
   "id": "1a5b0ebb-c436-454b-8c4a-268a768e4cd5",
   "metadata": {},
   "outputs": [
    {
     "data": {
      "text/plain": [
       "<matplotlib.colorbar.Colorbar at 0x7f576e7e1690>"
      ]
     },
     "execution_count": 74,
     "metadata": {},
     "output_type": "execute_result"
    },
    {
     "data": {
      "image/png": "[encoded data removed]",
      "text/plain": [
       "<Figure size 640x480 with 2 Axes>"
      ]
     },
     "metadata": {},
     "output_type": "display_data"
    }
   ],
   "source": [
    "p = pairwise_distances(X_tfidf_df, metric='euclidean')\n",
    "plt.imshow(p, interpolation='nearest')\n",
    "plt.colorbar()"
   ]
  }
 ],
 "metadata": {
  "kernelspec": {
   "display_name": "cesarnlp:Python",
   "language": "python",
   "name": "conda-env-cesarnlp-py"
  },
  "language_info": {
   "codemirror_mode": {
    "name": "ipython",
    "version": 3
   },
   "file_extension": ".py",
   "mimetype": "text/x-python",
   "name": "python",
   "nbconvert_exporter": "python",
   "pygments_lexer": "ipython3",
   "version": "3.11.0"
  }
 },
 "nbformat": 4,
 "nbformat_minor": 5
}
