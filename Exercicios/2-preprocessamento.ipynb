{
 "cells": [
  {
   "cell_type": "markdown",
   "id": "1d420e52-9825-48e2-a6d8-7dd7a3505f8f",
   "metadata": {},
   "source": [
    "## Leitura e Preprocessamento dos Dados"
   ]
  },
  {
   "cell_type": "markdown",
   "id": "c38be862-1694-4df6-9d60-2539fd6564fd",
   "metadata": {},
   "source": [
    "### Requirements"
   ]
  },
  {
   "cell_type": "code",
   "execution_count": 1,
   "id": "c23515ad-3bcb-4050-88f3-debb020ae7b0",
   "metadata": {},
   "outputs": [
    {
     "name": "stderr",
     "output_type": "stream",
     "text": [
      "[nltk_data] Downloading package stopwords to /home/studio-lab-\n",
      "[nltk_data]     user/nltk_data...\n",
      "[nltk_data]   Package stopwords is already up-to-date!\n",
      "[nltk_data] Downloading package punkt to /home/studio-lab-\n",
      "[nltk_data]     user/nltk_data...\n",
      "[nltk_data]   Package punkt is already up-to-date!\n"
     ]
    },
    {
     "data": {
      "text/plain": [
       "True"
      ]
     },
     "execution_count": 1,
     "metadata": {},
     "output_type": "execute_result"
    }
   ],
   "source": [
    "import pandas as pd\n",
    "import numpy as np\n",
    "import os\n",
    "import glob\n",
    "import nltk\n",
    "from nltk.corpus import stopwords\n",
    "from nltk.tokenize import word_tokenize\n",
    "\n",
    "nltk.download('stopwords')\n",
    "nltk.download('punkt')"
   ]
  },
  {
   "cell_type": "markdown",
   "id": "242273a0-e751-42bd-9f5d-f0c3230996d4",
   "metadata": {},
   "source": [
    "### Leitura e Concatenação "
   ]
  },
  {
   "cell_type": "code",
   "execution_count": 2,
   "id": "9747a1eb-480a-44bd-b93f-47e5c6e338ea",
   "metadata": {},
   "outputs": [],
   "source": [
    "path = os.getcwd()\n",
    "files = glob.glob(os.path.join(path, \"output/*/*.json\"))"
   ]
  },
  {
   "cell_type": "code",
   "execution_count": 3,
   "id": "f0969fc3-102b-47b3-8425-56cedfc1759e",
   "metadata": {},
   "outputs": [],
   "source": [
    "jsons = [pd.read_json(file, lines=True) for file in files]\n",
    "df = pd.concat(jsons, ignore_index=True)\n",
    "\n",
    "df[\"subject\"] = [os.path.split(os.path.dirname(file))[-1] for file in files]"
   ]
  },
  {
   "cell_type": "code",
   "execution_count": 4,
   "id": "352a142f-36fa-4299-84c5-450b0085beb4",
   "metadata": {},
   "outputs": [
    {
     "data": {
      "text/html": [
       "<div>\n",
       "<style scoped>\n",
       "    .dataframe tbody tr th:only-of-type {\n",
       "        vertical-align: middle;\n",
       "    }\n",
       "\n",
       "    .dataframe tbody tr th {\n",
       "        vertical-align: top;\n",
       "    }\n",
       "\n",
       "    .dataframe thead th {\n",
       "        text-align: right;\n",
       "    }\n",
       "</style>\n",
       "<table border=\"1\" class=\"dataframe\">\n",
       "  <thead>\n",
       "    <tr style=\"text-align: right;\">\n",
       "      <th></th>\n",
       "      <th>title</th>\n",
       "      <th>abstract</th>\n",
       "      <th>subject</th>\n",
       "    </tr>\n",
       "  </thead>\n",
       "  <tbody>\n",
       "    <tr>\n",
       "      <th>0</th>\n",
       "      <td>Modelagem de reforma catalítica seca de metano...</td>\n",
       "      <td>Estamos vivenciando o início da Era da Informa...</td>\n",
       "      <td>machinelearning</td>\n",
       "    </tr>\n",
       "    <tr>\n",
       "      <th>1</th>\n",
       "      <td>Aplicação de machine learning para apostas esp...</td>\n",
       "      <td>As práticas esportivas surgiram de atividades ...</td>\n",
       "      <td>machinelearning</td>\n",
       "    </tr>\n",
       "    <tr>\n",
       "      <th>2</th>\n",
       "      <td>Social machines: a unified paradigm to describ...</td>\n",
       "      <td>The open, distributed approach of the Web and ...</td>\n",
       "      <td>machinelearning</td>\n",
       "    </tr>\n",
       "    <tr>\n",
       "      <th>3</th>\n",
       "      <td>Um método de aprendizagem seqüencial com filtr...</td>\n",
       "      <td>Em aplicações de aprendizagem de máquina, é co...</td>\n",
       "      <td>machinelearning</td>\n",
       "    </tr>\n",
       "    <tr>\n",
       "      <th>4</th>\n",
       "      <td>Development of machine and deep learning based...</td>\n",
       "      <td>Artificial intelligence-based algorithms have ...</td>\n",
       "      <td>machinelearning</td>\n",
       "    </tr>\n",
       "    <tr>\n",
       "      <th>5</th>\n",
       "      <td>Automação de controle de acesso por reconhecim...</td>\n",
       "      <td>Esta pesquisa tem como objetivo propor um méto...</td>\n",
       "      <td>machinelearning</td>\n",
       "    </tr>\n",
       "    <tr>\n",
       "      <th>6</th>\n",
       "      <td>Visão computacional aplicada a gestão da manut...</td>\n",
       "      <td>O desgaste progressivo de peças rotativas como...</td>\n",
       "      <td>machinelearning</td>\n",
       "    </tr>\n",
       "    <tr>\n",
       "      <th>7</th>\n",
       "      <td>A machine learning-based methodology for autom...</td>\n",
       "      <td>Oil refineries process hazardous substances at...</td>\n",
       "      <td>machinelearning</td>\n",
       "    </tr>\n",
       "    <tr>\n",
       "      <th>8</th>\n",
       "      <td>Time Aware Sigmoid Optimization : a new learni...</td>\n",
       "      <td>The correct choice of hyperparameters for the ...</td>\n",
       "      <td>machinelearning</td>\n",
       "    </tr>\n",
       "    <tr>\n",
       "      <th>9</th>\n",
       "      <td>Time series forecasting with deep forest regre...</td>\n",
       "      <td>A time series is a collection of ordered obser...</td>\n",
       "      <td>machinelearning</td>\n",
       "    </tr>\n",
       "    <tr>\n",
       "      <th>10</th>\n",
       "      <td>Competitividade do setor exportador da economi...</td>\n",
       "      <td>O objetivo desta pesquisa é analisar a competi...</td>\n",
       "      <td>economiabrasileira</td>\n",
       "    </tr>\n",
       "    <tr>\n",
       "      <th>11</th>\n",
       "      <td>Economia criativa e economia colaborativa como...</td>\n",
       "      <td>Esta trabalho tem como objetivo demonstrar com...</td>\n",
       "      <td>economiabrasileira</td>\n",
       "    </tr>\n",
       "    <tr>\n",
       "      <th>12</th>\n",
       "      <td>Uma análise das desigualdades dos estados bras...</td>\n",
       "      <td>A evolução das desigualdades entre as economia...</td>\n",
       "      <td>economiabrasileira</td>\n",
       "    </tr>\n",
       "    <tr>\n",
       "      <th>13</th>\n",
       "      <td>Uma análise do mercado de trabalho na economia...</td>\n",
       "      <td>Dentre as diversas áreas que constituem o estu...</td>\n",
       "      <td>economiabrasileira</td>\n",
       "    </tr>\n",
       "    <tr>\n",
       "      <th>14</th>\n",
       "      <td>Feiras colaborativas e economia criativa na ci...</td>\n",
       "      <td>Este trabalho possui por escopo analisar os no...</td>\n",
       "      <td>economiabrasileira</td>\n",
       "    </tr>\n",
       "    <tr>\n",
       "      <th>15</th>\n",
       "      <td>Outra economia acontece? A economia solidária ...</td>\n",
       "      <td>O objetivo desta tese é analisar e interpretar...</td>\n",
       "      <td>economiabrasileira</td>\n",
       "    </tr>\n",
       "    <tr>\n",
       "      <th>16</th>\n",
       "      <td>Economia colaborativa no Brasil: uma revisão s...</td>\n",
       "      <td>A economia colaborativa é um tema inovador e s...</td>\n",
       "      <td>economiabrasileira</td>\n",
       "    </tr>\n",
       "    <tr>\n",
       "      <th>17</th>\n",
       "      <td>Uma abordagem da economia de comunhão como  es...</td>\n",
       "      <td>O TCM  Uma abordagem da Economia de Comunhão c...</td>\n",
       "      <td>economiabrasileira</td>\n",
       "    </tr>\n",
       "    <tr>\n",
       "      <th>18</th>\n",
       "      <td>A competitividade internacional das Commoditie...</td>\n",
       "      <td>O presente estudo tem como objetivo principal ...</td>\n",
       "      <td>economiabrasileira</td>\n",
       "    </tr>\n",
       "    <tr>\n",
       "      <th>19</th>\n",
       "      <td>Impactos de longo prazo de reformas fiscais so...</td>\n",
       "      <td>Este trabalho objetiva analisar o impacto sobr...</td>\n",
       "      <td>economiabrasileira</td>\n",
       "    </tr>\n",
       "  </tbody>\n",
       "</table>\n",
       "</div>"
      ],
      "text/plain": [
       "                                                title  \\\n",
       "0   Modelagem de reforma catalítica seca de metano...   \n",
       "1   Aplicação de machine learning para apostas esp...   \n",
       "2   Social machines: a unified paradigm to describ...   \n",
       "3   Um método de aprendizagem seqüencial com filtr...   \n",
       "4   Development of machine and deep learning based...   \n",
       "5   Automação de controle de acesso por reconhecim...   \n",
       "6   Visão computacional aplicada a gestão da manut...   \n",
       "7   A machine learning-based methodology for autom...   \n",
       "8   Time Aware Sigmoid Optimization : a new learni...   \n",
       "9   Time series forecasting with deep forest regre...   \n",
       "10  Competitividade do setor exportador da economi...   \n",
       "11  Economia criativa e economia colaborativa como...   \n",
       "12  Uma análise das desigualdades dos estados bras...   \n",
       "13  Uma análise do mercado de trabalho na economia...   \n",
       "14  Feiras colaborativas e economia criativa na ci...   \n",
       "15  Outra economia acontece? A economia solidária ...   \n",
       "16  Economia colaborativa no Brasil: uma revisão s...   \n",
       "17  Uma abordagem da economia de comunhão como  es...   \n",
       "18  A competitividade internacional das Commoditie...   \n",
       "19  Impactos de longo prazo de reformas fiscais so...   \n",
       "\n",
       "                                             abstract             subject  \n",
       "0   Estamos vivenciando o início da Era da Informa...     machinelearning  \n",
       "1   As práticas esportivas surgiram de atividades ...     machinelearning  \n",
       "2   The open, distributed approach of the Web and ...     machinelearning  \n",
       "3   Em aplicações de aprendizagem de máquina, é co...     machinelearning  \n",
       "4   Artificial intelligence-based algorithms have ...     machinelearning  \n",
       "5   Esta pesquisa tem como objetivo propor um méto...     machinelearning  \n",
       "6   O desgaste progressivo de peças rotativas como...     machinelearning  \n",
       "7   Oil refineries process hazardous substances at...     machinelearning  \n",
       "8   The correct choice of hyperparameters for the ...     machinelearning  \n",
       "9   A time series is a collection of ordered obser...     machinelearning  \n",
       "10  O objetivo desta pesquisa é analisar a competi...  economiabrasileira  \n",
       "11  Esta trabalho tem como objetivo demonstrar com...  economiabrasileira  \n",
       "12  A evolução das desigualdades entre as economia...  economiabrasileira  \n",
       "13  Dentre as diversas áreas que constituem o estu...  economiabrasileira  \n",
       "14  Este trabalho possui por escopo analisar os no...  economiabrasileira  \n",
       "15  O objetivo desta tese é analisar e interpretar...  economiabrasileira  \n",
       "16  A economia colaborativa é um tema inovador e s...  economiabrasileira  \n",
       "17  O TCM  Uma abordagem da Economia de Comunhão c...  economiabrasileira  \n",
       "18  O presente estudo tem como objetivo principal ...  economiabrasileira  \n",
       "19  Este trabalho objetiva analisar o impacto sobr...  economiabrasileira  "
      ]
     },
     "execution_count": 4,
     "metadata": {},
     "output_type": "execute_result"
    }
   ],
   "source": [
    "df"
   ]
  },
  {
   "cell_type": "code",
   "execution_count": 5,
   "id": "6641be4b-fcc9-4ca9-ae2b-32d040564a2c",
   "metadata": {},
   "outputs": [
    {
     "data": {
      "text/html": [
       "<div>\n",
       "<style scoped>\n",
       "    .dataframe tbody tr th:only-of-type {\n",
       "        vertical-align: middle;\n",
       "    }\n",
       "\n",
       "    .dataframe tbody tr th {\n",
       "        vertical-align: top;\n",
       "    }\n",
       "\n",
       "    .dataframe thead th {\n",
       "        text-align: right;\n",
       "    }\n",
       "</style>\n",
       "<table border=\"1\" class=\"dataframe\">\n",
       "  <thead>\n",
       "    <tr style=\"text-align: right;\">\n",
       "      <th></th>\n",
       "      <th>title</th>\n",
       "      <th>abstract</th>\n",
       "      <th>subject</th>\n",
       "    </tr>\n",
       "  </thead>\n",
       "  <tbody>\n",
       "    <tr>\n",
       "      <th>count</th>\n",
       "      <td>20</td>\n",
       "      <td>20</td>\n",
       "      <td>20</td>\n",
       "    </tr>\n",
       "    <tr>\n",
       "      <th>unique</th>\n",
       "      <td>20</td>\n",
       "      <td>20</td>\n",
       "      <td>2</td>\n",
       "    </tr>\n",
       "    <tr>\n",
       "      <th>top</th>\n",
       "      <td>Modelagem de reforma catalítica seca de metano...</td>\n",
       "      <td>Estamos vivenciando o início da Era da Informa...</td>\n",
       "      <td>machinelearning</td>\n",
       "    </tr>\n",
       "    <tr>\n",
       "      <th>freq</th>\n",
       "      <td>1</td>\n",
       "      <td>1</td>\n",
       "      <td>10</td>\n",
       "    </tr>\n",
       "  </tbody>\n",
       "</table>\n",
       "</div>"
      ],
      "text/plain": [
       "                                                    title  \\\n",
       "count                                                  20   \n",
       "unique                                                 20   \n",
       "top     Modelagem de reforma catalítica seca de metano...   \n",
       "freq                                                    1   \n",
       "\n",
       "                                                 abstract          subject  \n",
       "count                                                  20               20  \n",
       "unique                                                 20                2  \n",
       "top     Estamos vivenciando o início da Era da Informa...  machinelearning  \n",
       "freq                                                    1               10  "
      ]
     },
     "execution_count": 5,
     "metadata": {},
     "output_type": "execute_result"
    }
   ],
   "source": [
    "df.describe()"
   ]
  },
  {
   "cell_type": "markdown",
   "id": "751c63d4-4ca9-47df-9b3c-b5b0698355e7",
   "metadata": {},
   "source": [
    "### Stopwords\n",
    "\n",
    "English and portuguese"
   ]
  },
  {
   "cell_type": "code",
   "execution_count": 6,
   "id": "1e5cf81b-03ee-4b28-976d-470a20bd3aad",
   "metadata": {},
   "outputs": [],
   "source": [
    "languages = ['english', 'portuguese']"
   ]
  },
  {
   "cell_type": "code",
   "execution_count": 7,
   "id": "23a44b9f-4b5f-4cca-8916-bde7ab1b4262",
   "metadata": {},
   "outputs": [
    {
     "name": "stdout",
     "output_type": "stream",
     "text": [
      "['i', 'me', 'my', 'myself', 'we', 'our', 'ours', 'ourselves', 'you', \"you're\"]\n",
      "['tivessem', 'tivéssemos', 'tu', 'tua', 'tuas', 'um', 'uma', 'você', 'vocês', 'vos']\n"
     ]
    }
   ],
   "source": [
    "list_stop = stopwords.words(languages)\n",
    "print(list_stop[:10])\n",
    "print(list_stop[-10:])"
   ]
  },
  {
   "cell_type": "code",
   "execution_count": 9,
   "id": "85790c74-50a1-4138-a0fb-4d1c79ed05ae",
   "metadata": {},
   "outputs": [],
   "source": [
    "documents = df[\"abstract\"].copy()\n",
    "\n",
    "documents_tokens = []\n",
    "vocabulary = set()\n",
    "\n",
    "for document in documents:\n",
    "    document_lower = document.lower()  # transforma todos as frases em minusculo\n",
    "   \n",
    "    for language in languages: # para cada linguagem executa o list comprehension abaixo:\n",
    "        token_list = [\n",
    "            token for token in word_tokenize(document_lower, language=language) if token.isalnum() and token not in list_stop\n",
    "        ] # quebra as frases em tokens, verifica se não está no stoplist, verifica se é alfanumerico. Caso sim, adiciona a lista de tokens\n",
    "        \n",
    "        if token_list not in documents_tokens:\n",
    "            documents_tokens.append(token_list) #se a lista de tokens não constar na lista de frases, é adicionada\n",
    "            \n",
    "        for token in token_list:\n",
    "            if token not in vocabulary and token.isalnum(): # se o token não já constar no vocabulario, adiciona no vocabulario\n",
    "                vocabulary.add(token)"
   ]
  },
  {
   "cell_type": "code",
   "execution_count": 10,
   "id": "33d71fc0-b84e-40f0-81cd-1a036ae8a8eb",
   "metadata": {},
   "outputs": [
    {
     "data": {
      "text/plain": [
       "1565"
      ]
     },
     "execution_count": 10,
     "metadata": {},
     "output_type": "execute_result"
    }
   ],
   "source": [
    "len(vocabulary) #Tamanho do vocabulario "
   ]
  },
  {
   "cell_type": "code",
   "execution_count": 11,
   "id": "afa25721-229c-4869-b43f-f4bbe546ee50",
   "metadata": {},
   "outputs": [
    {
     "data": {
      "text/plain": [
       "20"
      ]
     },
     "execution_count": 11,
     "metadata": {},
     "output_type": "execute_result"
    }
   ],
   "source": [
    "len(documents_tokens) #Tamanho da lista de frases"
   ]
  },
  {
   "cell_type": "code",
   "execution_count": 18,
   "id": "37e92873-7191-4329-a391-ed65be0fee6c",
   "metadata": {},
   "outputs": [
    {
     "name": "stdout",
     "output_type": "stream",
     "text": [
      "['b', 'k', '1', '3', 'á', '2', '5', '7', 'f']\n"
     ]
    }
   ],
   "source": [
    "print([v for v in vocabulary if len(v) == 1]) #Tokens indesejados"
   ]
  }
 ],
 "metadata": {
  "kernelspec": {
   "display_name": "cesarnlp:Python",
   "language": "python",
   "name": "conda-env-cesarnlp-py"
  },
  "language_info": {
   "codemirror_mode": {
    "name": "ipython",
    "version": 3
   },
   "file_extension": ".py",
   "mimetype": "text/x-python",
   "name": "python",
   "nbconvert_exporter": "python",
   "pygments_lexer": "ipython3",
   "version": "3.11.0"
  }
 },
 "nbformat": 4,
 "nbformat_minor": 5
}
