{
 "cells": [
  {
   "cell_type": "markdown",
   "id": "edb27a52-25b6-4e39-bf35-d3a27ea8bde5",
   "metadata": {},
   "source": [
    "## Obtenção de dados\n",
    "\n",
    "Scrapping repositório UFPE"
   ]
  },
  {
   "cell_type": "markdown",
   "id": "d7128e1a-174b-4d2a-abad-44c055e31183",
   "metadata": {},
   "source": [
    "### Requirements"
   ]
  },
  {
   "cell_type": "code",
   "execution_count": 1,
   "id": "61e33ab6-d4a9-49b5-9217-2b192cc2f1b6",
   "metadata": {},
   "outputs": [],
   "source": [
    "import requests\n",
    "from bs4 import BeautifulSoup\n",
    "import json"
   ]
  },
  {
   "cell_type": "markdown",
   "id": "1b778dbf-ce3e-455f-b1ec-8e67fd183a0e",
   "metadata": {},
   "source": [
    "### Funções Auxiliares"
   ]
  },
  {
   "cell_type": "code",
   "execution_count": 2,
   "id": "1224a040-d0a7-4fa7-9aee-765b18d18cc7",
   "metadata": {},
   "outputs": [],
   "source": [
    "def read_page_get_links(keywords: str) -> \"list\":\n",
    "    \"\"\"\n",
    "    Recebe a query como input e retorna os links disponiveis na primeira página do repositório da UFPE.\n",
    "    \n",
    "    Exemplo de query:\n",
    "    \n",
    "    \"machine+learning\"\n",
    "    \n",
    "    Os espaços devem ser representados por um \"+\" #TODO: Melhorar este formato de query \n",
    "    \n",
    "    \"\"\"\n",
    "    response = requests.get(\"https://repositorio.ufpe.br/simple-search?query={}\".format(keywords))\n",
    "    soup = BeautifulSoup(response.text.strip(), 'html.parser')\n",
    "    tags = soup.find_all(name='table')\n",
    "    tag_table = tags[0]\n",
    "    tags_a = tag_table.find_all(name='a')\n",
    "    \n",
    "    urls = []\n",
    "    \n",
    "    for i in range(0, len(tags_a), 2):\n",
    "        link = tags_a[i][\"href\"]\n",
    "        urls.append(link)\n",
    "    \n",
    "    return urls"
   ]
  },
  {
   "cell_type": "code",
   "execution_count": 3,
   "id": "27f3cfbc-5e7d-4075-967c-85d88fa90a7e",
   "metadata": {},
   "outputs": [],
   "source": [
    "def read_table_get_title_and_abstract(info_table: str) -> \"dict\":\n",
    "    \"\"\"\n",
    "    Recebe uma tabela de informações HTML e extrai o title e abstract\n",
    "    \n",
    "    \"\"\"\n",
    "    all_titles = info_table.find_all(name='td', attrs={'class': 'dc_title'})\n",
    "    title = all_titles[-1].contents[0]\n",
    "\n",
    "    all_abst = info_table.find_all(name='td', attrs={'class': 'dc_description_abstract'})\n",
    "    abst = all_abst[-1].contents[0]\n",
    "\n",
    "    dict_thesis_info = {}\n",
    "    dict_thesis_info = {\n",
    "        'title': title,\n",
    "        'abstract': abst,\n",
    "    }\n",
    "    return dict_thesis_info"
   ]
  },
  {
   "cell_type": "markdown",
   "id": "7ebd1934-1625-48ed-bf62-5608c283d720",
   "metadata": {},
   "source": [
    "### Scrapping"
   ]
  },
  {
   "cell_type": "code",
   "execution_count": 4,
   "id": "3568143e-5363-40ac-a029-65264832a138",
   "metadata": {},
   "outputs": [],
   "source": [
    "urls = read_page_get_links(\"economia+brasileira\")"
   ]
  },
  {
   "cell_type": "code",
   "execution_count": 5,
   "id": "3baecf06-fbcc-4f39-8842-0223f289ab96",
   "metadata": {},
   "outputs": [],
   "source": [
    "info_table = []\n",
    "\n",
    "for url in urls:\n",
    "    response = requests.get(f'https://repositorio.ufpe.br/{url}', allow_redirects=True)\n",
    "    soup = BeautifulSoup(response.text.strip(), 'html.parser')\n",
    "    tags_table = soup.find_all(name='table', attrs={'class': 'itemDisplayTable'})\n",
    "    info_table.append(tags_table[0])"
   ]
  },
  {
   "cell_type": "markdown",
   "id": "248ec2f9-7442-4d06-9b7f-72fd79881362",
   "metadata": {},
   "source": [
    "### Saving files"
   ]
  },
  {
   "cell_type": "code",
   "execution_count": 6,
   "id": "13db3877-7f82-47c0-b982-943a75c42fcc",
   "metadata": {},
   "outputs": [],
   "source": [
    "counter = 1\n",
    "\n",
    "for table in info_table:\n",
    "    output = read_table_get_title_and_abstract(table)\n",
    "    \n",
    "    \n",
    "    # Criar a estrutura de pastas antes de executar a celula\n",
    "    with open(f\"./output/economiabrasileira/thesis{counter}.json\", 'w') as json_file:\n",
    "        json.dump(output, json_file) #TODO: Automatizar a criação das pastas\n",
    "        \n",
    "    counter = counter + 1"
   ]
  }
 ],
 "metadata": {
  "kernelspec": {
   "display_name": "cesarnlp:Python",
   "language": "python",
   "name": "conda-env-cesarnlp-py"
  },
  "language_info": {
   "codemirror_mode": {
    "name": "ipython",
    "version": 3
   },
   "file_extension": ".py",
   "mimetype": "text/x-python",
   "name": "python",
   "nbconvert_exporter": "python",
   "pygments_lexer": "ipython3",
   "version": "3.11.0"
  }
 },
 "nbformat": 4,
 "nbformat_minor": 5
}
