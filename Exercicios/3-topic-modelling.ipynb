{
 "cells": [
  {
   "cell_type": "markdown",
   "id": "a9d93b79-111e-44ff-b926-ee9f35807c26",
   "metadata": {},
   "source": [
    "# Modelagem de Características, Análise de Tópicos, Classificação de Texto e Recuperação de Informação"
   ]
  },
  {
   "cell_type": "markdown",
   "id": "364ba355-ba1a-44fa-9ca8-c982e2613e9b",
   "metadata": {},
   "source": [
    "Aluno: João França\n",
    "\n",
    "Profesor: Leonardo Neri"
   ]
  },
  {
   "cell_type": "markdown",
   "id": "74e445eb-0a65-4e21-a8d9-a95d76c6e8e1",
   "metadata": {},
   "source": [
    "## Introdução"
   ]
  },
  {
   "cell_type": "markdown",
   "id": "319ae434-46e7-4bb7-a0fb-9c5036293b0a",
   "metadata": {},
   "source": [
    "A representação de texto em forma numérica é uma etapa importante na análise de dados textuais. Diferentes técnicas podem ser utilizadas para converter os textos em números de forma a facilitar a aplicação de algoritmos de machine learning. Algumas das técnicas mais comuns incluem Latent Semantic Analysis (LSA), Word2Vec e Non-Negative Matrix Factorization (NMF).\n",
    "\n",
    "No presente estudo, o objetivo foi modelar caracteristicas e avaliar o desempenho de um classificador Random Forest utilizando essas três técnicas de representação de texto. O conjunto de dados utilizado consistiu em textos de diferentes categorias, extraidos de teses do repositório da UFPE através de web scrapping. O objetivo foi prever a categoria de cada texto a partir de sua representação numérica. Os resultados foram comparados e discutidos a fim de determinar qual das técnicas apresentou o melhor desempenho."
   ]
  },
  {
   "cell_type": "markdown",
   "id": "1d420e52-9825-48e2-a6d8-7dd7a3505f8f",
   "metadata": {},
   "source": [
    "## Leitura e Preprocessamento dos Dados"
   ]
  },
  {
   "cell_type": "markdown",
   "id": "c38be862-1694-4df6-9d60-2539fd6564fd",
   "metadata": {},
   "source": [
    "### Requirements"
   ]
  },
  {
   "cell_type": "code",
   "execution_count": 1,
   "id": "c23515ad-3bcb-4050-88f3-debb020ae7b0",
   "metadata": {},
   "outputs": [
    {
     "name": "stderr",
     "output_type": "stream",
     "text": [
      "[nltk_data] Downloading package stopwords to /home/studio-lab-\n",
      "[nltk_data]     user/nltk_data...\n",
      "[nltk_data]   Unzipping corpora/stopwords.zip.\n",
      "[nltk_data] Downloading package punkt to /home/studio-lab-\n",
      "[nltk_data]     user/nltk_data...\n",
      "[nltk_data]   Package punkt is already up-to-date!\n"
     ]
    },
    {
     "data": {
      "text/plain": [
       "True"
      ]
     },
     "execution_count": 1,
     "metadata": {},
     "output_type": "execute_result"
    }
   ],
   "source": [
    "import pandas as pd\n",
    "import numpy as np\n",
    "import os\n",
    "import glob\n",
    "import nltk\n",
    "from nltk.corpus import stopwords\n",
    "from nltk.tokenize import word_tokenize\n",
    "from nltk.tokenize.treebank import TreebankWordDetokenizer\n",
    "from sklearn.feature_extraction.text import CountVectorizer, TfidfTransformer\n",
    "from sklearn.metrics import pairwise_distances\n",
    "import matplotlib.pyplot as plt\n",
    "import seaborn as sns\n",
    "from unidecode import unidecode\n",
    "import altair as alt\n",
    "import re\n",
    "from pathlib import Path \n",
    "from sklearn.decomposition import PCA\n",
    "from sklearn.ensemble import RandomForestClassifier\n",
    "from sklearn.metrics import classification_report\n",
    "from sklearn.model_selection import train_test_split\n",
    "from sklearn.decomposition import TruncatedSVD, NMF\n",
    "\n",
    "nltk.download('stopwords')\n",
    "nltk.download('punkt')"
   ]
  },
  {
   "cell_type": "markdown",
   "id": "242273a0-e751-42bd-9f5d-f0c3230996d4",
   "metadata": {},
   "source": [
    "### Leitura e Concatenação "
   ]
  },
  {
   "cell_type": "markdown",
   "id": "d01c56e8-8aca-466a-b314-08cc18838b0e",
   "metadata": {},
   "source": [
    "Os dados foram extraidos e salvos previamente neste repositório, o código está disponível em: https://github.com/joaofranca13/CESAR-NLP/blob/main/Exercicios/1-coleta-de-dados.ipynb"
   ]
  },
  {
   "cell_type": "code",
   "execution_count": 2,
   "id": "9747a1eb-480a-44bd-b93f-47e5c6e338ea",
   "metadata": {},
   "outputs": [],
   "source": [
    "path = os.getcwd()\n",
    "files = glob.glob(os.path.join(path, \"output/*/*.json\"))"
   ]
  },
  {
   "cell_type": "code",
   "execution_count": 3,
   "id": "f0969fc3-102b-47b3-8425-56cedfc1759e",
   "metadata": {},
   "outputs": [],
   "source": [
    "jsons = [pd.read_json(file, lines=True) for file in files]\n",
    "df = pd.concat(jsons, ignore_index=True)\n",
    "\n",
    "df[\"subject\"] = [os.path.split(os.path.dirname(file))[-1] for file in files]"
   ]
  },
  {
   "cell_type": "code",
   "execution_count": 4,
   "id": "352a142f-36fa-4299-84c5-450b0085beb4",
   "metadata": {},
   "outputs": [
    {
     "data": {
      "text/html": [
       "<div>\n",
       "<style scoped>\n",
       "    .dataframe tbody tr th:only-of-type {\n",
       "        vertical-align: middle;\n",
       "    }\n",
       "\n",
       "    .dataframe tbody tr th {\n",
       "        vertical-align: top;\n",
       "    }\n",
       "\n",
       "    .dataframe thead th {\n",
       "        text-align: right;\n",
       "    }\n",
       "</style>\n",
       "<table border=\"1\" class=\"dataframe\">\n",
       "  <thead>\n",
       "    <tr style=\"text-align: right;\">\n",
       "      <th></th>\n",
       "      <th>title</th>\n",
       "      <th>abstract</th>\n",
       "      <th>subject</th>\n",
       "    </tr>\n",
       "  </thead>\n",
       "  <tbody>\n",
       "    <tr>\n",
       "      <th>0</th>\n",
       "      <td>Modelagem de reforma catalítica seca de metano...</td>\n",
       "      <td>Estamos vivenciando o início da Era da Informa...</td>\n",
       "      <td>machinelearning</td>\n",
       "    </tr>\n",
       "    <tr>\n",
       "      <th>1</th>\n",
       "      <td>Aplicação de machine learning para apostas esp...</td>\n",
       "      <td>As práticas esportivas surgiram de atividades ...</td>\n",
       "      <td>machinelearning</td>\n",
       "    </tr>\n",
       "    <tr>\n",
       "      <th>2</th>\n",
       "      <td>Social machines: a unified paradigm to describ...</td>\n",
       "      <td>The open, distributed approach of the Web and ...</td>\n",
       "      <td>machinelearning</td>\n",
       "    </tr>\n",
       "    <tr>\n",
       "      <th>3</th>\n",
       "      <td>Um método de aprendizagem seqüencial com filtr...</td>\n",
       "      <td>Em aplicações de aprendizagem de máquina, é co...</td>\n",
       "      <td>machinelearning</td>\n",
       "    </tr>\n",
       "    <tr>\n",
       "      <th>4</th>\n",
       "      <td>Development of machine and deep learning based...</td>\n",
       "      <td>Artificial intelligence-based algorithms have ...</td>\n",
       "      <td>machinelearning</td>\n",
       "    </tr>\n",
       "  </tbody>\n",
       "</table>\n",
       "</div>"
      ],
      "text/plain": [
       "                                               title  \\\n",
       "0  Modelagem de reforma catalítica seca de metano...   \n",
       "1  Aplicação de machine learning para apostas esp...   \n",
       "2  Social machines: a unified paradigm to describ...   \n",
       "3  Um método de aprendizagem seqüencial com filtr...   \n",
       "4  Development of machine and deep learning based...   \n",
       "\n",
       "                                            abstract          subject  \n",
       "0  Estamos vivenciando o início da Era da Informa...  machinelearning  \n",
       "1  As práticas esportivas surgiram de atividades ...  machinelearning  \n",
       "2  The open, distributed approach of the Web and ...  machinelearning  \n",
       "3  Em aplicações de aprendizagem de máquina, é co...  machinelearning  \n",
       "4  Artificial intelligence-based algorithms have ...  machinelearning  "
      ]
     },
     "execution_count": 4,
     "metadata": {},
     "output_type": "execute_result"
    }
   ],
   "source": [
    "df.head()"
   ]
  },
  {
   "cell_type": "code",
   "execution_count": 5,
   "id": "742c72ce-c5a2-410b-bdc1-f023a35970ea",
   "metadata": {},
   "outputs": [],
   "source": [
    "df['input'] = df.title + \" \" + df.abstract"
   ]
  },
  {
   "cell_type": "code",
   "execution_count": 6,
   "id": "8688808d-a1de-431d-b0ad-19499434b984",
   "metadata": {},
   "outputs": [
    {
     "data": {
      "text/html": [
       "<div>\n",
       "<style scoped>\n",
       "    .dataframe tbody tr th:only-of-type {\n",
       "        vertical-align: middle;\n",
       "    }\n",
       "\n",
       "    .dataframe tbody tr th {\n",
       "        vertical-align: top;\n",
       "    }\n",
       "\n",
       "    .dataframe thead th {\n",
       "        text-align: right;\n",
       "    }\n",
       "</style>\n",
       "<table border=\"1\" class=\"dataframe\">\n",
       "  <thead>\n",
       "    <tr style=\"text-align: right;\">\n",
       "      <th></th>\n",
       "      <th>title</th>\n",
       "      <th>abstract</th>\n",
       "      <th>subject</th>\n",
       "      <th>input</th>\n",
       "    </tr>\n",
       "  </thead>\n",
       "  <tbody>\n",
       "    <tr>\n",
       "      <th>0</th>\n",
       "      <td>Modelagem de reforma catalítica seca de metano...</td>\n",
       "      <td>Estamos vivenciando o início da Era da Informa...</td>\n",
       "      <td>machinelearning</td>\n",
       "      <td>Modelagem de reforma catalítica seca de metano...</td>\n",
       "    </tr>\n",
       "    <tr>\n",
       "      <th>1</th>\n",
       "      <td>Aplicação de machine learning para apostas esp...</td>\n",
       "      <td>As práticas esportivas surgiram de atividades ...</td>\n",
       "      <td>machinelearning</td>\n",
       "      <td>Aplicação de machine learning para apostas esp...</td>\n",
       "    </tr>\n",
       "    <tr>\n",
       "      <th>2</th>\n",
       "      <td>Social machines: a unified paradigm to describ...</td>\n",
       "      <td>The open, distributed approach of the Web and ...</td>\n",
       "      <td>machinelearning</td>\n",
       "      <td>Social machines: a unified paradigm to describ...</td>\n",
       "    </tr>\n",
       "    <tr>\n",
       "      <th>3</th>\n",
       "      <td>Um método de aprendizagem seqüencial com filtr...</td>\n",
       "      <td>Em aplicações de aprendizagem de máquina, é co...</td>\n",
       "      <td>machinelearning</td>\n",
       "      <td>Um método de aprendizagem seqüencial com filtr...</td>\n",
       "    </tr>\n",
       "    <tr>\n",
       "      <th>4</th>\n",
       "      <td>Development of machine and deep learning based...</td>\n",
       "      <td>Artificial intelligence-based algorithms have ...</td>\n",
       "      <td>machinelearning</td>\n",
       "      <td>Development of machine and deep learning based...</td>\n",
       "    </tr>\n",
       "  </tbody>\n",
       "</table>\n",
       "</div>"
      ],
      "text/plain": [
       "                                               title  \\\n",
       "0  Modelagem de reforma catalítica seca de metano...   \n",
       "1  Aplicação de machine learning para apostas esp...   \n",
       "2  Social machines: a unified paradigm to describ...   \n",
       "3  Um método de aprendizagem seqüencial com filtr...   \n",
       "4  Development of machine and deep learning based...   \n",
       "\n",
       "                                            abstract          subject  \\\n",
       "0  Estamos vivenciando o início da Era da Informa...  machinelearning   \n",
       "1  As práticas esportivas surgiram de atividades ...  machinelearning   \n",
       "2  The open, distributed approach of the Web and ...  machinelearning   \n",
       "3  Em aplicações de aprendizagem de máquina, é co...  machinelearning   \n",
       "4  Artificial intelligence-based algorithms have ...  machinelearning   \n",
       "\n",
       "                                               input  \n",
       "0  Modelagem de reforma catalítica seca de metano...  \n",
       "1  Aplicação de machine learning para apostas esp...  \n",
       "2  Social machines: a unified paradigm to describ...  \n",
       "3  Um método de aprendizagem seqüencial com filtr...  \n",
       "4  Development of machine and deep learning based...  "
      ]
     },
     "execution_count": 6,
     "metadata": {},
     "output_type": "execute_result"
    }
   ],
   "source": [
    "df.head()"
   ]
  },
  {
   "cell_type": "code",
   "execution_count": 7,
   "id": "6641be4b-fcc9-4ca9-ae2b-32d040564a2c",
   "metadata": {},
   "outputs": [
    {
     "data": {
      "text/html": [
       "<div>\n",
       "<style scoped>\n",
       "    .dataframe tbody tr th:only-of-type {\n",
       "        vertical-align: middle;\n",
       "    }\n",
       "\n",
       "    .dataframe tbody tr th {\n",
       "        vertical-align: top;\n",
       "    }\n",
       "\n",
       "    .dataframe thead th {\n",
       "        text-align: right;\n",
       "    }\n",
       "</style>\n",
       "<table border=\"1\" class=\"dataframe\">\n",
       "  <thead>\n",
       "    <tr style=\"text-align: right;\">\n",
       "      <th></th>\n",
       "      <th>title</th>\n",
       "      <th>abstract</th>\n",
       "      <th>subject</th>\n",
       "      <th>input</th>\n",
       "    </tr>\n",
       "  </thead>\n",
       "  <tbody>\n",
       "    <tr>\n",
       "      <th>count</th>\n",
       "      <td>60</td>\n",
       "      <td>60</td>\n",
       "      <td>60</td>\n",
       "      <td>60</td>\n",
       "    </tr>\n",
       "    <tr>\n",
       "      <th>unique</th>\n",
       "      <td>60</td>\n",
       "      <td>60</td>\n",
       "      <td>6</td>\n",
       "      <td>60</td>\n",
       "    </tr>\n",
       "    <tr>\n",
       "      <th>top</th>\n",
       "      <td>Modelagem de reforma catalítica seca de metano...</td>\n",
       "      <td>Estamos vivenciando o início da Era da Informa...</td>\n",
       "      <td>machinelearning</td>\n",
       "      <td>Modelagem de reforma catalítica seca de metano...</td>\n",
       "    </tr>\n",
       "    <tr>\n",
       "      <th>freq</th>\n",
       "      <td>1</td>\n",
       "      <td>1</td>\n",
       "      <td>10</td>\n",
       "      <td>1</td>\n",
       "    </tr>\n",
       "  </tbody>\n",
       "</table>\n",
       "</div>"
      ],
      "text/plain": [
       "                                                    title  \\\n",
       "count                                                  60   \n",
       "unique                                                 60   \n",
       "top     Modelagem de reforma catalítica seca de metano...   \n",
       "freq                                                    1   \n",
       "\n",
       "                                                 abstract          subject  \\\n",
       "count                                                  60               60   \n",
       "unique                                                 60                6   \n",
       "top     Estamos vivenciando o início da Era da Informa...  machinelearning   \n",
       "freq                                                    1               10   \n",
       "\n",
       "                                                    input  \n",
       "count                                                  60  \n",
       "unique                                                 60  \n",
       "top     Modelagem de reforma catalítica seca de metano...  \n",
       "freq                                                    1  "
      ]
     },
     "execution_count": 7,
     "metadata": {},
     "output_type": "execute_result"
    }
   ],
   "source": [
    "df.describe()"
   ]
  },
  {
   "cell_type": "markdown",
   "id": "751c63d4-4ca9-47df-9b3c-b5b0698355e7",
   "metadata": {},
   "source": [
    "### Stopwords\n",
    "\n",
    "English and portuguese"
   ]
  },
  {
   "cell_type": "code",
   "execution_count": 8,
   "id": "1e5cf81b-03ee-4b28-976d-470a20bd3aad",
   "metadata": {},
   "outputs": [],
   "source": [
    "languages = ['english', 'portuguese']"
   ]
  },
  {
   "cell_type": "code",
   "execution_count": 9,
   "id": "23a44b9f-4b5f-4cca-8916-bde7ab1b4262",
   "metadata": {},
   "outputs": [
    {
     "name": "stdout",
     "output_type": "stream",
     "text": [
      "['i', 'me', 'my', 'myself', 'we', 'our', 'ours', 'ourselves', 'you', \"you're\"]\n",
      "['tivessem', 'tivéssemos', 'tu', 'tua', 'tuas', 'um', 'uma', 'você', 'vocês', 'vos']\n"
     ]
    }
   ],
   "source": [
    "list_stop = stopwords.words(languages)\n",
    "print(list_stop[:10])\n",
    "print(list_stop[-10:])"
   ]
  },
  {
   "cell_type": "markdown",
   "id": "3137a9ac-cba8-45b1-ad48-64fbf163fd98",
   "metadata": {},
   "source": [
    "### Preprocessing"
   ]
  },
  {
   "cell_type": "code",
   "execution_count": 10,
   "id": "85790c74-50a1-4138-a0fb-4d1c79ed05ae",
   "metadata": {},
   "outputs": [],
   "source": [
    "corpus = df.input.copy()\n",
    "preprocessed_corpus = []\n",
    "\n",
    "for abstract in corpus:\n",
    "    \n",
    "    # Remove all the special characters\n",
    "    document = re.sub(r'\\W', ' ', str(abstract))\n",
    "    \n",
    "    # remove all single characters\n",
    "    document = re.sub(r'\\s+[a-zA-Z]\\s+', ' ', document)\n",
    "    \n",
    "    # Remove single characters from the start\n",
    "    document = re.sub(r'\\^[a-zA-Z]\\s+', ' ', document) \n",
    "    \n",
    "    # Substituting multiple spaces with single space\n",
    "    document = re.sub(r'\\s+', ' ', document, flags=re.I)\n",
    "    \n",
    "    # Removing prefixed 'b'\n",
    "    document = re.sub(r'^b\\s+', '', document)\n",
    "    \n",
    "    # Converting to Lowercase\n",
    "    document = document.lower()\n",
    "    \n",
    "    #Normalize\n",
    "    document = unidecode(document)\n",
    "    \n",
    "    document = document.split()\n",
    "    \n",
    "    document = [word for word in document if word not in list_stop and word.isalpha()]\n",
    "    \n",
    "    document = \" \".join(document)\n",
    "        \n",
    "    preprocessed_corpus.append(document)"
   ]
  },
  {
   "cell_type": "code",
   "execution_count": 11,
   "id": "3a47650f-9881-43ae-9ab8-0537783dcd7b",
   "metadata": {},
   "outputs": [
    {
     "name": "stdout",
     "output_type": "stream",
     "text": [
      "60\n",
      "60\n"
     ]
    }
   ],
   "source": [
    "print(len(corpus))\n",
    "print(len(preprocessed_corpus))"
   ]
  },
  {
   "cell_type": "markdown",
   "id": "99b40325-4c39-4181-a18e-05d0bece0b6f",
   "metadata": {},
   "source": [
    "### Feature Extration"
   ]
  },
  {
   "cell_type": "code",
   "execution_count": 12,
   "id": "ab657cd0-cc54-47b2-9452-4e7e76ac19fa",
   "metadata": {},
   "outputs": [
    {
     "data": {
      "text/html": [
       "<style>#sk-container-id-1 {color: black;background-color: white;}#sk-container-id-1 pre{padding: 0;}#sk-container-id-1 div.sk-toggleable {background-color: white;}#sk-container-id-1 label.sk-toggleable__label {cursor: pointer;display: block;width: 100%;margin-bottom: 0;padding: 0.3em;box-sizing: border-box;text-align: center;}#sk-container-id-1 label.sk-toggleable__label-arrow:before {content: \"▸\";float: left;margin-right: 0.25em;color: #696969;}#sk-container-id-1 label.sk-toggleable__label-arrow:hover:before {color: black;}#sk-container-id-1 div.sk-estimator:hover label.sk-toggleable__label-arrow:before {color: black;}#sk-container-id-1 div.sk-toggleable__content {max-height: 0;max-width: 0;overflow: hidden;text-align: left;background-color: #f0f8ff;}#sk-container-id-1 div.sk-toggleable__content pre {margin: 0.2em;color: black;border-radius: 0.25em;background-color: #f0f8ff;}#sk-container-id-1 input.sk-toggleable__control:checked~div.sk-toggleable__content {max-height: 200px;max-width: 100%;overflow: auto;}#sk-container-id-1 input.sk-toggleable__control:checked~label.sk-toggleable__label-arrow:before {content: \"▾\";}#sk-container-id-1 div.sk-estimator input.sk-toggleable__control:checked~label.sk-toggleable__label {background-color: #d4ebff;}#sk-container-id-1 div.sk-label input.sk-toggleable__control:checked~label.sk-toggleable__label {background-color: #d4ebff;}#sk-container-id-1 input.sk-hidden--visually {border: 0;clip: rect(1px 1px 1px 1px);clip: rect(1px, 1px, 1px, 1px);height: 1px;margin: -1px;overflow: hidden;padding: 0;position: absolute;width: 1px;}#sk-container-id-1 div.sk-estimator {font-family: monospace;background-color: #f0f8ff;border: 1px dotted black;border-radius: 0.25em;box-sizing: border-box;margin-bottom: 0.5em;}#sk-container-id-1 div.sk-estimator:hover {background-color: #d4ebff;}#sk-container-id-1 div.sk-parallel-item::after {content: \"\";width: 100%;border-bottom: 1px solid gray;flex-grow: 1;}#sk-container-id-1 div.sk-label:hover label.sk-toggleable__label {background-color: #d4ebff;}#sk-container-id-1 div.sk-serial::before {content: \"\";position: absolute;border-left: 1px solid gray;box-sizing: border-box;top: 0;bottom: 0;left: 50%;z-index: 0;}#sk-container-id-1 div.sk-serial {display: flex;flex-direction: column;align-items: center;background-color: white;padding-right: 0.2em;padding-left: 0.2em;position: relative;}#sk-container-id-1 div.sk-item {position: relative;z-index: 1;}#sk-container-id-1 div.sk-parallel {display: flex;align-items: stretch;justify-content: center;background-color: white;position: relative;}#sk-container-id-1 div.sk-item::before, #sk-container-id-1 div.sk-parallel-item::before {content: \"\";position: absolute;border-left: 1px solid gray;box-sizing: border-box;top: 0;bottom: 0;left: 50%;z-index: -1;}#sk-container-id-1 div.sk-parallel-item {display: flex;flex-direction: column;z-index: 1;position: relative;background-color: white;}#sk-container-id-1 div.sk-parallel-item:first-child::after {align-self: flex-end;width: 50%;}#sk-container-id-1 div.sk-parallel-item:last-child::after {align-self: flex-start;width: 50%;}#sk-container-id-1 div.sk-parallel-item:only-child::after {width: 0;}#sk-container-id-1 div.sk-dashed-wrapped {border: 1px dashed gray;margin: 0 0.4em 0.5em 0.4em;box-sizing: border-box;padding-bottom: 0.4em;background-color: white;}#sk-container-id-1 div.sk-label label {font-family: monospace;font-weight: bold;display: inline-block;line-height: 1.2em;}#sk-container-id-1 div.sk-label-container {text-align: center;}#sk-container-id-1 div.sk-container {/* jupyter's `normalize.less` sets `[hidden] { display: none; }` but bootstrap.min.css set `[hidden] { display: none !important; }` so we also need the `!important` here to be able to override the default hidden behavior on the sphinx rendered scikit-learn.org. See: https://github.com/scikit-learn/scikit-learn/issues/21755 */display: inline-block !important;position: relative;}#sk-container-id-1 div.sk-text-repr-fallback {display: none;}</style><div id=\"sk-container-id-1\" class=\"sk-top-container\"><div class=\"sk-text-repr-fallback\"><pre>CountVectorizer(max_df=0.99, min_df=0.05,\n",
       "                stop_words=[&#x27;i&#x27;, &#x27;me&#x27;, &#x27;my&#x27;, &#x27;myself&#x27;, &#x27;we&#x27;, &#x27;our&#x27;, &#x27;ours&#x27;,\n",
       "                            &#x27;ourselves&#x27;, &#x27;you&#x27;, &quot;you&#x27;re&quot;, &quot;you&#x27;ve&quot;, &quot;you&#x27;ll&quot;,\n",
       "                            &quot;you&#x27;d&quot;, &#x27;your&#x27;, &#x27;yours&#x27;, &#x27;yourself&#x27;, &#x27;yourselves&#x27;,\n",
       "                            &#x27;he&#x27;, &#x27;him&#x27;, &#x27;his&#x27;, &#x27;himself&#x27;, &#x27;she&#x27;, &quot;she&#x27;s&quot;,\n",
       "                            &#x27;her&#x27;, &#x27;hers&#x27;, &#x27;herself&#x27;, &#x27;it&#x27;, &quot;it&#x27;s&quot;, &#x27;its&#x27;,\n",
       "                            &#x27;itself&#x27;, ...])</pre><b>In a Jupyter environment, please rerun this cell to show the HTML representation or trust the notebook. <br />On GitHub, the HTML representation is unable to render, please try loading this page with nbviewer.org.</b></div><div class=\"sk-container\" hidden><div class=\"sk-item\"><div class=\"sk-estimator sk-toggleable\"><input class=\"sk-toggleable__control sk-hidden--visually\" id=\"sk-estimator-id-1\" type=\"checkbox\" checked><label for=\"sk-estimator-id-1\" class=\"sk-toggleable__label sk-toggleable__label-arrow\">CountVectorizer</label><div class=\"sk-toggleable__content\"><pre>CountVectorizer(max_df=0.99, min_df=0.05,\n",
       "                stop_words=[&#x27;i&#x27;, &#x27;me&#x27;, &#x27;my&#x27;, &#x27;myself&#x27;, &#x27;we&#x27;, &#x27;our&#x27;, &#x27;ours&#x27;,\n",
       "                            &#x27;ourselves&#x27;, &#x27;you&#x27;, &quot;you&#x27;re&quot;, &quot;you&#x27;ve&quot;, &quot;you&#x27;ll&quot;,\n",
       "                            &quot;you&#x27;d&quot;, &#x27;your&#x27;, &#x27;yours&#x27;, &#x27;yourself&#x27;, &#x27;yourselves&#x27;,\n",
       "                            &#x27;he&#x27;, &#x27;him&#x27;, &#x27;his&#x27;, &#x27;himself&#x27;, &#x27;she&#x27;, &quot;she&#x27;s&quot;,\n",
       "                            &#x27;her&#x27;, &#x27;hers&#x27;, &#x27;herself&#x27;, &#x27;it&#x27;, &quot;it&#x27;s&quot;, &#x27;its&#x27;,\n",
       "                            &#x27;itself&#x27;, ...])</pre></div></div></div></div></div>"
      ],
      "text/plain": [
       "CountVectorizer(max_df=0.99, min_df=0.05,\n",
       "                stop_words=['i', 'me', 'my', 'myself', 'we', 'our', 'ours',\n",
       "                            'ourselves', 'you', \"you're\", \"you've\", \"you'll\",\n",
       "                            \"you'd\", 'your', 'yours', 'yourself', 'yourselves',\n",
       "                            'he', 'him', 'his', 'himself', 'she', \"she's\",\n",
       "                            'her', 'hers', 'herself', 'it', \"it's\", 'its',\n",
       "                            'itself', ...])"
      ]
     },
     "execution_count": 12,
     "metadata": {},
     "output_type": "execute_result"
    }
   ],
   "source": [
    "count_vect = CountVectorizer(stop_words=list_stop, min_df=0.05, max_df=0.99)\n",
    "count_vect.fit(preprocessed_corpus)"
   ]
  },
  {
   "cell_type": "code",
   "execution_count": 13,
   "id": "0d122bd3-9c38-4baa-955d-bf9fc9a5711f",
   "metadata": {},
   "outputs": [
    {
     "name": "stdout",
     "output_type": "stream",
     "text": [
      "Tamanho do vocabulário:  584\n",
      "Quantidade total de palavras:  170236\n"
     ]
    }
   ],
   "source": [
    "print('Tamanho do vocabulário: ', len(count_vect.vocabulary_))\n",
    "counter = 0\n",
    "for _, count in count_vect.vocabulary_.items():\n",
    "    counter += count\n",
    "    \n",
    "print('Quantidade total de palavras: ', counter)"
   ]
  },
  {
   "cell_type": "markdown",
   "id": "b96045e6-67d5-499f-83a2-d85f0c18d20f",
   "metadata": {},
   "source": [
    "#### TF-IDF"
   ]
  },
  {
   "cell_type": "code",
   "execution_count": 14,
   "id": "e7ee0ad9-4045-4020-b65c-c32241a68e71",
   "metadata": {},
   "outputs": [],
   "source": [
    "X = count_vect.transform(preprocessed_corpus)"
   ]
  },
  {
   "cell_type": "code",
   "execution_count": 15,
   "id": "67677d73-975e-40d2-a1bb-506db29e9a9f",
   "metadata": {},
   "outputs": [
    {
     "data": {
      "text/plain": [
       "(60, 584)"
      ]
     },
     "execution_count": 15,
     "metadata": {},
     "output_type": "execute_result"
    }
   ],
   "source": [
    "X.shape"
   ]
  },
  {
   "cell_type": "code",
   "execution_count": 16,
   "id": "d721ccdb-3e44-4b8c-a9fe-2d5a68b4f222",
   "metadata": {},
   "outputs": [
    {
     "data": {
      "text/html": [
       "<style>#sk-container-id-2 {color: black;background-color: white;}#sk-container-id-2 pre{padding: 0;}#sk-container-id-2 div.sk-toggleable {background-color: white;}#sk-container-id-2 label.sk-toggleable__label {cursor: pointer;display: block;width: 100%;margin-bottom: 0;padding: 0.3em;box-sizing: border-box;text-align: center;}#sk-container-id-2 label.sk-toggleable__label-arrow:before {content: \"▸\";float: left;margin-right: 0.25em;color: #696969;}#sk-container-id-2 label.sk-toggleable__label-arrow:hover:before {color: black;}#sk-container-id-2 div.sk-estimator:hover label.sk-toggleable__label-arrow:before {color: black;}#sk-container-id-2 div.sk-toggleable__content {max-height: 0;max-width: 0;overflow: hidden;text-align: left;background-color: #f0f8ff;}#sk-container-id-2 div.sk-toggleable__content pre {margin: 0.2em;color: black;border-radius: 0.25em;background-color: #f0f8ff;}#sk-container-id-2 input.sk-toggleable__control:checked~div.sk-toggleable__content {max-height: 200px;max-width: 100%;overflow: auto;}#sk-container-id-2 input.sk-toggleable__control:checked~label.sk-toggleable__label-arrow:before {content: \"▾\";}#sk-container-id-2 div.sk-estimator input.sk-toggleable__control:checked~label.sk-toggleable__label {background-color: #d4ebff;}#sk-container-id-2 div.sk-label input.sk-toggleable__control:checked~label.sk-toggleable__label {background-color: #d4ebff;}#sk-container-id-2 input.sk-hidden--visually {border: 0;clip: rect(1px 1px 1px 1px);clip: rect(1px, 1px, 1px, 1px);height: 1px;margin: -1px;overflow: hidden;padding: 0;position: absolute;width: 1px;}#sk-container-id-2 div.sk-estimator {font-family: monospace;background-color: #f0f8ff;border: 1px dotted black;border-radius: 0.25em;box-sizing: border-box;margin-bottom: 0.5em;}#sk-container-id-2 div.sk-estimator:hover {background-color: #d4ebff;}#sk-container-id-2 div.sk-parallel-item::after {content: \"\";width: 100%;border-bottom: 1px solid gray;flex-grow: 1;}#sk-container-id-2 div.sk-label:hover label.sk-toggleable__label {background-color: #d4ebff;}#sk-container-id-2 div.sk-serial::before {content: \"\";position: absolute;border-left: 1px solid gray;box-sizing: border-box;top: 0;bottom: 0;left: 50%;z-index: 0;}#sk-container-id-2 div.sk-serial {display: flex;flex-direction: column;align-items: center;background-color: white;padding-right: 0.2em;padding-left: 0.2em;position: relative;}#sk-container-id-2 div.sk-item {position: relative;z-index: 1;}#sk-container-id-2 div.sk-parallel {display: flex;align-items: stretch;justify-content: center;background-color: white;position: relative;}#sk-container-id-2 div.sk-item::before, #sk-container-id-2 div.sk-parallel-item::before {content: \"\";position: absolute;border-left: 1px solid gray;box-sizing: border-box;top: 0;bottom: 0;left: 50%;z-index: -1;}#sk-container-id-2 div.sk-parallel-item {display: flex;flex-direction: column;z-index: 1;position: relative;background-color: white;}#sk-container-id-2 div.sk-parallel-item:first-child::after {align-self: flex-end;width: 50%;}#sk-container-id-2 div.sk-parallel-item:last-child::after {align-self: flex-start;width: 50%;}#sk-container-id-2 div.sk-parallel-item:only-child::after {width: 0;}#sk-container-id-2 div.sk-dashed-wrapped {border: 1px dashed gray;margin: 0 0.4em 0.5em 0.4em;box-sizing: border-box;padding-bottom: 0.4em;background-color: white;}#sk-container-id-2 div.sk-label label {font-family: monospace;font-weight: bold;display: inline-block;line-height: 1.2em;}#sk-container-id-2 div.sk-label-container {text-align: center;}#sk-container-id-2 div.sk-container {/* jupyter's `normalize.less` sets `[hidden] { display: none; }` but bootstrap.min.css set `[hidden] { display: none !important; }` so we also need the `!important` here to be able to override the default hidden behavior on the sphinx rendered scikit-learn.org. See: https://github.com/scikit-learn/scikit-learn/issues/21755 */display: inline-block !important;position: relative;}#sk-container-id-2 div.sk-text-repr-fallback {display: none;}</style><div id=\"sk-container-id-2\" class=\"sk-top-container\"><div class=\"sk-text-repr-fallback\"><pre>TfidfTransformer()</pre><b>In a Jupyter environment, please rerun this cell to show the HTML representation or trust the notebook. <br />On GitHub, the HTML representation is unable to render, please try loading this page with nbviewer.org.</b></div><div class=\"sk-container\" hidden><div class=\"sk-item\"><div class=\"sk-estimator sk-toggleable\"><input class=\"sk-toggleable__control sk-hidden--visually\" id=\"sk-estimator-id-2\" type=\"checkbox\" checked><label for=\"sk-estimator-id-2\" class=\"sk-toggleable__label sk-toggleable__label-arrow\">TfidfTransformer</label><div class=\"sk-toggleable__content\"><pre>TfidfTransformer()</pre></div></div></div></div></div>"
      ],
      "text/plain": [
       "TfidfTransformer()"
      ]
     },
     "execution_count": 16,
     "metadata": {},
     "output_type": "execute_result"
    }
   ],
   "source": [
    "tfidf_transformer = TfidfTransformer()\n",
    "tfidf_transformer.fit(X)"
   ]
  },
  {
   "cell_type": "code",
   "execution_count": 17,
   "id": "40c12a9b-0232-4143-8288-51ec1f5c2b9d",
   "metadata": {},
   "outputs": [],
   "source": [
    "X_tfidf = tfidf_transformer.transform(X)"
   ]
  },
  {
   "cell_type": "code",
   "execution_count": 18,
   "id": "c2fc7de3-1c35-47bc-8f6b-471ac5881e12",
   "metadata": {},
   "outputs": [
    {
     "data": {
      "text/plain": [
       "(60, 584)"
      ]
     },
     "execution_count": 18,
     "metadata": {},
     "output_type": "execute_result"
    }
   ],
   "source": [
    "X_tfidf.shape"
   ]
  },
  {
   "cell_type": "code",
   "execution_count": 19,
   "id": "e64662b6-0383-4bb9-833c-a68fc56c0283",
   "metadata": {},
   "outputs": [
    {
     "data": {
      "text/plain": [
       "array(['abordagem', 'abordagens', 'acerca', 'acesso', 'acoes', 'acordo',\n",
       "       'adjacentes', 'adultos', 'agrupamento', 'agua', 'ainda', 'alem',\n",
       "       'algumas', 'alguns', 'aliada', 'alta', 'alteracoes', 'alto',\n",
       "       'ambas', 'ambientais', 'ambiental', 'ambiente', 'ambientes',\n",
       "       'ambos', 'analisada', 'analisadas', 'analisados', 'analisar',\n",
       "       'analise', 'analises', 'ano', 'anos', 'apenas', 'apesar',\n",
       "       'aplicacao', 'apontam', 'apos', 'aprendizagem', 'apresenta',\n",
       "       'apresentado', 'apresentam', 'apresentando', 'apresentar',\n",
       "       'apresentaram', 'apresentou', 'aproximadamente', 'aquecimento',\n",
       "       'area', 'areas', 'arquitetos', 'arquitetura', 'arte', 'artes',\n",
       "       'artigos', 'artisticos', 'aspectos', 'assim', 'ate', 'atencao',\n",
       "       'atividade', 'atividades', 'atlantica', 'atraves', 'aumento',\n",
       "       'avaliacao', 'avaliadas', 'avaliados', 'avaliar', 'avanco',\n",
       "       'baixa', 'baixo', 'base', 'bases', 'basica', 'basico', 'bem',\n",
       "       'bens', 'boa', 'brasil', 'brasileira', 'brasileiras', 'brasileiro',\n",
       "       'brasileiros', 'buscou', 'cada', 'campo', 'capacidade', 'capital',\n",
       "       'caracteristicas', 'caso', 'cenario', 'cidade', 'cinco',\n",
       "       'coletados', 'combinacao', 'comparacao', 'comparados',\n",
       "       'complexidade', 'complexo', 'componentes', 'comportamento',\n",
       "       'composta', 'compreende', 'compreensao', 'computacional',\n",
       "       'conclusao', 'condicao', 'condicoes', 'conectividade', 'conjunto',\n",
       "       'consequencias', 'consequentemente', 'conservacao', 'considerada',\n",
       "       'considerando', 'constatou', 'construcao', 'consumo', 'conteudo',\n",
       "       'context', 'contexto', 'contribuicao', 'contribuir', 'contribuiu',\n",
       "       'controle', 'contudo', 'correlacao', 'crescimento', 'criacao',\n",
       "       'crianca', 'criancas', 'crise', 'criterios', 'critico', 'dada',\n",
       "       'dados', 'datasets', 'debate', 'decadas', 'deep', 'demais',\n",
       "       'demanda', 'demonstraram', 'dentre', 'dentro', 'dependente',\n",
       "       'desempenho', 'desenvolver', 'desenvolvido', 'desenvolvimento',\n",
       "       'design', 'dessa', 'dessas', 'desse', 'desses', 'desta',\n",
       "       'destaque', 'destas', 'deste', 'destes', 'determinacao', 'deve',\n",
       "       'devem', 'devido', 'diferencas', 'diferenciacao', 'diferentes',\n",
       "       'different', 'dinamica', 'discussao', 'discussoes', 'disponiveis',\n",
       "       'dissertacao', 'disso', 'distancia', 'distribuicao', 'distrito',\n",
       "       'diversas', 'diversidade', 'dna', 'dois', 'duas', 'durante',\n",
       "       'economia', 'economias', 'economica', 'economico', 'economicos',\n",
       "       'educacao', 'efeito', 'efeitos', 'elementos', 'embora', 'encontra',\n",
       "       'encontrados', 'enquanto', 'entanto', 'entender', 'entendimento',\n",
       "       'entretanto', 'entrevistas', 'escala', 'espaco', 'espacos',\n",
       "       'especialmente', 'especie', 'especies', 'especificamente',\n",
       "       'estado', 'estados', 'estao', 'estimativa', 'estrategia',\n",
       "       'estrategias', 'estrutura', 'estruturacao', 'estuarios',\n",
       "       'estudada', 'estudar', 'estudo', 'estudos', 'etapa',\n",
       "       'evidenciando', 'exemplares', 'existencia', 'existente', 'familia',\n",
       "       'fase', 'fatores', 'fazer', 'federal', 'feita', 'fim', 'final',\n",
       "       'finalidade', 'fluxo', 'foco', 'forma', 'formacao', 'formas',\n",
       "       'fragmentacao', 'frente', 'fst', 'funcao', 'fundamental', 'gas',\n",
       "       'gasto', 'genero', 'genetica', 'genico', 'geografica', 'geral',\n",
       "       'gerar', 'gestao', 'global', 'governo', 'grande', 'grandes',\n",
       "       'grupo', 'habitat', 'hipoteses', 'historia', 'historico',\n",
       "       'identificacao', 'identificar', 'ii', 'imagens', 'impacto',\n",
       "       'impactos', 'importancia', 'importante', 'importantes',\n",
       "       'incluindo', 'indicadores', 'indice', 'indices', 'individual',\n",
       "       'individuos', 'industria', 'industriais', 'industrial', 'infantil',\n",
       "       'influencia', 'influenciaram', 'informacoes', 'information',\n",
       "       'instrumento', 'interesse', 'internacional', 'investigacao',\n",
       "       'investigar', 'isolamento', 'issr', 'issrs', 'italia', 'ja',\n",
       "       'learning', 'linguagem', 'literatura', 'locais', 'local',\n",
       "       'localidades', 'loci', 'longo', 'machine', 'machines', 'maior',\n",
       "       'maiores', 'maioria', 'manejo', 'marcadores', 'marcas',\n",
       "       'mecanismos', 'mediante', 'medidas', 'meio', 'melhor', 'melhorar',\n",
       "       'menor', 'menores', 'mercado', 'meses', 'mesma', 'metodo',\n",
       "       'metodologia', 'metodologias', 'metodos', 'microssatelites',\n",
       "       'model', 'modelo', 'modelos', 'models', 'moderna', 'modo',\n",
       "       'moleculares', 'momento', 'mortalidade', 'mostraram', 'mostrou',\n",
       "       'movimento', 'movimentos', 'mudancas', 'muitos', 'mulheres',\n",
       "       'mundo', 'municipios', 'nacionais', 'nao', 'naturais', 'natural',\n",
       "       'natureza', 'necessidade', 'nessa', 'nesse', 'neste', 'network',\n",
       "       'neurais', 'neural', 'niveis', 'nivel', 'nm', 'nordeste', 'norte',\n",
       "       'novas', 'novo', 'novos', 'numero', 'objetivo', 'objetivou',\n",
       "       'objeto', 'obra', 'observacao', 'observada', 'observado',\n",
       "       'observados', 'observou', 'obtained', 'obter', 'obtidos',\n",
       "       'oferecer', 'onde', 'oportunidades', 'outra', 'outras', 'outros',\n",
       "       'padrao', 'padroes', 'pais', 'paises', 'papel', 'paraiba',\n",
       "       'parametros', 'parte', 'partindo', 'partir', 'pe', 'pecas',\n",
       "       'pequenas', 'per', 'perda', 'perfil', 'performance', 'periodo',\n",
       "       'periodos', 'pernambuco', 'perspectiva', 'pesquisa', 'pesquisas',\n",
       "       'pode', 'podem', 'pois', 'polimorficos', 'politica', 'politicas',\n",
       "       'ponto', 'populacao', 'populacionais', 'populacional',\n",
       "       'populacoes', 'porem', 'portanto', 'possam', 'possibilidade',\n",
       "       'possiveis', 'possivel', 'possui', 'potencial', 'poucos',\n",
       "       'praticas', 'presenca', 'presente', 'pressao', 'pretende',\n",
       "       'primeira', 'primeiro', 'principais', 'principal',\n",
       "       'principalmente', 'principios', 'processo', 'processos', 'procura',\n",
       "       'producao', 'produtos', 'profissionais', 'profissional',\n",
       "       'programa', 'promocao', 'propoe', 'propor', 'proporcao',\n",
       "       'proposed', 'proposto', 'propria', 'publica', 'publicacoes',\n",
       "       'publicas', 'publico', 'quais', 'qualidade', 'qualitativa',\n",
       "       'quanto', 'quatro', 'questoes', 'reais', 'realidade', 'realizacao',\n",
       "       'realizada', 'realizado', 'recife', 'recursos', 'rede', 'redes',\n",
       "       'reducao', 'reduzir', 'regiao', 'regioes', 'regressao', 'relacao',\n",
       "       'relacionadas', 'relacoes', 'relevancia', 'relevante',\n",
       "       'remanescentes', 'renda', 'respectivamente', 'respeito', 'result',\n",
       "       'resultado', 'resultados', 'results', 'revelaram', 'revelou',\n",
       "       'revisao', 'revistas', 'sanitario', 'santa', 'sao', 'saude',\n",
       "       'secundarios', 'segundo', 'seis', 'selecionadas', 'selecionados',\n",
       "       'sendo', 'sentido', 'serie', 'series', 'servicos', 'si', 'sido',\n",
       "       'significativa', 'similares', 'sistema', 'sob', 'sobre', 'sociais',\n",
       "       'social', 'socio', 'software', 'sugere', 'sugerindo', 'sul',\n",
       "       'support', 'svm', 'tais', 'tal', 'tamanho', 'tambem', 'tanto',\n",
       "       'taxa', 'taxas', 'tecnica', 'tecnicas', 'tema', 'tematica',\n",
       "       'temperatura', 'temperaturas', 'tempo', 'tendo', 'teoria',\n",
       "       'teorias', 'teorico', 'termos', 'tese', 'teste', 'three', 'time',\n",
       "       'tipo', 'todas', 'todo', 'torna', 'torno', 'total', 'totalmente',\n",
       "       'trabalho', 'tratamento', 'tres', 'unidades', 'used', 'uso',\n",
       "       'utiliza', 'utilizacao', 'utilizada', 'utilizado', 'utilizados',\n",
       "       'utilizando', 'valores', 'variabilidade', 'variacao', 'variando',\n",
       "       'variaveis', 'varios', 'vector', 'velocidade', 'vem', 'verificar',\n",
       "       'verificou', 'vez', 'viabilidade', 'vida', 'visando', 'vista',\n",
       "       'way'], dtype=object)"
      ]
     },
     "execution_count": 19,
     "metadata": {},
     "output_type": "execute_result"
    }
   ],
   "source": [
    "count_vect.get_feature_names_out()"
   ]
  },
  {
   "cell_type": "markdown",
   "id": "6d627137-ebbd-4fd2-b449-21644b8ffd4a",
   "metadata": {},
   "source": [
    "### Análise das Caracteristicas textuais"
   ]
  },
  {
   "cell_type": "code",
   "execution_count": 20,
   "id": "e444c45b-9e40-4d84-9e27-0d888efbf3d8",
   "metadata": {},
   "outputs": [
    {
     "name": "stdout",
     "output_type": "stream",
     "text": [
      "Termos mais comuns nos 10 primeiros documentos:\n",
      "['gas' 'processos' 'modelos']\n",
      "['dados' 'regressao' 'resultados']\n",
      "['social' 'machines' 'software']\n",
      "['metodo' 'aprendizagem' 'machine']\n",
      "['context' 'models' 'support']\n",
      "['acesso' 'atraves' 'metodo']\n",
      "['imagens' 'meio' 'neural']\n",
      "['learning' 'svm' 'machine']\n",
      "['learning' 'network' 'performance']\n",
      "['series' 'time' 'performance']\n",
      "\n",
      "Termos mais relevantes nos 10 primeiros documentos:\n",
      "['gas' 'modelos' 'processos']\n",
      "['regressao' 'svm' 'dados']\n",
      "['social' 'machines' 'software']\n",
      "['aprendizagem' 'metodo' 'learning']\n",
      "['context' 'models' 'support']\n",
      "['acesso' 'software' 'feita']\n",
      "['imagens' 'meio' 'network']\n",
      "['svm' 'machine' 'learning']\n",
      "['network' 'learning' 'performance']\n",
      "['series' 'time' 'performance']\n"
     ]
    }
   ],
   "source": [
    "sorted_X_indices = np.argsort(X.toarray(), axis=1)[:, ::-1]\n",
    "sorted_Xtfidf_indices = np.argsort(X_tfidf.toarray(), axis=1)[:,::-1]\n",
    "\n",
    "print('Termos mais comuns nos 10 primeiros documentos:')\n",
    "for i in range(10):\n",
    "    print(count_vect.get_feature_names_out()[sorted_X_indices[i, :3]])\n",
    "\n",
    "print('\\nTermos mais relevantes nos 10 primeiros documentos:')\n",
    "for i in range(10):\n",
    "    print(count_vect.get_feature_names_out()[sorted_Xtfidf_indices[i, :3]])"
   ]
  },
  {
   "cell_type": "markdown",
   "id": "3d3e045b-9539-4a9c-ae64-a0160be8ec66",
   "metadata": {},
   "source": [
    "### Visualisation"
   ]
  },
  {
   "cell_type": "code",
   "execution_count": 21,
   "id": "1a5b0ebb-c436-454b-8c4a-268a768e4cd5",
   "metadata": {},
   "outputs": [
    {
     "data": {
      "text/plain": [
       "<matplotlib.colorbar.Colorbar at 0x7f61fada54f0>"
      ]
     },
     "execution_count": 21,
     "metadata": {},
     "output_type": "execute_result"
    },
    {
     "data": {
      "image/png": "[encoded data removed]",
      "text/plain": [
       "<Figure size 640x480 with 2 Axes>"
      ]
     },
     "metadata": {},
     "output_type": "display_data"
    }
   ],
   "source": [
    "p = pairwise_distances(np.argsort(X_tfidf.toarray(), axis=0)[:,::-1], metric='euclidean')\n",
    "plt.imshow(p, interpolation='nearest')\n",
    "plt.colorbar()"
   ]
  },
  {
   "cell_type": "code",
   "execution_count": 22,
   "id": "911c0fd6-12c7-437b-922e-a8bdd89e56af",
   "metadata": {},
   "outputs": [
    {
     "data": {
      "text/html": [
       "<div>\n",
       "<style scoped>\n",
       "    .dataframe tbody tr th:only-of-type {\n",
       "        vertical-align: middle;\n",
       "    }\n",
       "\n",
       "    .dataframe tbody tr th {\n",
       "        vertical-align: top;\n",
       "    }\n",
       "\n",
       "    .dataframe thead th {\n",
       "        text-align: right;\n",
       "    }\n",
       "</style>\n",
       "<table border=\"1\" class=\"dataframe\">\n",
       "  <thead>\n",
       "    <tr style=\"text-align: right;\">\n",
       "      <th></th>\n",
       "      <th>abordagem</th>\n",
       "      <th>abordagens</th>\n",
       "      <th>acerca</th>\n",
       "      <th>acesso</th>\n",
       "      <th>acoes</th>\n",
       "      <th>acordo</th>\n",
       "      <th>adjacentes</th>\n",
       "      <th>adultos</th>\n",
       "      <th>agrupamento</th>\n",
       "      <th>agua</th>\n",
       "      <th>...</th>\n",
       "      <th>velocidade</th>\n",
       "      <th>vem</th>\n",
       "      <th>verificar</th>\n",
       "      <th>verificou</th>\n",
       "      <th>vez</th>\n",
       "      <th>viabilidade</th>\n",
       "      <th>vida</th>\n",
       "      <th>visando</th>\n",
       "      <th>vista</th>\n",
       "      <th>way</th>\n",
       "    </tr>\n",
       "    <tr>\n",
       "      <th>subject</th>\n",
       "      <th></th>\n",
       "      <th></th>\n",
       "      <th></th>\n",
       "      <th></th>\n",
       "      <th></th>\n",
       "      <th></th>\n",
       "      <th></th>\n",
       "      <th></th>\n",
       "      <th></th>\n",
       "      <th></th>\n",
       "      <th></th>\n",
       "      <th></th>\n",
       "      <th></th>\n",
       "      <th></th>\n",
       "      <th></th>\n",
       "      <th></th>\n",
       "      <th></th>\n",
       "      <th></th>\n",
       "      <th></th>\n",
       "      <th></th>\n",
       "      <th></th>\n",
       "    </tr>\n",
       "  </thead>\n",
       "  <tbody>\n",
       "    <tr>\n",
       "      <th>aquecimento_global</th>\n",
       "      <td>0.000000</td>\n",
       "      <td>0.000000</td>\n",
       "      <td>0.000000</td>\n",
       "      <td>0.000000</td>\n",
       "      <td>0.000000</td>\n",
       "      <td>0.000000</td>\n",
       "      <td>0.013315</td>\n",
       "      <td>0.000000</td>\n",
       "      <td>0.000000</td>\n",
       "      <td>0.032269</td>\n",
       "      <td>...</td>\n",
       "      <td>0.070469</td>\n",
       "      <td>0.000000</td>\n",
       "      <td>0.000000</td>\n",
       "      <td>0.024768</td>\n",
       "      <td>0.000000</td>\n",
       "      <td>0.024083</td>\n",
       "      <td>0.009596</td>\n",
       "      <td>0.035832</td>\n",
       "      <td>0.006694</td>\n",
       "      <td>0.000000</td>\n",
       "    </tr>\n",
       "    <tr>\n",
       "      <th>bauhaus_arquitetura</th>\n",
       "      <td>0.000000</td>\n",
       "      <td>0.010627</td>\n",
       "      <td>0.000000</td>\n",
       "      <td>0.000000</td>\n",
       "      <td>0.000000</td>\n",
       "      <td>0.000000</td>\n",
       "      <td>0.000000</td>\n",
       "      <td>0.000000</td>\n",
       "      <td>0.000000</td>\n",
       "      <td>0.000000</td>\n",
       "      <td>...</td>\n",
       "      <td>0.000000</td>\n",
       "      <td>0.009495</td>\n",
       "      <td>0.000000</td>\n",
       "      <td>0.006802</td>\n",
       "      <td>0.000000</td>\n",
       "      <td>0.000000</td>\n",
       "      <td>0.007447</td>\n",
       "      <td>0.000000</td>\n",
       "      <td>0.020085</td>\n",
       "      <td>0.000000</td>\n",
       "    </tr>\n",
       "    <tr>\n",
       "      <th>economiabrasileira</th>\n",
       "      <td>0.026973</td>\n",
       "      <td>0.011105</td>\n",
       "      <td>0.012709</td>\n",
       "      <td>0.000000</td>\n",
       "      <td>0.000000</td>\n",
       "      <td>0.009049</td>\n",
       "      <td>0.000000</td>\n",
       "      <td>0.000000</td>\n",
       "      <td>0.000000</td>\n",
       "      <td>0.000000</td>\n",
       "      <td>...</td>\n",
       "      <td>0.000000</td>\n",
       "      <td>0.000000</td>\n",
       "      <td>0.007824</td>\n",
       "      <td>0.028003</td>\n",
       "      <td>0.007365</td>\n",
       "      <td>0.000000</td>\n",
       "      <td>0.000000</td>\n",
       "      <td>0.000000</td>\n",
       "      <td>0.000000</td>\n",
       "      <td>0.000000</td>\n",
       "    </tr>\n",
       "    <tr>\n",
       "      <th>genetica</th>\n",
       "      <td>0.000000</td>\n",
       "      <td>0.000000</td>\n",
       "      <td>0.007324</td>\n",
       "      <td>0.000000</td>\n",
       "      <td>0.007324</td>\n",
       "      <td>0.005428</td>\n",
       "      <td>0.012751</td>\n",
       "      <td>0.019966</td>\n",
       "      <td>0.035925</td>\n",
       "      <td>0.000000</td>\n",
       "      <td>...</td>\n",
       "      <td>0.000000</td>\n",
       "      <td>0.000000</td>\n",
       "      <td>0.022804</td>\n",
       "      <td>0.000000</td>\n",
       "      <td>0.030491</td>\n",
       "      <td>0.007084</td>\n",
       "      <td>0.000000</td>\n",
       "      <td>0.005102</td>\n",
       "      <td>0.011654</td>\n",
       "      <td>0.000000</td>\n",
       "    </tr>\n",
       "    <tr>\n",
       "      <th>machinelearning</th>\n",
       "      <td>0.006626</td>\n",
       "      <td>0.007436</td>\n",
       "      <td>0.000000</td>\n",
       "      <td>0.045403</td>\n",
       "      <td>0.000000</td>\n",
       "      <td>0.000000</td>\n",
       "      <td>0.000000</td>\n",
       "      <td>0.000000</td>\n",
       "      <td>0.000000</td>\n",
       "      <td>0.000000</td>\n",
       "      <td>...</td>\n",
       "      <td>0.000000</td>\n",
       "      <td>0.000000</td>\n",
       "      <td>0.008412</td>\n",
       "      <td>0.000000</td>\n",
       "      <td>0.022011</td>\n",
       "      <td>0.000000</td>\n",
       "      <td>0.008412</td>\n",
       "      <td>0.008874</td>\n",
       "      <td>0.000000</td>\n",
       "      <td>0.038176</td>\n",
       "    </tr>\n",
       "  </tbody>\n",
       "</table>\n",
       "<p>5 rows × 584 columns</p>\n",
       "</div>"
      ],
      "text/plain": [
       "                     abordagem  abordagens    acerca    acesso     acoes  \\\n",
       "subject                                                                    \n",
       "aquecimento_global    0.000000    0.000000  0.000000  0.000000  0.000000   \n",
       "bauhaus_arquitetura   0.000000    0.010627  0.000000  0.000000  0.000000   \n",
       "economiabrasileira    0.026973    0.011105  0.012709  0.000000  0.000000   \n",
       "genetica              0.000000    0.000000  0.007324  0.000000  0.007324   \n",
       "machinelearning       0.006626    0.007436  0.000000  0.045403  0.000000   \n",
       "\n",
       "                       acordo  adjacentes   adultos  agrupamento      agua  \\\n",
       "subject                                                                      \n",
       "aquecimento_global   0.000000    0.013315  0.000000     0.000000  0.032269   \n",
       "bauhaus_arquitetura  0.000000    0.000000  0.000000     0.000000  0.000000   \n",
       "economiabrasileira   0.009049    0.000000  0.000000     0.000000  0.000000   \n",
       "genetica             0.005428    0.012751  0.019966     0.035925  0.000000   \n",
       "machinelearning      0.000000    0.000000  0.000000     0.000000  0.000000   \n",
       "\n",
       "                     ...  velocidade       vem  verificar  verificou  \\\n",
       "subject              ...                                               \n",
       "aquecimento_global   ...    0.070469  0.000000   0.000000   0.024768   \n",
       "bauhaus_arquitetura  ...    0.000000  0.009495   0.000000   0.006802   \n",
       "economiabrasileira   ...    0.000000  0.000000   0.007824   0.028003   \n",
       "genetica             ...    0.000000  0.000000   0.022804   0.000000   \n",
       "machinelearning      ...    0.000000  0.000000   0.008412   0.000000   \n",
       "\n",
       "                          vez  viabilidade      vida   visando     vista  \\\n",
       "subject                                                                    \n",
       "aquecimento_global   0.000000     0.024083  0.009596  0.035832  0.006694   \n",
       "bauhaus_arquitetura  0.000000     0.000000  0.007447  0.000000  0.020085   \n",
       "economiabrasileira   0.007365     0.000000  0.000000  0.000000  0.000000   \n",
       "genetica             0.030491     0.007084  0.000000  0.005102  0.011654   \n",
       "machinelearning      0.022011     0.000000  0.008412  0.008874  0.000000   \n",
       "\n",
       "                          way  \n",
       "subject                        \n",
       "aquecimento_global   0.000000  \n",
       "bauhaus_arquitetura  0.000000  \n",
       "economiabrasileira   0.000000  \n",
       "genetica             0.000000  \n",
       "machinelearning      0.038176  \n",
       "\n",
       "[5 rows x 584 columns]"
      ]
     },
     "execution_count": 22,
     "metadata": {},
     "output_type": "execute_result"
    }
   ],
   "source": [
    "tfidf_df = pd.DataFrame(X_tfidf.toarray(), index=df['subject'], columns=count_vect.get_feature_names_out())\n",
    "tfidf_df = tfidf_df.groupby('subject').mean()\n",
    "tfidf_df.head()"
   ]
  },
  {
   "cell_type": "code",
   "execution_count": 23,
   "id": "439a5018-101d-4767-a5f8-a72b75c99d01",
   "metadata": {},
   "outputs": [
    {
     "data": {
      "text/html": [
       "<div>\n",
       "<style scoped>\n",
       "    .dataframe tbody tr th:only-of-type {\n",
       "        vertical-align: middle;\n",
       "    }\n",
       "\n",
       "    .dataframe tbody tr th {\n",
       "        vertical-align: top;\n",
       "    }\n",
       "\n",
       "    .dataframe thead th {\n",
       "        text-align: right;\n",
       "    }\n",
       "</style>\n",
       "<table border=\"1\" class=\"dataframe\">\n",
       "  <thead>\n",
       "    <tr style=\"text-align: right;\">\n",
       "      <th></th>\n",
       "      <th>subject</th>\n",
       "      <th>level_1</th>\n",
       "      <th>0</th>\n",
       "    </tr>\n",
       "  </thead>\n",
       "  <tbody>\n",
       "    <tr>\n",
       "      <th>0</th>\n",
       "      <td>aquecimento_global</td>\n",
       "      <td>abordagem</td>\n",
       "      <td>0.0</td>\n",
       "    </tr>\n",
       "    <tr>\n",
       "      <th>1</th>\n",
       "      <td>aquecimento_global</td>\n",
       "      <td>abordagens</td>\n",
       "      <td>0.0</td>\n",
       "    </tr>\n",
       "    <tr>\n",
       "      <th>2</th>\n",
       "      <td>aquecimento_global</td>\n",
       "      <td>acerca</td>\n",
       "      <td>0.0</td>\n",
       "    </tr>\n",
       "    <tr>\n",
       "      <th>3</th>\n",
       "      <td>aquecimento_global</td>\n",
       "      <td>acesso</td>\n",
       "      <td>0.0</td>\n",
       "    </tr>\n",
       "    <tr>\n",
       "      <th>4</th>\n",
       "      <td>aquecimento_global</td>\n",
       "      <td>acoes</td>\n",
       "      <td>0.0</td>\n",
       "    </tr>\n",
       "  </tbody>\n",
       "</table>\n",
       "</div>"
      ],
      "text/plain": [
       "              subject     level_1    0\n",
       "0  aquecimento_global   abordagem  0.0\n",
       "1  aquecimento_global  abordagens  0.0\n",
       "2  aquecimento_global      acerca  0.0\n",
       "3  aquecimento_global      acesso  0.0\n",
       "4  aquecimento_global       acoes  0.0"
      ]
     },
     "execution_count": 23,
     "metadata": {},
     "output_type": "execute_result"
    }
   ],
   "source": [
    "tfidf_df = tfidf_df.stack().reset_index()\n",
    "tfidf_df.head()"
   ]
  },
  {
   "cell_type": "code",
   "execution_count": 24,
   "id": "d4d88650-a4b4-452e-b378-6f7625d0a0ac",
   "metadata": {},
   "outputs": [
    {
     "data": {
      "text/html": [
       "<div>\n",
       "<style scoped>\n",
       "    .dataframe tbody tr th:only-of-type {\n",
       "        vertical-align: middle;\n",
       "    }\n",
       "\n",
       "    .dataframe tbody tr th {\n",
       "        vertical-align: top;\n",
       "    }\n",
       "\n",
       "    .dataframe thead th {\n",
       "        text-align: right;\n",
       "    }\n",
       "</style>\n",
       "<table border=\"1\" class=\"dataframe\">\n",
       "  <thead>\n",
       "    <tr style=\"text-align: right;\">\n",
       "      <th></th>\n",
       "      <th>Tema</th>\n",
       "      <th>Termo</th>\n",
       "      <th>TFIDF</th>\n",
       "    </tr>\n",
       "  </thead>\n",
       "  <tbody>\n",
       "    <tr>\n",
       "      <th>0</th>\n",
       "      <td>aquecimento_global</td>\n",
       "      <td>abordagem</td>\n",
       "      <td>0.000000</td>\n",
       "    </tr>\n",
       "    <tr>\n",
       "      <th>1</th>\n",
       "      <td>aquecimento_global</td>\n",
       "      <td>abordagens</td>\n",
       "      <td>0.000000</td>\n",
       "    </tr>\n",
       "    <tr>\n",
       "      <th>2</th>\n",
       "      <td>aquecimento_global</td>\n",
       "      <td>acerca</td>\n",
       "      <td>0.000000</td>\n",
       "    </tr>\n",
       "    <tr>\n",
       "      <th>3</th>\n",
       "      <td>aquecimento_global</td>\n",
       "      <td>acesso</td>\n",
       "      <td>0.000000</td>\n",
       "    </tr>\n",
       "    <tr>\n",
       "      <th>4</th>\n",
       "      <td>aquecimento_global</td>\n",
       "      <td>acoes</td>\n",
       "      <td>0.000000</td>\n",
       "    </tr>\n",
       "    <tr>\n",
       "      <th>...</th>\n",
       "      <td>...</td>\n",
       "      <td>...</td>\n",
       "      <td>...</td>\n",
       "    </tr>\n",
       "    <tr>\n",
       "      <th>3499</th>\n",
       "      <td>saudeinfantil</td>\n",
       "      <td>viabilidade</td>\n",
       "      <td>0.000000</td>\n",
       "    </tr>\n",
       "    <tr>\n",
       "      <th>3500</th>\n",
       "      <td>saudeinfantil</td>\n",
       "      <td>vida</td>\n",
       "      <td>0.010549</td>\n",
       "    </tr>\n",
       "    <tr>\n",
       "      <th>3501</th>\n",
       "      <td>saudeinfantil</td>\n",
       "      <td>visando</td>\n",
       "      <td>0.000000</td>\n",
       "    </tr>\n",
       "    <tr>\n",
       "      <th>3502</th>\n",
       "      <td>saudeinfantil</td>\n",
       "      <td>vista</td>\n",
       "      <td>0.007628</td>\n",
       "    </tr>\n",
       "    <tr>\n",
       "      <th>3503</th>\n",
       "      <td>saudeinfantil</td>\n",
       "      <td>way</td>\n",
       "      <td>0.000000</td>\n",
       "    </tr>\n",
       "  </tbody>\n",
       "</table>\n",
       "<p>3504 rows × 3 columns</p>\n",
       "</div>"
      ],
      "text/plain": [
       "                    Tema        Termo     TFIDF\n",
       "0     aquecimento_global    abordagem  0.000000\n",
       "1     aquecimento_global   abordagens  0.000000\n",
       "2     aquecimento_global       acerca  0.000000\n",
       "3     aquecimento_global       acesso  0.000000\n",
       "4     aquecimento_global        acoes  0.000000\n",
       "...                  ...          ...       ...\n",
       "3499       saudeinfantil  viabilidade  0.000000\n",
       "3500       saudeinfantil         vida  0.010549\n",
       "3501       saudeinfantil      visando  0.000000\n",
       "3502       saudeinfantil        vista  0.007628\n",
       "3503       saudeinfantil          way  0.000000\n",
       "\n",
       "[3504 rows x 3 columns]"
      ]
     },
     "execution_count": 24,
     "metadata": {},
     "output_type": "execute_result"
    }
   ],
   "source": [
    "tfidf_df = tfidf_df.rename(columns={0:'TFIDF', 'subject': 'Tema','level_1': 'Termo'})\n",
    "tfidf_df"
   ]
  },
  {
   "cell_type": "code",
   "execution_count": 25,
   "id": "b739438e-892d-43e3-8b0a-699c151b7d7e",
   "metadata": {},
   "outputs": [
    {
     "data": {
      "text/html": [
       "<div>\n",
       "<style scoped>\n",
       "    .dataframe tbody tr th:only-of-type {\n",
       "        vertical-align: middle;\n",
       "    }\n",
       "\n",
       "    .dataframe tbody tr th {\n",
       "        vertical-align: top;\n",
       "    }\n",
       "\n",
       "    .dataframe thead th {\n",
       "        text-align: right;\n",
       "    }\n",
       "</style>\n",
       "<table border=\"1\" class=\"dataframe\">\n",
       "  <thead>\n",
       "    <tr style=\"text-align: right;\">\n",
       "      <th></th>\n",
       "      <th>Tema</th>\n",
       "      <th>Termo</th>\n",
       "      <th>TFIDF</th>\n",
       "    </tr>\n",
       "  </thead>\n",
       "  <tbody>\n",
       "    <tr>\n",
       "      <th>46</th>\n",
       "      <td>aquecimento_global</td>\n",
       "      <td>aquecimento</td>\n",
       "      <td>0.180217</td>\n",
       "    </tr>\n",
       "    <tr>\n",
       "      <th>513</th>\n",
       "      <td>aquecimento_global</td>\n",
       "      <td>sistema</td>\n",
       "      <td>0.092203</td>\n",
       "    </tr>\n",
       "    <tr>\n",
       "      <th>536</th>\n",
       "      <td>aquecimento_global</td>\n",
       "      <td>temperatura</td>\n",
       "      <td>0.087118</td>\n",
       "    </tr>\n",
       "    <tr>\n",
       "      <th>734</th>\n",
       "      <td>bauhaus_arquitetura</td>\n",
       "      <td>design</td>\n",
       "      <td>0.286022</td>\n",
       "    </tr>\n",
       "    <tr>\n",
       "      <th>634</th>\n",
       "      <td>bauhaus_arquitetura</td>\n",
       "      <td>arquitetura</td>\n",
       "      <td>0.146705</td>\n",
       "    </tr>\n",
       "    <tr>\n",
       "      <th>635</th>\n",
       "      <td>bauhaus_arquitetura</td>\n",
       "      <td>arte</td>\n",
       "      <td>0.137423</td>\n",
       "    </tr>\n",
       "    <tr>\n",
       "      <th>1351</th>\n",
       "      <td>economiabrasileira</td>\n",
       "      <td>economia</td>\n",
       "      <td>0.294540</td>\n",
       "    </tr>\n",
       "    <tr>\n",
       "      <th>1317</th>\n",
       "      <td>economiabrasileira</td>\n",
       "      <td>desenvolvimento</td>\n",
       "      <td>0.084932</td>\n",
       "    </tr>\n",
       "    <tr>\n",
       "      <th>1247</th>\n",
       "      <td>economiabrasileira</td>\n",
       "      <td>brasileira</td>\n",
       "      <td>0.078933</td>\n",
       "    </tr>\n",
       "    <tr>\n",
       "      <th>2000</th>\n",
       "      <td>genetica</td>\n",
       "      <td>genetica</td>\n",
       "      <td>0.338570</td>\n",
       "    </tr>\n",
       "    <tr>\n",
       "      <th>2170</th>\n",
       "      <td>genetica</td>\n",
       "      <td>populacoes</td>\n",
       "      <td>0.244785</td>\n",
       "    </tr>\n",
       "    <tr>\n",
       "      <th>1930</th>\n",
       "      <td>genetica</td>\n",
       "      <td>diversidade</td>\n",
       "      <td>0.128731</td>\n",
       "    </tr>\n",
       "    <tr>\n",
       "      <th>2632</th>\n",
       "      <td>machinelearning</td>\n",
       "      <td>learning</td>\n",
       "      <td>0.213089</td>\n",
       "    </tr>\n",
       "    <tr>\n",
       "      <th>2640</th>\n",
       "      <td>machinelearning</td>\n",
       "      <td>machine</td>\n",
       "      <td>0.175636</td>\n",
       "    </tr>\n",
       "    <tr>\n",
       "      <th>2883</th>\n",
       "      <td>machinelearning</td>\n",
       "      <td>time</td>\n",
       "      <td>0.101483</td>\n",
       "    </tr>\n",
       "    <tr>\n",
       "      <th>3418</th>\n",
       "      <td>saudeinfantil</td>\n",
       "      <td>saude</td>\n",
       "      <td>0.289821</td>\n",
       "    </tr>\n",
       "    <tr>\n",
       "      <th>3201</th>\n",
       "      <td>saudeinfantil</td>\n",
       "      <td>infantil</td>\n",
       "      <td>0.265498</td>\n",
       "    </tr>\n",
       "    <tr>\n",
       "      <th>3256</th>\n",
       "      <td>saudeinfantil</td>\n",
       "      <td>mortalidade</td>\n",
       "      <td>0.139572</td>\n",
       "    </tr>\n",
       "  </tbody>\n",
       "</table>\n",
       "</div>"
      ],
      "text/plain": [
       "                     Tema            Termo     TFIDF\n",
       "46     aquecimento_global      aquecimento  0.180217\n",
       "513    aquecimento_global          sistema  0.092203\n",
       "536    aquecimento_global      temperatura  0.087118\n",
       "734   bauhaus_arquitetura           design  0.286022\n",
       "634   bauhaus_arquitetura      arquitetura  0.146705\n",
       "635   bauhaus_arquitetura             arte  0.137423\n",
       "1351   economiabrasileira         economia  0.294540\n",
       "1317   economiabrasileira  desenvolvimento  0.084932\n",
       "1247   economiabrasileira       brasileira  0.078933\n",
       "2000             genetica         genetica  0.338570\n",
       "2170             genetica       populacoes  0.244785\n",
       "1930             genetica      diversidade  0.128731\n",
       "2632      machinelearning         learning  0.213089\n",
       "2640      machinelearning          machine  0.175636\n",
       "2883      machinelearning             time  0.101483\n",
       "3418        saudeinfantil            saude  0.289821\n",
       "3201        saudeinfantil         infantil  0.265498\n",
       "3256        saudeinfantil      mortalidade  0.139572"
      ]
     },
     "execution_count": 25,
     "metadata": {},
     "output_type": "execute_result"
    }
   ],
   "source": [
    "top_tfidf = tfidf_df.sort_values(by=['Tema','TFIDF'], ascending=[True,False]).groupby(['Tema']).head(3)\n",
    "top_tfidf"
   ]
  },
  {
   "cell_type": "code",
   "execution_count": 26,
   "id": "f0cb784b-fa04-4bf7-b502-0c97953770fc",
   "metadata": {},
   "outputs": [
    {
     "name": "stderr",
     "output_type": "stream",
     "text": [
      "/home/studio-lab-user/.conda/envs/NLP/lib/python3.8/site-packages/altair/utils/core.py:317: FutureWarning: iteritems is deprecated and will be removed in a future version. Use .items instead.\n",
      "  for col_name, dtype in df.dtypes.iteritems():\n"
     ]
    },
    {
     "data": {
      "text/html": [
       "\n",
       "<div id=\"altair-viz-10cdd5e49fde4bf580c04f6886c502ae\"></div>\n",
       "<script type=\"text/javascript\">\n",
       "  var VEGA_DEBUG = (typeof VEGA_DEBUG == \"undefined\") ? {} : VEGA_DEBUG;\n",
       "  (function(spec, embedOpt){\n",
       "    let outputDiv = document.currentScript.previousElementSibling;\n",
       "    if (outputDiv.id !== \"altair-viz-10cdd5e49fde4bf580c04f6886c502ae\") {\n",
       "      outputDiv = document.getElementById(\"altair-viz-10cdd5e49fde4bf580c04f6886c502ae\");\n",
       "    }\n",
       "    const paths = {\n",
       "      \"vega\": \"https://cdn.jsdelivr.net/npm//vega@5?noext\",\n",
       "      \"vega-lib\": \"https://cdn.jsdelivr.net/npm//vega-lib?noext\",\n",
       "      \"vega-lite\": \"https://cdn.jsdelivr.net/npm//vega-lite@4.17.0?noext\",\n",
       "      \"vega-embed\": \"https://cdn.jsdelivr.net/npm//vega-embed@6?noext\",\n",
       "    };\n",
       "\n",
       "    function maybeLoadScript(lib, version) {\n",
       "      var key = `${lib.replace(\"-\", \"\")}_version`;\n",
       "      return (VEGA_DEBUG[key] == version) ?\n",
       "        Promise.resolve(paths[lib]) :\n",
       "        new Promise(function(resolve, reject) {\n",
       "          var s = document.createElement('script');\n",
       "          document.getElementsByTagName(\"head\")[0].appendChild(s);\n",
       "          s.async = true;\n",
       "          s.onload = () => {\n",
       "            VEGA_DEBUG[key] = version;\n",
       "            return resolve(paths[lib]);\n",
       "          };\n",
       "          s.onerror = () => reject(`Error loading script: ${paths[lib]}`);\n",
       "          s.src = paths[lib];\n",
       "        });\n",
       "    }\n",
       "\n",
       "    function showError(err) {\n",
       "      outputDiv.innerHTML = `<div class=\"error\" style=\"color:red;\">${err}</div>`;\n",
       "      throw err;\n",
       "    }\n",
       "\n",
       "    function displayChart(vegaEmbed) {\n",
       "      vegaEmbed(outputDiv, spec, embedOpt)\n",
       "        .catch(err => showError(`Javascript Error: ${err.message}<br>This usually means there's a typo in your chart specification. See the javascript console for the full traceback.`));\n",
       "    }\n",
       "\n",
       "    if(typeof define === \"function\" && define.amd) {\n",
       "      requirejs.config({paths});\n",
       "      require([\"vega-embed\"], displayChart, err => showError(`Error loading script: ${err.message}`));\n",
       "    } else {\n",
       "      maybeLoadScript(\"vega\", \"5\")\n",
       "        .then(() => maybeLoadScript(\"vega-lite\", \"4.17.0\"))\n",
       "        .then(() => maybeLoadScript(\"vega-embed\", \"6\"))\n",
       "        .catch(showError)\n",
       "        .then(() => displayChart(vegaEmbed));\n",
       "    }\n",
       "  })({\"config\": {\"view\": {\"continuousWidth\": 400, \"continuousHeight\": 300}}, \"layer\": [{\"mark\": \"rect\", \"encoding\": {\"color\": {\"field\": \"TFIDF\", \"type\": \"quantitative\"}, \"x\": {\"field\": \"rank\", \"type\": \"ordinal\"}, \"y\": {\"field\": \"Tema\", \"type\": \"nominal\"}}, \"title\": \"UFPE Thesis - Term Relevance Rank\", \"transform\": [{\"window\": [{\"op\": \"rank\", \"field\": \"\", \"as\": \"rank\"}], \"groupby\": [\"Tema\"], \"sort\": [{\"field\": \"TFIDF\", \"order\": \"descending\"}]}]}, {\"mark\": {\"type\": \"text\", \"baseline\": \"middle\"}, \"encoding\": {\"color\": {\"condition\": {\"value\": \"white\", \"test\": \"(datum.TFIDF >= 0.2)\"}, \"value\": \"black\"}, \"text\": {\"field\": \"Termo\", \"type\": \"nominal\"}, \"x\": {\"field\": \"rank\", \"type\": \"ordinal\"}, \"y\": {\"field\": \"Tema\", \"type\": \"nominal\"}}, \"title\": \"UFPE Thesis - Term Relevance Rank\", \"transform\": [{\"window\": [{\"op\": \"rank\", \"field\": \"\", \"as\": \"rank\"}], \"groupby\": [\"Tema\"], \"sort\": [{\"field\": \"TFIDF\", \"order\": \"descending\"}]}]}], \"data\": {\"name\": \"data-0a5b397694e264d17efd915bbc2510f0\"}, \"width\": 600, \"$schema\": \"https://vega.github.io/schema/vega-lite/v4.17.0.json\", \"datasets\": {\"data-0a5b397694e264d17efd915bbc2510f0\": [{\"Tema\": \"aquecimento_global\", \"Termo\": \"aquecimento\", \"TFIDF\": 0.18029531941023144}, {\"Tema\": \"aquecimento_global\", \"Termo\": \"sistema\", \"TFIDF\": 0.09228146122442576}, {\"Tema\": \"aquecimento_global\", \"Termo\": \"temperatura\", \"TFIDF\": 0.0871613625865368}, {\"Tema\": \"bauhaus_arquitetura\", \"Termo\": \"design\", \"TFIDF\": 0.28603681939314957}, {\"Tema\": \"bauhaus_arquitetura\", \"Termo\": \"arquitetura\", \"TFIDF\": 0.14671295399840922}, {\"Tema\": \"bauhaus_arquitetura\", \"Termo\": \"arte\", \"TFIDF\": 0.13751914143404056}, {\"Tema\": \"economiabrasileira\", \"Termo\": \"economia\", \"TFIDF\": 0.2945940983036471}, {\"Tema\": \"economiabrasileira\", \"Termo\": \"desenvolvimento\", \"TFIDF\": 0.08493368437865326}, {\"Tema\": \"economiabrasileira\", \"Termo\": \"brasileira\", \"TFIDF\": 0.07898795419634555}, {\"Tema\": \"genetica\", \"Termo\": \"genetica\", \"TFIDF\": 0.338574602940446}, {\"Tema\": \"genetica\", \"Termo\": \"populacoes\", \"TFIDF\": 0.24480255099763532}, {\"Tema\": \"genetica\", \"Termo\": \"diversidade\", \"TFIDF\": 0.12878320831791604}, {\"Tema\": \"machinelearning\", \"Termo\": \"learning\", \"TFIDF\": 0.2131872595441059}, {\"Tema\": \"machinelearning\", \"Termo\": \"machine\", \"TFIDF\": 0.17573089426421956}, {\"Tema\": \"machinelearning\", \"Termo\": \"time\", \"TFIDF\": 0.10154945259981218}, {\"Tema\": \"saudeinfantil\", \"Termo\": \"saude\", \"TFIDF\": 0.28989240375352504}, {\"Tema\": \"saudeinfantil\", \"Termo\": \"infantil\", \"TFIDF\": 0.2655602247662752}, {\"Tema\": \"saudeinfantil\", \"Termo\": \"mortalidade\", \"TFIDF\": 0.13959693818224936}]}}, {\"mode\": \"vega-lite\"});\n",
       "</script>"
      ],
      "text/plain": [
       "alt.LayerChart(...)"
      ]
     },
     "execution_count": 26,
     "metadata": {},
     "output_type": "execute_result"
    }
   ],
   "source": [
    "# adding a little randomness to break ties in term ranking\n",
    "top_tfidf_plusRand = top_tfidf.copy()\n",
    "top_tfidf_plusRand['TFIDF'] = top_tfidf_plusRand['TFIDF'] + np.random.rand(top_tfidf.shape[0])*0.0001\n",
    "\n",
    "# base for all visualizations, with rank calculation\n",
    "base = alt.Chart(top_tfidf_plusRand, title=\"UFPE Thesis - Term Relevance Rank\").encode(\n",
    "    x = 'rank:O',\n",
    "    y = 'Tema:N'\n",
    ").transform_window(\n",
    "    rank = \"rank()\",\n",
    "    sort = [alt.SortField(\"TFIDF\", order=\"descending\")],\n",
    "    groupby = [\"Tema\"],\n",
    ")\n",
    "\n",
    "# heatmap specification\n",
    "heatmap = base.mark_rect().encode(\n",
    "    color = 'TFIDF:Q'\n",
    ")\n",
    "\n",
    "# text labels, white for darker heatmap colors\n",
    "text = base.mark_text(baseline='middle').encode(\n",
    "    text = 'Termo:N',\n",
    "    color = alt.condition(alt.datum.TFIDF >= 0.2, alt.value('white'), alt.value('black'))\n",
    ")\n",
    "\n",
    "# display the three superimposed visualizations\n",
    "(heatmap + text).properties(width = 600)"
   ]
  },
  {
   "cell_type": "markdown",
   "id": "6b353b48-cd59-4138-90e9-d1eb7dc2a3a6",
   "metadata": {},
   "source": [
    "## Topic Modelling"
   ]
  },
  {
   "cell_type": "markdown",
   "id": "488cdf77-db3c-4da2-b8f1-8de3f7b821ac",
   "metadata": {
    "tags": []
   },
   "source": [
    "### Truncated SVD (aka Latent Semantic Analysis or LSA)"
   ]
  },
  {
   "cell_type": "code",
   "execution_count": 27,
   "id": "ad5013a4-feff-4524-add0-8864b71d178c",
   "metadata": {},
   "outputs": [],
   "source": [
    "def get_explained_var_svd(n_components, X_tfidf):\n",
    "    svd = TruncatedSVD(n_components=n_components, n_iter=10 , random_state=0)\n",
    "    svd.fit(X_tfidf)\n",
    "    return sum(svd.explained_variance_ratio_)"
   ]
  },
  {
   "cell_type": "code",
   "execution_count": 28,
   "id": "02020a96-0101-41cb-a581-7c06a301df78",
   "metadata": {},
   "outputs": [],
   "source": [
    "elbow_svd = []\n",
    "\n",
    "for n_components in range(1, 100):\n",
    "    var = get_explained_var_svd(n_components, X_tfidf)\n",
    "    elbow_svd.append(var)    "
   ]
  },
  {
   "cell_type": "code",
   "execution_count": 29,
   "id": "b0095632-a958-40f7-ba18-574a4a6b2da6",
   "metadata": {},
   "outputs": [
    {
     "data": {
      "text/plain": [
       "<AxesSubplot: >"
      ]
     },
     "execution_count": 29,
     "metadata": {},
     "output_type": "execute_result"
    },
    {
     "data": {
      "image/png": "[encoded data removed]",
      "text/plain": [
       "<Figure size 640x480 with 1 Axes>"
      ]
     },
     "metadata": {},
     "output_type": "display_data"
    }
   ],
   "source": [
    "sns.lineplot(x=range(1, 100), y=elbow_svd)"
   ]
  },
  {
   "cell_type": "code",
   "execution_count": 30,
   "id": "1c28d559-78d0-405e-95ea-297b819ff810",
   "metadata": {},
   "outputs": [
    {
     "data": {
      "text/html": [
       "<style>#sk-container-id-3 {color: black;background-color: white;}#sk-container-id-3 pre{padding: 0;}#sk-container-id-3 div.sk-toggleable {background-color: white;}#sk-container-id-3 label.sk-toggleable__label {cursor: pointer;display: block;width: 100%;margin-bottom: 0;padding: 0.3em;box-sizing: border-box;text-align: center;}#sk-container-id-3 label.sk-toggleable__label-arrow:before {content: \"▸\";float: left;margin-right: 0.25em;color: #696969;}#sk-container-id-3 label.sk-toggleable__label-arrow:hover:before {color: black;}#sk-container-id-3 div.sk-estimator:hover label.sk-toggleable__label-arrow:before {color: black;}#sk-container-id-3 div.sk-toggleable__content {max-height: 0;max-width: 0;overflow: hidden;text-align: left;background-color: #f0f8ff;}#sk-container-id-3 div.sk-toggleable__content pre {margin: 0.2em;color: black;border-radius: 0.25em;background-color: #f0f8ff;}#sk-container-id-3 input.sk-toggleable__control:checked~div.sk-toggleable__content {max-height: 200px;max-width: 100%;overflow: auto;}#sk-container-id-3 input.sk-toggleable__control:checked~label.sk-toggleable__label-arrow:before {content: \"▾\";}#sk-container-id-3 div.sk-estimator input.sk-toggleable__control:checked~label.sk-toggleable__label {background-color: #d4ebff;}#sk-container-id-3 div.sk-label input.sk-toggleable__control:checked~label.sk-toggleable__label {background-color: #d4ebff;}#sk-container-id-3 input.sk-hidden--visually {border: 0;clip: rect(1px 1px 1px 1px);clip: rect(1px, 1px, 1px, 1px);height: 1px;margin: -1px;overflow: hidden;padding: 0;position: absolute;width: 1px;}#sk-container-id-3 div.sk-estimator {font-family: monospace;background-color: #f0f8ff;border: 1px dotted black;border-radius: 0.25em;box-sizing: border-box;margin-bottom: 0.5em;}#sk-container-id-3 div.sk-estimator:hover {background-color: #d4ebff;}#sk-container-id-3 div.sk-parallel-item::after {content: \"\";width: 100%;border-bottom: 1px solid gray;flex-grow: 1;}#sk-container-id-3 div.sk-label:hover label.sk-toggleable__label {background-color: #d4ebff;}#sk-container-id-3 div.sk-serial::before {content: \"\";position: absolute;border-left: 1px solid gray;box-sizing: border-box;top: 0;bottom: 0;left: 50%;z-index: 0;}#sk-container-id-3 div.sk-serial {display: flex;flex-direction: column;align-items: center;background-color: white;padding-right: 0.2em;padding-left: 0.2em;position: relative;}#sk-container-id-3 div.sk-item {position: relative;z-index: 1;}#sk-container-id-3 div.sk-parallel {display: flex;align-items: stretch;justify-content: center;background-color: white;position: relative;}#sk-container-id-3 div.sk-item::before, #sk-container-id-3 div.sk-parallel-item::before {content: \"\";position: absolute;border-left: 1px solid gray;box-sizing: border-box;top: 0;bottom: 0;left: 50%;z-index: -1;}#sk-container-id-3 div.sk-parallel-item {display: flex;flex-direction: column;z-index: 1;position: relative;background-color: white;}#sk-container-id-3 div.sk-parallel-item:first-child::after {align-self: flex-end;width: 50%;}#sk-container-id-3 div.sk-parallel-item:last-child::after {align-self: flex-start;width: 50%;}#sk-container-id-3 div.sk-parallel-item:only-child::after {width: 0;}#sk-container-id-3 div.sk-dashed-wrapped {border: 1px dashed gray;margin: 0 0.4em 0.5em 0.4em;box-sizing: border-box;padding-bottom: 0.4em;background-color: white;}#sk-container-id-3 div.sk-label label {font-family: monospace;font-weight: bold;display: inline-block;line-height: 1.2em;}#sk-container-id-3 div.sk-label-container {text-align: center;}#sk-container-id-3 div.sk-container {/* jupyter's `normalize.less` sets `[hidden] { display: none; }` but bootstrap.min.css set `[hidden] { display: none !important; }` so we also need the `!important` here to be able to override the default hidden behavior on the sphinx rendered scikit-learn.org. See: https://github.com/scikit-learn/scikit-learn/issues/21755 */display: inline-block !important;position: relative;}#sk-container-id-3 div.sk-text-repr-fallback {display: none;}</style><div id=\"sk-container-id-3\" class=\"sk-top-container\"><div class=\"sk-text-repr-fallback\"><pre>TruncatedSVD(n_components=20, n_iter=100, random_state=0)</pre><b>In a Jupyter environment, please rerun this cell to show the HTML representation or trust the notebook. <br />On GitHub, the HTML representation is unable to render, please try loading this page with nbviewer.org.</b></div><div class=\"sk-container\" hidden><div class=\"sk-item\"><div class=\"sk-estimator sk-toggleable\"><input class=\"sk-toggleable__control sk-hidden--visually\" id=\"sk-estimator-id-3\" type=\"checkbox\" checked><label for=\"sk-estimator-id-3\" class=\"sk-toggleable__label sk-toggleable__label-arrow\">TruncatedSVD</label><div class=\"sk-toggleable__content\"><pre>TruncatedSVD(n_components=20, n_iter=100, random_state=0)</pre></div></div></div></div></div>"
      ],
      "text/plain": [
       "TruncatedSVD(n_components=20, n_iter=100, random_state=0)"
      ]
     },
     "execution_count": 30,
     "metadata": {},
     "output_type": "execute_result"
    }
   ],
   "source": [
    "svd = TruncatedSVD(n_components=20, n_iter=100, random_state=0)\n",
    "svd.fit(X_tfidf)"
   ]
  },
  {
   "cell_type": "code",
   "execution_count": 31,
   "id": "5cfcb559-c8cd-4b42-a3a1-b18cb69f1f17",
   "metadata": {},
   "outputs": [
    {
     "name": "stdout",
     "output_type": "stream",
     "text": [
      "Total de variabilidade explicada:  0.5491842291887831\n"
     ]
    }
   ],
   "source": [
    "print('Total de variabilidade explicada: ', sum(svd.explained_variance_ratio_))"
   ]
  },
  {
   "cell_type": "code",
   "execution_count": 32,
   "id": "16ed8f4b-f723-4e5b-809a-29cca1377fe6",
   "metadata": {},
   "outputs": [
    {
     "data": {
      "text/plain": [
       "(60, 584)"
      ]
     },
     "execution_count": 32,
     "metadata": {},
     "output_type": "execute_result"
    }
   ],
   "source": [
    "X_tfidf.shape"
   ]
  },
  {
   "cell_type": "code",
   "execution_count": 33,
   "id": "1a6b4619-f05d-4958-93d2-7b1fa0e8780e",
   "metadata": {},
   "outputs": [
    {
     "name": "stdout",
     "output_type": "stream",
     "text": [
      "(20, 584)\n"
     ]
    },
    {
     "data": {
      "text/html": [
       "<div>\n",
       "<style scoped>\n",
       "    .dataframe tbody tr th:only-of-type {\n",
       "        vertical-align: middle;\n",
       "    }\n",
       "\n",
       "    .dataframe tbody tr th {\n",
       "        vertical-align: top;\n",
       "    }\n",
       "\n",
       "    .dataframe thead th {\n",
       "        text-align: right;\n",
       "    }\n",
       "</style>\n",
       "<table border=\"1\" class=\"dataframe\">\n",
       "  <thead>\n",
       "    <tr style=\"text-align: right;\">\n",
       "      <th></th>\n",
       "      <th>abordagem</th>\n",
       "      <th>abordagens</th>\n",
       "      <th>acerca</th>\n",
       "      <th>acesso</th>\n",
       "      <th>acoes</th>\n",
       "      <th>acordo</th>\n",
       "      <th>adjacentes</th>\n",
       "      <th>adultos</th>\n",
       "      <th>agrupamento</th>\n",
       "      <th>agua</th>\n",
       "      <th>...</th>\n",
       "      <th>velocidade</th>\n",
       "      <th>vem</th>\n",
       "      <th>verificar</th>\n",
       "      <th>verificou</th>\n",
       "      <th>vez</th>\n",
       "      <th>viabilidade</th>\n",
       "      <th>vida</th>\n",
       "      <th>visando</th>\n",
       "      <th>vista</th>\n",
       "      <th>way</th>\n",
       "    </tr>\n",
       "  </thead>\n",
       "  <tbody>\n",
       "    <tr>\n",
       "      <th>0</th>\n",
       "      <td>0.027006</td>\n",
       "      <td>0.014682</td>\n",
       "      <td>0.017393</td>\n",
       "      <td>0.021911</td>\n",
       "      <td>0.014875</td>\n",
       "      <td>0.015243</td>\n",
       "      <td>0.016387</td>\n",
       "      <td>0.016156</td>\n",
       "      <td>0.028193</td>\n",
       "      <td>0.018993</td>\n",
       "      <td>...</td>\n",
       "      <td>0.027496</td>\n",
       "      <td>0.013228</td>\n",
       "      <td>0.027743</td>\n",
       "      <td>0.033124</td>\n",
       "      <td>0.037086</td>\n",
       "      <td>0.016796</td>\n",
       "      <td>0.020908</td>\n",
       "      <td>0.024486</td>\n",
       "      <td>0.027917</td>\n",
       "      <td>0.004986</td>\n",
       "    </tr>\n",
       "    <tr>\n",
       "      <th>1</th>\n",
       "      <td>-0.026778</td>\n",
       "      <td>-0.013158</td>\n",
       "      <td>-0.000647</td>\n",
       "      <td>-0.017275</td>\n",
       "      <td>0.001310</td>\n",
       "      <td>-0.001583</td>\n",
       "      <td>0.015487</td>\n",
       "      <td>0.027339</td>\n",
       "      <td>0.046157</td>\n",
       "      <td>-0.010467</td>\n",
       "      <td>...</td>\n",
       "      <td>-0.006255</td>\n",
       "      <td>-0.012858</td>\n",
       "      <td>0.010724</td>\n",
       "      <td>-0.024870</td>\n",
       "      <td>0.030729</td>\n",
       "      <td>0.005459</td>\n",
       "      <td>-0.017041</td>\n",
       "      <td>-0.003170</td>\n",
       "      <td>-0.002910</td>\n",
       "      <td>-0.010180</td>\n",
       "    </tr>\n",
       "    <tr>\n",
       "      <th>2</th>\n",
       "      <td>0.009075</td>\n",
       "      <td>-0.017323</td>\n",
       "      <td>-0.002122</td>\n",
       "      <td>-0.005599</td>\n",
       "      <td>0.020384</td>\n",
       "      <td>0.002708</td>\n",
       "      <td>-0.004181</td>\n",
       "      <td>0.000629</td>\n",
       "      <td>-0.002553</td>\n",
       "      <td>0.001630</td>\n",
       "      <td>...</td>\n",
       "      <td>-0.009693</td>\n",
       "      <td>0.010792</td>\n",
       "      <td>0.003337</td>\n",
       "      <td>-0.012232</td>\n",
       "      <td>-0.020142</td>\n",
       "      <td>-0.005819</td>\n",
       "      <td>0.005910</td>\n",
       "      <td>-0.013056</td>\n",
       "      <td>-0.010210</td>\n",
       "      <td>-0.039881</td>\n",
       "    </tr>\n",
       "    <tr>\n",
       "      <th>3</th>\n",
       "      <td>0.003865</td>\n",
       "      <td>-0.002311</td>\n",
       "      <td>-0.006716</td>\n",
       "      <td>0.034598</td>\n",
       "      <td>0.006511</td>\n",
       "      <td>-0.001010</td>\n",
       "      <td>-0.001891</td>\n",
       "      <td>0.001211</td>\n",
       "      <td>-0.000596</td>\n",
       "      <td>0.003241</td>\n",
       "      <td>...</td>\n",
       "      <td>0.002620</td>\n",
       "      <td>-0.002258</td>\n",
       "      <td>0.008892</td>\n",
       "      <td>-0.012891</td>\n",
       "      <td>0.018328</td>\n",
       "      <td>-0.001643</td>\n",
       "      <td>0.007863</td>\n",
       "      <td>0.003557</td>\n",
       "      <td>-0.017546</td>\n",
       "      <td>0.074856</td>\n",
       "    </tr>\n",
       "    <tr>\n",
       "      <th>4</th>\n",
       "      <td>-0.029368</td>\n",
       "      <td>-0.007644</td>\n",
       "      <td>-0.018513</td>\n",
       "      <td>-0.002514</td>\n",
       "      <td>0.007542</td>\n",
       "      <td>-0.007878</td>\n",
       "      <td>-0.006213</td>\n",
       "      <td>0.004008</td>\n",
       "      <td>0.001294</td>\n",
       "      <td>-0.031719</td>\n",
       "      <td>...</td>\n",
       "      <td>-0.052676</td>\n",
       "      <td>0.012199</td>\n",
       "      <td>-0.006798</td>\n",
       "      <td>-0.049626</td>\n",
       "      <td>-0.006984</td>\n",
       "      <td>-0.018463</td>\n",
       "      <td>-0.001819</td>\n",
       "      <td>-0.025021</td>\n",
       "      <td>0.033803</td>\n",
       "      <td>0.024831</td>\n",
       "    </tr>\n",
       "  </tbody>\n",
       "</table>\n",
       "<p>5 rows × 584 columns</p>\n",
       "</div>"
      ],
      "text/plain": [
       "   abordagem  abordagens    acerca    acesso     acoes    acordo  adjacentes  \\\n",
       "0   0.027006    0.014682  0.017393  0.021911  0.014875  0.015243    0.016387   \n",
       "1  -0.026778   -0.013158 -0.000647 -0.017275  0.001310 -0.001583    0.015487   \n",
       "2   0.009075   -0.017323 -0.002122 -0.005599  0.020384  0.002708   -0.004181   \n",
       "3   0.003865   -0.002311 -0.006716  0.034598  0.006511 -0.001010   -0.001891   \n",
       "4  -0.029368   -0.007644 -0.018513 -0.002514  0.007542 -0.007878   -0.006213   \n",
       "\n",
       "    adultos  agrupamento      agua  ...  velocidade       vem  verificar  \\\n",
       "0  0.016156     0.028193  0.018993  ...    0.027496  0.013228   0.027743   \n",
       "1  0.027339     0.046157 -0.010467  ...   -0.006255 -0.012858   0.010724   \n",
       "2  0.000629    -0.002553  0.001630  ...   -0.009693  0.010792   0.003337   \n",
       "3  0.001211    -0.000596  0.003241  ...    0.002620 -0.002258   0.008892   \n",
       "4  0.004008     0.001294 -0.031719  ...   -0.052676  0.012199  -0.006798   \n",
       "\n",
       "   verificou       vez  viabilidade      vida   visando     vista       way  \n",
       "0   0.033124  0.037086     0.016796  0.020908  0.024486  0.027917  0.004986  \n",
       "1  -0.024870  0.030729     0.005459 -0.017041 -0.003170 -0.002910 -0.010180  \n",
       "2  -0.012232 -0.020142    -0.005819  0.005910 -0.013056 -0.010210 -0.039881  \n",
       "3  -0.012891  0.018328    -0.001643  0.007863  0.003557 -0.017546  0.074856  \n",
       "4  -0.049626 -0.006984    -0.018463 -0.001819 -0.025021  0.033803  0.024831  \n",
       "\n",
       "[5 rows x 584 columns]"
      ]
     },
     "execution_count": 33,
     "metadata": {},
     "output_type": "execute_result"
    }
   ],
   "source": [
    "svd_components_df = pd.DataFrame(svd.components_, columns=count_vect.get_feature_names_out())\n",
    "print(svd_components_df.shape)\n",
    "svd_components_df.head()"
   ]
  },
  {
   "cell_type": "code",
   "execution_count": 34,
   "id": "c742ff3c-1d93-4fbb-958d-4991749da143",
   "metadata": {},
   "outputs": [
    {
     "data": {
      "text/plain": [
       "20"
      ]
     },
     "execution_count": 34,
     "metadata": {},
     "output_type": "execute_result"
    }
   ],
   "source": [
    "len(svd.components_)"
   ]
  },
  {
   "cell_type": "code",
   "execution_count": 35,
   "id": "61679e2a-900a-4294-b5f6-72814abce028",
   "metadata": {},
   "outputs": [
    {
     "name": "stdout",
     "output_type": "stream",
     "text": [
      "Tópico 0: \n",
      " ['genetica' 'populacoes' 'saude' 'economia' 'infantil' 'design'\n",
      " 'desenvolvimento' 'sobre' 'dados' 'trabalho' 'mortalidade' 'pernambuco'\n",
      " 'diversidade' 'analise' 'estudo' 'sao' 'especie' 'recife' 'nao'\n",
      " 'resultados'] \n",
      "\n",
      "Tópico 1: \n",
      " ['genetica' 'populacoes' 'diversidade' 'especie' 'conservacao' 'especies'\n",
      " 'estruturacao' 'diferenciacao' 'variabilidade' 'areas' 'individuos'\n",
      " 'atlantica' 'loci' 'marcadores' 'issr' 'nm' 'populacional' 'estuarios'\n",
      " 'sugerindo' 'variacao'] \n",
      "\n",
      "Tópico 2: \n",
      " ['saude' 'infantil' 'mortalidade' 'criancas' 'per' 'familia' 'renda'\n",
      " 'educacao' 'estrategia' 'taxas' 'instrumento' 'crianca' 'atencao'\n",
      " 'sociais' 'reducao' 'condicoes' 'desenvolvimento' 'programa' 'impacto'\n",
      " 'diferencas'] \n",
      "\n",
      "Tópico 3: \n",
      " ['learning' 'machine' 'time' 'context' 'deep' 'series' 'support' 'saude'\n",
      " 'neural' 'svm' 'network' 'performance' 'models' 'results' 'information'\n",
      " 'obtained' 'machines' 'three' 'different' 'datasets'] \n",
      "\n",
      "Tópico 4: \n",
      " ['design' 'arte' 'saude' 'arquitetura' 'infantil' 'elementos' 'historia'\n",
      " 'social' 'moderna' 'machines' 'artes' 'obra' 'mortalidade' 'genetica'\n",
      " 'movimento' 'historico' 'populacoes' 'compreensao' 'pesquisas' 'context'] \n",
      "\n",
      "Tópico 5: \n",
      " ['aquecimento' 'sistema' 'temperatura' 'velocidade' 'pressao' 'modelo'\n",
      " 'temperaturas' 'gas' 'utiliza' 'educacao' 'atraves' 'utilizacao'\n",
      " 'aumento' 'global' 'processos' 'utilizando' 'tecnicas' 'metodo'\n",
      " 'construcao' 'meio'] \n",
      "\n",
      "Tópico 6: \n",
      " ['educacao' 'genero' 'infantil' 'criancas' 'pais' 'desenvolvimento'\n",
      " 'sobre' 'questoes' 'sociais' 'ambiente' 'crianca' 'etapa' 'praticas'\n",
      " 'construcao' 'campo' 'pequenas' 'publicas' 'global' 'ambiental' 'grupo'] \n",
      "\n",
      "Tópico 7: \n",
      " ['arquitetura' 'artes' 'pernambuco' 'mortalidade' 'arquitetos' 'genero'\n",
      " 'elementos' 'arte' 'periodo' 'principalmente' 'cenario' 'taxas'\n",
      " 'identificar' 'estados' 'ambientes' 'construcao' 'infantil' 'obra'\n",
      " 'criacao' 'governo'] \n",
      "\n",
      "Tópico 8: \n",
      " ['mortalidade' 'taxas' 'design' 'social' 'governo' 'sobre' 'estados'\n",
      " 'infantil' 'reducao' 'machines' 'aumento' 'economia' 'efeitos' 'nordeste'\n",
      " 'diferencas' 'consumo' 'federal' 'municipios' 'economias' 'tempo'] \n",
      "\n",
      "Tópico 9: \n",
      " ['saude' 'aquecimento' 'construcao' 'design' 'global' 'ambientais'\n",
      " 'social' 'sao' 'machines' 'teorias' 'pressao' 'ambiental' 'praticas'\n",
      " 'per' 'different' 'context' 'time' 'metodologias' 'economia' 'outros'] \n",
      "\n",
      "Tópico 10: \n",
      " ['brasileiras' 'internacional' 'determinacao' 'avaliadas' 'literatura'\n",
      " 'novos' 'brasileira' 'renda' 'possivel' 'artigos' 'comparacao'\n",
      " 'temperaturas' 'analise' 'per' 'comportamento' 'atraves' 'mercado'\n",
      " 'apresentam' 'relacao' 'velocidade'] \n",
      "\n",
      "Tópico 11: \n",
      " ['elementos' 'estados' 'caracteristicas' 'ambientes' 'federal'\n",
      " 'temperaturas' 'brasileiros' 'governo' 'movimento' 'padrao' 'visando'\n",
      " 'constatou' 'desempenho' 'nao' 'apos' 'economias' 'avaliar' 'espaco'\n",
      " 'significativa' 'avaliadas'] \n",
      "\n",
      "Tópico 12: \n",
      " ['desenvolvimento' 'temperaturas' 'local' 'velocidade' 'temperatura'\n",
      " 'programa' 'diferentes' 'taxas' 'sobre' 'tempo' 'aumento' 'base'\n",
      " 'pressao' 'efeito' 'apos' 'avaliadas' 'nao' 'criancas' 'apresentou'\n",
      " 'time'] \n",
      "\n",
      "Tópico 13: \n",
      " ['svm' 'machines' 'social' 'regressao' 'machine' 'mercado' 'atividade'\n",
      " 'quatro' 'construcao' 'dados' 'global' 'support' 'combinacao' 'serie'\n",
      " 'used' 'possivel' 'modelos' 'ambientais' 'desenvolvimento' 'metodos'] \n",
      "\n",
      "Tópico 14: \n",
      " ['atraves' 'velocidade' 'arquitetos' 'avaliadas' 'machines' 'social'\n",
      " 'determinacao' 'genero' 'pernambuco' 'tanto' 'temperaturas' 'mulheres'\n",
      " 'recife' 'economia' 'software' 'verificou' 'arquitetura' 'aumento'\n",
      " 'tempo' 'profissionais'] \n",
      "\n",
      "Tópico 15: \n",
      " ['industrial' 'sistema' 'brasileiras' 'estudo' 'atividade' 'industria'\n",
      " 'utilizacao' 'gas' 'internacional' 'desses' 'modelos' 'desenvolvimento'\n",
      " 'pernambuco' 'localidades' 'impactos' 'novos' 'importancia' 'social'\n",
      " 'arquitetos' 'utiliza'] \n",
      "\n",
      "Tópico 16: \n",
      " ['educacao' 'mercado' 'caracteristicas' 'pais' 'especie' 'pernambuco'\n",
      " 'atividade' 'machines' 'elementos' 'software' 'genero' 'movimento'\n",
      " 'trabalho' 'acesso' 'variaveis' 'estuarios' 'social' 'individuos'\n",
      " 'design' 'modelo'] \n",
      "\n",
      "Tópico 17: \n",
      " ['tecnicas' 'complexo' 'deste' 'modelos' 'arte' 'gas' 'brasileira'\n",
      " 'ambientes' 'machines' 'producao' 'novos' 'grande' 'grupo' 'pernambuco'\n",
      " 'pressao' 'podem' 'evidenciando' 'possui' 'social' 'anos'] \n",
      "\n",
      "Tópico 18: \n",
      " ['governo' 'modelo' 'desenvolvimento' 'atividade' 'temperatura' 'estados'\n",
      " 'economias' 'estudo' 'publico' 'aquecimento' 'crescimento' 'aumento'\n",
      " 'variaveis' 'reais' 'gasto' 'criancas' 'machines' 'brasileiro'\n",
      " 'importancia' 'brasileiros'] \n",
      "\n",
      "Tópico 19: \n",
      " ['sistema' 'indicadores' 'brasileiras' 'apresentam' 'local'\n",
      " 'identificacao' 'machines' 'efeito' 'pressao' 'brasileira' 'nacionais'\n",
      " 'especialmente' 'populacoes' 'internacional' 'desse' 'possui' 'espacos'\n",
      " 'genero' 'teorico' 'utilizacao'] \n",
      "\n"
     ]
    }
   ],
   "source": [
    "X_topics = svd.components_\n",
    "n_top_words = 20\n",
    "\n",
    "for topic in range(len(svd.components_)):\n",
    "    tokens_t_k = np.argsort(X_topics[topic,:])[-n_top_words:][::-1]\n",
    "    print(f'Tópico {topic}: \\n', count_vect.get_feature_names_out()[tokens_t_k], '\\n')"
   ]
  },
  {
   "cell_type": "code",
   "execution_count": 36,
   "id": "5dbb8cec-9138-4b67-9b75-4f0315017f76",
   "metadata": {},
   "outputs": [
    {
     "data": {
      "text/plain": [
       "<AxesSubplot: >"
      ]
     },
     "execution_count": 36,
     "metadata": {},
     "output_type": "execute_result"
    },
    {
     "data": {
      "image/png": "[encoded data removed]",
      "text/plain": [
       "<Figure size 640x480 with 1 Axes>"
      ]
     },
     "metadata": {},
     "output_type": "display_data"
    }
   ],
   "source": [
    "X_topics_2d = PCA(n_components=2, random_state=0).fit_transform(X_topics)\n",
    "\n",
    "sns.scatterplot(X_topics_2d, x=X_topics_2d[:, 0], y=X_topics_2d[:, 1])"
   ]
  },
  {
   "cell_type": "code",
   "execution_count": 37,
   "id": "306ed8e1-fdca-4fbc-9405-7defa807c959",
   "metadata": {},
   "outputs": [
    {
     "name": "stdout",
     "output_type": "stream",
     "text": [
      "(20, 584)\n",
      "(60, 584)\n"
     ]
    }
   ],
   "source": [
    "print(X_topics.shape)\n",
    "print(X_tfidf.shape)"
   ]
  },
  {
   "cell_type": "code",
   "execution_count": 38,
   "id": "245a0b3f-ffd1-4f61-89da-b46459bd4957",
   "metadata": {},
   "outputs": [
    {
     "data": {
      "text/plain": [
       "(60, 20)"
      ]
     },
     "execution_count": 38,
     "metadata": {},
     "output_type": "execute_result"
    }
   ],
   "source": [
    "svd_X = svd.transform(X_tfidf)\n",
    "svd_X.shape"
   ]
  },
  {
   "cell_type": "markdown",
   "id": "781a5585-54e1-4949-b1ae-dac7c242fccd",
   "metadata": {},
   "source": [
    "### Text Classification using LSA"
   ]
  },
  {
   "cell_type": "code",
   "execution_count": 39,
   "id": "5b11cd46-1bc5-45fd-8bd8-23f727c2fd57",
   "metadata": {},
   "outputs": [],
   "source": [
    "y = list(df.subject.copy())\n",
    "\n",
    "X_train, X_test, y_train, y_test = train_test_split(svd_X, y, test_size=0.33, random_state=0)"
   ]
  },
  {
   "cell_type": "code",
   "execution_count": 40,
   "id": "8859d806-ec7e-4bfa-b4c5-418966dcb6cc",
   "metadata": {},
   "outputs": [],
   "source": [
    "clf = RandomForestClassifier(random_state=0)"
   ]
  },
  {
   "cell_type": "code",
   "execution_count": 41,
   "id": "51da0093-7fe9-4708-8dc4-5c3e2c91b8df",
   "metadata": {},
   "outputs": [
    {
     "data": {
      "text/html": [
       "<style>#sk-container-id-4 {color: black;background-color: white;}#sk-container-id-4 pre{padding: 0;}#sk-container-id-4 div.sk-toggleable {background-color: white;}#sk-container-id-4 label.sk-toggleable__label {cursor: pointer;display: block;width: 100%;margin-bottom: 0;padding: 0.3em;box-sizing: border-box;text-align: center;}#sk-container-id-4 label.sk-toggleable__label-arrow:before {content: \"▸\";float: left;margin-right: 0.25em;color: #696969;}#sk-container-id-4 label.sk-toggleable__label-arrow:hover:before {color: black;}#sk-container-id-4 div.sk-estimator:hover label.sk-toggleable__label-arrow:before {color: black;}#sk-container-id-4 div.sk-toggleable__content {max-height: 0;max-width: 0;overflow: hidden;text-align: left;background-color: #f0f8ff;}#sk-container-id-4 div.sk-toggleable__content pre {margin: 0.2em;color: black;border-radius: 0.25em;background-color: #f0f8ff;}#sk-container-id-4 input.sk-toggleable__control:checked~div.sk-toggleable__content {max-height: 200px;max-width: 100%;overflow: auto;}#sk-container-id-4 input.sk-toggleable__control:checked~label.sk-toggleable__label-arrow:before {content: \"▾\";}#sk-container-id-4 div.sk-estimator input.sk-toggleable__control:checked~label.sk-toggleable__label {background-color: #d4ebff;}#sk-container-id-4 div.sk-label input.sk-toggleable__control:checked~label.sk-toggleable__label {background-color: #d4ebff;}#sk-container-id-4 input.sk-hidden--visually {border: 0;clip: rect(1px 1px 1px 1px);clip: rect(1px, 1px, 1px, 1px);height: 1px;margin: -1px;overflow: hidden;padding: 0;position: absolute;width: 1px;}#sk-container-id-4 div.sk-estimator {font-family: monospace;background-color: #f0f8ff;border: 1px dotted black;border-radius: 0.25em;box-sizing: border-box;margin-bottom: 0.5em;}#sk-container-id-4 div.sk-estimator:hover {background-color: #d4ebff;}#sk-container-id-4 div.sk-parallel-item::after {content: \"\";width: 100%;border-bottom: 1px solid gray;flex-grow: 1;}#sk-container-id-4 div.sk-label:hover label.sk-toggleable__label {background-color: #d4ebff;}#sk-container-id-4 div.sk-serial::before {content: \"\";position: absolute;border-left: 1px solid gray;box-sizing: border-box;top: 0;bottom: 0;left: 50%;z-index: 0;}#sk-container-id-4 div.sk-serial {display: flex;flex-direction: column;align-items: center;background-color: white;padding-right: 0.2em;padding-left: 0.2em;position: relative;}#sk-container-id-4 div.sk-item {position: relative;z-index: 1;}#sk-container-id-4 div.sk-parallel {display: flex;align-items: stretch;justify-content: center;background-color: white;position: relative;}#sk-container-id-4 div.sk-item::before, #sk-container-id-4 div.sk-parallel-item::before {content: \"\";position: absolute;border-left: 1px solid gray;box-sizing: border-box;top: 0;bottom: 0;left: 50%;z-index: -1;}#sk-container-id-4 div.sk-parallel-item {display: flex;flex-direction: column;z-index: 1;position: relative;background-color: white;}#sk-container-id-4 div.sk-parallel-item:first-child::after {align-self: flex-end;width: 50%;}#sk-container-id-4 div.sk-parallel-item:last-child::after {align-self: flex-start;width: 50%;}#sk-container-id-4 div.sk-parallel-item:only-child::after {width: 0;}#sk-container-id-4 div.sk-dashed-wrapped {border: 1px dashed gray;margin: 0 0.4em 0.5em 0.4em;box-sizing: border-box;padding-bottom: 0.4em;background-color: white;}#sk-container-id-4 div.sk-label label {font-family: monospace;font-weight: bold;display: inline-block;line-height: 1.2em;}#sk-container-id-4 div.sk-label-container {text-align: center;}#sk-container-id-4 div.sk-container {/* jupyter's `normalize.less` sets `[hidden] { display: none; }` but bootstrap.min.css set `[hidden] { display: none !important; }` so we also need the `!important` here to be able to override the default hidden behavior on the sphinx rendered scikit-learn.org. See: https://github.com/scikit-learn/scikit-learn/issues/21755 */display: inline-block !important;position: relative;}#sk-container-id-4 div.sk-text-repr-fallback {display: none;}</style><div id=\"sk-container-id-4\" class=\"sk-top-container\"><div class=\"sk-text-repr-fallback\"><pre>RandomForestClassifier(random_state=0)</pre><b>In a Jupyter environment, please rerun this cell to show the HTML representation or trust the notebook. <br />On GitHub, the HTML representation is unable to render, please try loading this page with nbviewer.org.</b></div><div class=\"sk-container\" hidden><div class=\"sk-item\"><div class=\"sk-estimator sk-toggleable\"><input class=\"sk-toggleable__control sk-hidden--visually\" id=\"sk-estimator-id-4\" type=\"checkbox\" checked><label for=\"sk-estimator-id-4\" class=\"sk-toggleable__label sk-toggleable__label-arrow\">RandomForestClassifier</label><div class=\"sk-toggleable__content\"><pre>RandomForestClassifier(random_state=0)</pre></div></div></div></div></div>"
      ],
      "text/plain": [
       "RandomForestClassifier(random_state=0)"
      ]
     },
     "execution_count": 41,
     "metadata": {},
     "output_type": "execute_result"
    }
   ],
   "source": [
    "clf.fit(X_train, y_train)"
   ]
  },
  {
   "cell_type": "code",
   "execution_count": 42,
   "id": "4714c18e-0b10-41e4-bb77-b0a8057e3461",
   "metadata": {},
   "outputs": [],
   "source": [
    "y_pred_test = clf.predict(X_test)\n",
    "y_pred_train = clf.predict(X_train)"
   ]
  },
  {
   "cell_type": "code",
   "execution_count": 43,
   "id": "894f1afd-415c-4382-9e69-ad05d30a2bdf",
   "metadata": {},
   "outputs": [
    {
     "name": "stdout",
     "output_type": "stream",
     "text": [
      "Train Dataset Metrics\n",
      "                     precision    recall  f1-score   support\n",
      "\n",
      " aquecimento_global       1.00      1.00      1.00         8\n",
      "bauhaus_arquitetura       1.00      1.00      1.00         7\n",
      " economiabrasileira       1.00      1.00      1.00         7\n",
      "           genetica       1.00      1.00      1.00         5\n",
      "    machinelearning       1.00      1.00      1.00         7\n",
      "      saudeinfantil       1.00      1.00      1.00         6\n",
      "\n",
      "           accuracy                           1.00        40\n",
      "          macro avg       1.00      1.00      1.00        40\n",
      "       weighted avg       1.00      1.00      1.00        40\n",
      "\n",
      "--------------------------------\n",
      "Test Dataset Metrics\n",
      "                     precision    recall  f1-score   support\n",
      "\n",
      " aquecimento_global       1.00      1.00      1.00         2\n",
      "bauhaus_arquitetura       0.75      1.00      0.86         3\n",
      " economiabrasileira       1.00      1.00      1.00         3\n",
      "           genetica       1.00      1.00      1.00         5\n",
      "    machinelearning       1.00      0.67      0.80         3\n",
      "      saudeinfantil       1.00      1.00      1.00         4\n",
      "\n",
      "           accuracy                           0.95        20\n",
      "          macro avg       0.96      0.94      0.94        20\n",
      "       weighted avg       0.96      0.95      0.95        20\n",
      "\n"
     ]
    }
   ],
   "source": [
    "print(\"Train Dataset Metrics\")\n",
    "print(classification_report(y_train, y_pred_train))\n",
    "print(\"--------------------------------\")\n",
    "print(\"Test Dataset Metrics\")\n",
    "print(classification_report(y_test, y_pred_test))"
   ]
  },
  {
   "cell_type": "markdown",
   "id": "37433c24-9c51-48ad-a5c4-79b77352cf8a",
   "metadata": {},
   "source": [
    "### Document Search with LSA"
   ]
  },
  {
   "cell_type": "code",
   "execution_count": 44,
   "id": "af6b15a2-840b-493e-966b-bfb9c0490722",
   "metadata": {},
   "outputs": [],
   "source": [
    "def tokenizer(document, join=True):\n",
    "    tokens = [unidecode(token.lower()) for token in word_tokenize(document, language='portuguese') if token not in list_stop and token.isalpha()]\n",
    "    if join == True:\n",
    "        tokens = \" \".join(tokens)\n",
    "        return tokens\n",
    "    else:\n",
    "        return tokens"
   ]
  },
  {
   "cell_type": "code",
   "execution_count": 45,
   "id": "9a010c8e-fdbb-41c1-9324-525145f51e2d",
   "metadata": {},
   "outputs": [
    {
     "data": {
      "text/plain": [
       "'eu gosto maca'"
      ]
     },
     "execution_count": 45,
     "metadata": {},
     "output_type": "execute_result"
    }
   ],
   "source": [
    "tokenizer(\"Eu gosto de maçã\")"
   ]
  },
  {
   "cell_type": "code",
   "execution_count": 46,
   "id": "ed7d2627-6528-472e-a265-4ee5d1446794",
   "metadata": {},
   "outputs": [],
   "source": [
    "def get_lsa_from_query(query):\n",
    "    \n",
    "    query = tokenizer(query)\n",
    "    \n",
    "    X_query = count_vect.transform([query])\n",
    "    X_tfidf_query = tfidf_transformer.transform(X_query)\n",
    "    X_lsa_query = svd.transform(X_tfidf_query)\n",
    "    return X_lsa_query"
   ]
  },
  {
   "cell_type": "code",
   "execution_count": 47,
   "id": "e186dbb4-2c10-4476-bc6e-724b5e92c6fc",
   "metadata": {},
   "outputs": [
    {
     "data": {
      "text/plain": [
       "array([[ 0.0743457 , -0.08013518, -0.2504311 ,  0.46340688,  0.03227328,\n",
       "         0.02425432, -0.01375016, -0.03411406, -0.06074965, -0.11898579,\n",
       "         0.03324489, -0.00211973, -0.05690714,  0.13849241, -0.01516585,\n",
       "        -0.04079391,  0.04011864, -0.01926283, -0.02663002, -0.01402977]])"
      ]
     },
     "execution_count": 47,
     "metadata": {},
     "output_type": "execute_result"
    }
   ],
   "source": [
    "get_lsa_from_query(\"Eu gosto de machine learning\")"
   ]
  },
  {
   "cell_type": "code",
   "execution_count": 48,
   "id": "86380aad-9437-43e4-8a40-bef8251b964e",
   "metadata": {},
   "outputs": [],
   "source": [
    "def get_most_relevant_docs(query, n_documents, corpus):\n",
    "    \n",
    "    X_lsa_query = get_lsa_from_query(query)\n",
    "    \n",
    "    ouput_distances = pairwise_distances(corpus, X_lsa_query, metric='euclidean')[:,0]\n",
    "    sorted_distances = list(sorted(ouput_distances))[:n_documents]\n",
    "    sorted_indexes = list(np.argsort(ouput_distances)[:n_documents])\n",
    "    \n",
    "    print(f'Query: {query} \\n')\n",
    "    for id_doc, dist in zip(sorted_indexes, sorted_distances):\n",
    "        print(f'Id: {id_doc}, Title: {df._get_value(id_doc, \"title\")}, Dist: {round(dist, 4)} \\n')   "
   ]
  },
  {
   "cell_type": "code",
   "execution_count": 49,
   "id": "b0dd23b9-03c1-4f98-8744-cc46a16d04cc",
   "metadata": {},
   "outputs": [
    {
     "name": "stdout",
     "output_type": "stream",
     "text": [
      "Query: pernambuco \n",
      "\n",
      "Id: 52, Title: Clima e produtividade da agricultura permanente: estudo exploratório para o estado de Pernambuco entre os anos de 2002 e 2012, Dist: 0.5843 \n",
      "\n",
      "Id: 34, Title: Variação genética e a conservação do guaiamum (Cardisoma guanhumi, Decapoda: Gecarcinidae) em estuários do litoral de Pernambuco, Dist: 0.639 \n",
      "\n",
      "Id: 38, Title: Diversidade genética, conectividade populacional e a conservação do Mero (Epinephelus itajara; Percifomes Epinephelidae) na costa atlântica da América do Sul, Dist: 0.6429 \n",
      "\n",
      "Id: 23, Title: Integração das artes plásticas e arquitetura em Pernambuco,1950-1980, Dist: 0.6541 \n",
      "\n",
      "Id: 29, Title: Arquitetas no Recife : uma leitura de gênero das parcerias entre casais de arquitetos formados na década de 1960, Dist: 0.6718 \n",
      "\n"
     ]
    }
   ],
   "source": [
    "query = \"pernambuco\"\n",
    "n_documents = 5\n",
    "corpus = svd_X\n",
    "\n",
    "get_most_relevant_docs(query, n_documents, corpus)"
   ]
  },
  {
   "cell_type": "markdown",
   "id": "a305ed44-0d35-4b28-b757-07e3dd726b41",
   "metadata": {},
   "source": [
    "## Word2Vec"
   ]
  },
  {
   "cell_type": "code",
   "execution_count": 50,
   "id": "0703ded9-d40b-406c-a47a-74605ac6085c",
   "metadata": {},
   "outputs": [],
   "source": [
    "from gensim.test.utils import datapath\n",
    "from gensim.models import Word2Vec\n",
    "from gensim import utils\n",
    "import multiprocessing"
   ]
  },
  {
   "cell_type": "code",
   "execution_count": 51,
   "id": "520b0b94-e9c2-49cb-907c-ab4d66c03331",
   "metadata": {},
   "outputs": [
    {
     "data": {
      "text/plain": [
       "4"
      ]
     },
     "execution_count": 51,
     "metadata": {},
     "output_type": "execute_result"
    }
   ],
   "source": [
    "cores = multiprocessing.cpu_count() \n",
    "cores"
   ]
  },
  {
   "cell_type": "code",
   "execution_count": 52,
   "id": "6f0abdff-c04a-4f90-a37e-74cccdfe5cb4",
   "metadata": {},
   "outputs": [],
   "source": [
    "documents = df.input\n",
    "\n",
    "documents_tokens = []\n",
    "for document in documents:\n",
    "    documents_tokens.append(tokenizer(document, join=False))"
   ]
  },
  {
   "cell_type": "code",
   "execution_count": 53,
   "id": "beb7cd6c-f642-498f-a580-2cd805af469d",
   "metadata": {},
   "outputs": [
    {
     "data": {
      "text/plain": [
       "60"
      ]
     },
     "execution_count": 53,
     "metadata": {},
     "output_type": "execute_result"
    }
   ],
   "source": [
    "len(documents_tokens)"
   ]
  },
  {
   "cell_type": "code",
   "execution_count": 54,
   "id": "6812ef93-4005-458c-b359-8d5278664be1",
   "metadata": {},
   "outputs": [],
   "source": [
    "w2v_model = Word2Vec(\n",
    "          min_count=20,\n",
    "          window=3,\n",
    "          vector_size=20, \n",
    "          alpha=0.03, \n",
    "          min_alpha=0.0007, \n",
    "          negative=20,\n",
    "          workers=4\n",
    "        )"
   ]
  },
  {
   "cell_type": "code",
   "execution_count": 55,
   "id": "55864840-6c21-4481-9c7b-675a7d2c0ad1",
   "metadata": {},
   "outputs": [
    {
     "data": {
      "text/plain": [
       "(13467, 474250)"
      ]
     },
     "execution_count": 55,
     "metadata": {},
     "output_type": "execute_result"
    }
   ],
   "source": [
    "w2v_model.build_vocab(corpus_iterable=documents_tokens)\n",
    "\n",
    "w2v_model.train(documents_tokens, total_examples=w2v_model.corpus_count, epochs=50, report_delay=1)"
   ]
  },
  {
   "cell_type": "code",
   "execution_count": 56,
   "id": "a81ed7b9-d376-45f1-b9f9-2fd3e13be1d3",
   "metadata": {},
   "outputs": [
    {
     "data": {
      "text/plain": [
       "0.0"
      ]
     },
     "execution_count": 56,
     "metadata": {},
     "output_type": "execute_result"
    }
   ],
   "source": [
    "w2v_model.get_latest_training_loss()"
   ]
  },
  {
   "cell_type": "code",
   "execution_count": 57,
   "id": "fb75d86a-2428-4909-a744-c329ab9c6e7e",
   "metadata": {},
   "outputs": [
    {
     "name": "stdout",
     "output_type": "stream",
     "text": [
      "Tamanho do vocabulário:  35\n"
     ]
    }
   ],
   "source": [
    "print(\"Tamanho do vocabulário: \", len(w2v_model.wv))"
   ]
  },
  {
   "cell_type": "code",
   "execution_count": 58,
   "id": "a0c00886-86a0-4d91-ae2e-bcbd13f56c28",
   "metadata": {},
   "outputs": [
    {
     "data": {
      "text/plain": [
       "array([-0.11431552, -0.47935197,  0.7108607 ,  0.4333752 , -0.79951066,\n",
       "       -0.14327216,  1.1384394 ,  0.0349833 , -0.47289684,  0.7509521 ,\n",
       "        0.3594349 , -0.25557184, -0.5044602 , -0.6416562 ,  0.14996013,\n",
       "        1.0358589 ,  0.8297857 ,  0.89194036,  0.45816064, -0.7433942 ],\n",
       "      dtype=float32)"
      ]
     },
     "execution_count": 58,
     "metadata": {},
     "output_type": "execute_result"
    }
   ],
   "source": [
    "w2v_model.wv['machine']"
   ]
  },
  {
   "cell_type": "code",
   "execution_count": 59,
   "id": "d6827273-58c0-4ae7-a460-c76c93d416e8",
   "metadata": {},
   "outputs": [
    {
     "data": {
      "text/plain": [
       "[('learning', 0.9953909516334534),\n",
       " ('dados', 0.8297045826911926),\n",
       " ('atraves', 0.8111792802810669),\n",
       " ('trabalho', 0.7796211242675781),\n",
       " ('alem', 0.7785758376121521),\n",
       " ('objetivo', 0.7750442624092102),\n",
       " ('resultados', 0.7722809910774231),\n",
       " ('os', 0.7432660460472107),\n",
       " ('aquecimento', 0.733684778213501),\n",
       " ('modelo', 0.7287293672561646)]"
      ]
     },
     "execution_count": 59,
     "metadata": {},
     "output_type": "execute_result"
    }
   ],
   "source": [
    "w2v_model.wv.most_similar('machine')"
   ]
  },
  {
   "cell_type": "markdown",
   "id": "b3832682-8bad-4834-8727-31870b0ae233",
   "metadata": {},
   "source": [
    "### Text Classification"
   ]
  },
  {
   "cell_type": "code",
   "execution_count": 60,
   "id": "c5c601f8-5159-4b93-944a-52fdd7a71e2c",
   "metadata": {},
   "outputs": [
    {
     "data": {
      "text/plain": [
       "35"
      ]
     },
     "execution_count": 60,
     "metadata": {},
     "output_type": "execute_result"
    }
   ],
   "source": [
    "word_vec = dict({})\n",
    "\n",
    "for idx, key in enumerate(w2v_model.wv.key_to_index):\n",
    "    word_vec[key] = w2v_model.wv[key]\n",
    "    \n",
    "len(word_vec)"
   ]
  },
  {
   "cell_type": "code",
   "execution_count": 61,
   "id": "4ebe2d26-6f62-4542-9115-cd9bb693faed",
   "metadata": {
    "tags": []
   },
   "outputs": [],
   "source": [
    "doc_vec = []\n",
    "\n",
    "for document in range(len(documents_tokens)):\n",
    "    doc_vec_sentence = np.zeros(20)\n",
    "    for word in range(len(documents_tokens[document])):\n",
    "        word = documents_tokens[document][word]\n",
    "        if word in word_vec.keys():\n",
    "            doc_vec_sentence = np.add(doc_vec_sentence, word_vec[word])\n",
    "            \n",
    "    doc_vec.append(doc_vec_sentence)           "
   ]
  },
  {
   "cell_type": "code",
   "execution_count": 62,
   "id": "fc09dbed-e24f-49fd-8b16-9dc7774b52c9",
   "metadata": {},
   "outputs": [
    {
     "data": {
      "text/plain": [
       "array([ -4.41926562,  -8.43843782,  13.06374711,   0.87612922,\n",
       "        -7.60955502,  -0.89649212,  20.29493386,   7.91364032,\n",
       "       -14.61660758,   7.49669454,  11.07239631,  -3.89295672,\n",
       "        -6.60897117, -15.21724671,   2.49330807,  10.16106933,\n",
       "        18.84577543,  10.90268409,  -0.13566322, -10.74285126])"
      ]
     },
     "execution_count": 62,
     "metadata": {},
     "output_type": "execute_result"
    }
   ],
   "source": [
    "doc_vec[0]"
   ]
  },
  {
   "cell_type": "code",
   "execution_count": 63,
   "id": "cc6f2825-d90d-47e0-a2f8-17b7dd9f082f",
   "metadata": {},
   "outputs": [],
   "source": [
    "w2v_X = pd.DataFrame(doc_vec)\n",
    "\n",
    "X_train, X_test, y_train, y_test = train_test_split(w2v_X, y, test_size=0.33, random_state=0)"
   ]
  },
  {
   "cell_type": "code",
   "execution_count": 64,
   "id": "6d0624d3-4276-4559-a32b-70ae2c3d00f6",
   "metadata": {},
   "outputs": [],
   "source": [
    "clf = RandomForestClassifier(random_state=0)"
   ]
  },
  {
   "cell_type": "code",
   "execution_count": 65,
   "id": "8d5b90da-aea7-4c18-9586-5de401b2308d",
   "metadata": {},
   "outputs": [
    {
     "data": {
      "text/html": [
       "<style>#sk-container-id-5 {color: black;background-color: white;}#sk-container-id-5 pre{padding: 0;}#sk-container-id-5 div.sk-toggleable {background-color: white;}#sk-container-id-5 label.sk-toggleable__label {cursor: pointer;display: block;width: 100%;margin-bottom: 0;padding: 0.3em;box-sizing: border-box;text-align: center;}#sk-container-id-5 label.sk-toggleable__label-arrow:before {content: \"▸\";float: left;margin-right: 0.25em;color: #696969;}#sk-container-id-5 label.sk-toggleable__label-arrow:hover:before {color: black;}#sk-container-id-5 div.sk-estimator:hover label.sk-toggleable__label-arrow:before {color: black;}#sk-container-id-5 div.sk-toggleable__content {max-height: 0;max-width: 0;overflow: hidden;text-align: left;background-color: #f0f8ff;}#sk-container-id-5 div.sk-toggleable__content pre {margin: 0.2em;color: black;border-radius: 0.25em;background-color: #f0f8ff;}#sk-container-id-5 input.sk-toggleable__control:checked~div.sk-toggleable__content {max-height: 200px;max-width: 100%;overflow: auto;}#sk-container-id-5 input.sk-toggleable__control:checked~label.sk-toggleable__label-arrow:before {content: \"▾\";}#sk-container-id-5 div.sk-estimator input.sk-toggleable__control:checked~label.sk-toggleable__label {background-color: #d4ebff;}#sk-container-id-5 div.sk-label input.sk-toggleable__control:checked~label.sk-toggleable__label {background-color: #d4ebff;}#sk-container-id-5 input.sk-hidden--visually {border: 0;clip: rect(1px 1px 1px 1px);clip: rect(1px, 1px, 1px, 1px);height: 1px;margin: -1px;overflow: hidden;padding: 0;position: absolute;width: 1px;}#sk-container-id-5 div.sk-estimator {font-family: monospace;background-color: #f0f8ff;border: 1px dotted black;border-radius: 0.25em;box-sizing: border-box;margin-bottom: 0.5em;}#sk-container-id-5 div.sk-estimator:hover {background-color: #d4ebff;}#sk-container-id-5 div.sk-parallel-item::after {content: \"\";width: 100%;border-bottom: 1px solid gray;flex-grow: 1;}#sk-container-id-5 div.sk-label:hover label.sk-toggleable__label {background-color: #d4ebff;}#sk-container-id-5 div.sk-serial::before {content: \"\";position: absolute;border-left: 1px solid gray;box-sizing: border-box;top: 0;bottom: 0;left: 50%;z-index: 0;}#sk-container-id-5 div.sk-serial {display: flex;flex-direction: column;align-items: center;background-color: white;padding-right: 0.2em;padding-left: 0.2em;position: relative;}#sk-container-id-5 div.sk-item {position: relative;z-index: 1;}#sk-container-id-5 div.sk-parallel {display: flex;align-items: stretch;justify-content: center;background-color: white;position: relative;}#sk-container-id-5 div.sk-item::before, #sk-container-id-5 div.sk-parallel-item::before {content: \"\";position: absolute;border-left: 1px solid gray;box-sizing: border-box;top: 0;bottom: 0;left: 50%;z-index: -1;}#sk-container-id-5 div.sk-parallel-item {display: flex;flex-direction: column;z-index: 1;position: relative;background-color: white;}#sk-container-id-5 div.sk-parallel-item:first-child::after {align-self: flex-end;width: 50%;}#sk-container-id-5 div.sk-parallel-item:last-child::after {align-self: flex-start;width: 50%;}#sk-container-id-5 div.sk-parallel-item:only-child::after {width: 0;}#sk-container-id-5 div.sk-dashed-wrapped {border: 1px dashed gray;margin: 0 0.4em 0.5em 0.4em;box-sizing: border-box;padding-bottom: 0.4em;background-color: white;}#sk-container-id-5 div.sk-label label {font-family: monospace;font-weight: bold;display: inline-block;line-height: 1.2em;}#sk-container-id-5 div.sk-label-container {text-align: center;}#sk-container-id-5 div.sk-container {/* jupyter's `normalize.less` sets `[hidden] { display: none; }` but bootstrap.min.css set `[hidden] { display: none !important; }` so we also need the `!important` here to be able to override the default hidden behavior on the sphinx rendered scikit-learn.org. See: https://github.com/scikit-learn/scikit-learn/issues/21755 */display: inline-block !important;position: relative;}#sk-container-id-5 div.sk-text-repr-fallback {display: none;}</style><div id=\"sk-container-id-5\" class=\"sk-top-container\"><div class=\"sk-text-repr-fallback\"><pre>RandomForestClassifier(random_state=0)</pre><b>In a Jupyter environment, please rerun this cell to show the HTML representation or trust the notebook. <br />On GitHub, the HTML representation is unable to render, please try loading this page with nbviewer.org.</b></div><div class=\"sk-container\" hidden><div class=\"sk-item\"><div class=\"sk-estimator sk-toggleable\"><input class=\"sk-toggleable__control sk-hidden--visually\" id=\"sk-estimator-id-5\" type=\"checkbox\" checked><label for=\"sk-estimator-id-5\" class=\"sk-toggleable__label sk-toggleable__label-arrow\">RandomForestClassifier</label><div class=\"sk-toggleable__content\"><pre>RandomForestClassifier(random_state=0)</pre></div></div></div></div></div>"
      ],
      "text/plain": [
       "RandomForestClassifier(random_state=0)"
      ]
     },
     "execution_count": 65,
     "metadata": {},
     "output_type": "execute_result"
    }
   ],
   "source": [
    "clf.fit(X_train, y_train)"
   ]
  },
  {
   "cell_type": "code",
   "execution_count": 66,
   "id": "bb73a600-026c-4e61-87fe-89b3b906a5c5",
   "metadata": {},
   "outputs": [],
   "source": [
    "y_pred_test = clf.predict(X_test)\n",
    "y_pred_train = clf.predict(X_train)"
   ]
  },
  {
   "cell_type": "code",
   "execution_count": 67,
   "id": "c70673de-6544-4a1a-b6bd-29453c3ea949",
   "metadata": {},
   "outputs": [
    {
     "name": "stdout",
     "output_type": "stream",
     "text": [
      "Train Dataset Metrics\n",
      "                     precision    recall  f1-score   support\n",
      "\n",
      " aquecimento_global       1.00      1.00      1.00         8\n",
      "bauhaus_arquitetura       1.00      1.00      1.00         7\n",
      " economiabrasileira       1.00      1.00      1.00         7\n",
      "           genetica       1.00      1.00      1.00         5\n",
      "    machinelearning       1.00      1.00      1.00         7\n",
      "      saudeinfantil       1.00      1.00      1.00         6\n",
      "\n",
      "           accuracy                           1.00        40\n",
      "          macro avg       1.00      1.00      1.00        40\n",
      "       weighted avg       1.00      1.00      1.00        40\n",
      "\n",
      "--------------------------------\n",
      "Test Dataset Metrics\n",
      "                     precision    recall  f1-score   support\n",
      "\n",
      " aquecimento_global       0.67      1.00      0.80         2\n",
      "bauhaus_arquitetura       0.67      0.67      0.67         3\n",
      " economiabrasileira       0.67      0.67      0.67         3\n",
      "           genetica       1.00      1.00      1.00         5\n",
      "    machinelearning       1.00      0.67      0.80         3\n",
      "      saudeinfantil       1.00      1.00      1.00         4\n",
      "\n",
      "           accuracy                           0.85        20\n",
      "          macro avg       0.83      0.83      0.82        20\n",
      "       weighted avg       0.87      0.85      0.85        20\n",
      "\n"
     ]
    }
   ],
   "source": [
    "print(\"Train Dataset Metrics\")\n",
    "print(classification_report(y_train, y_pred_train))\n",
    "print(\"--------------------------------\")\n",
    "print(\"Test Dataset Metrics\")\n",
    "print(classification_report(y_test, y_pred_test))"
   ]
  },
  {
   "cell_type": "markdown",
   "id": "8de26df5-3663-4fbf-9443-d2a5ec9c303c",
   "metadata": {},
   "source": [
    "### Document Search with Word2Vec"
   ]
  },
  {
   "cell_type": "markdown",
   "id": "5fa5ad62-79ff-47fc-9a2d-82417238adac",
   "metadata": {},
   "source": [
    "## Técnicas de decomposição ou redes neurais não vistas em sala na etapa de classificação"
   ]
  },
  {
   "cell_type": "markdown",
   "id": "0429416c-d726-4f5b-b814-fd74ba4e441c",
   "metadata": {
    "tags": []
   },
   "source": [
    "### NMF: Non-Negative Matrix Factorization  "
   ]
  },
  {
   "cell_type": "code",
   "execution_count": 68,
   "id": "9b2cc450-cca2-4fda-88b9-c977ba383a01",
   "metadata": {},
   "outputs": [],
   "source": [
    "def get_explained_var_nmf(n_components, X_tfidf):\n",
    "    model = NMF(n_components=n_components, random_state=0, max_iter=150, solver='mu')\n",
    "    model.fit(X_tfidf)\n",
    "    return model.reconstruction_err_"
   ]
  },
  {
   "cell_type": "code",
   "execution_count": 69,
   "id": "52f1c1b8-7154-4b2b-86e0-8533ba92c2e5",
   "metadata": {},
   "outputs": [
    {
     "name": "stderr",
     "output_type": "stream",
     "text": [
      "/home/studio-lab-user/.conda/envs/NLP/lib/python3.8/site-packages/sklearn/decomposition/_nmf.py:1665: ConvergenceWarning: Maximum number of iterations 150 reached. Increase it to improve convergence.\n",
      "  warnings.warn(\n"
     ]
    }
   ],
   "source": [
    "elbow_mnf = []\n",
    "\n",
    "for n_components in range(1, 100):\n",
    "    var = get_explained_var_nmf(n_components, X_tfidf)\n",
    "    elbow_mnf.append(var)  "
   ]
  },
  {
   "cell_type": "code",
   "execution_count": 70,
   "id": "a2c8c518-44be-4e5c-9d4b-ac75e58612b3",
   "metadata": {},
   "outputs": [
    {
     "data": {
      "text/plain": [
       "<AxesSubplot: >"
      ]
     },
     "execution_count": 70,
     "metadata": {},
     "output_type": "execute_result"
    },
    {
     "data": {
      "image/png": "[encoded data removed]",
      "text/plain": [
       "<Figure size 640x480 with 1 Axes>"
      ]
     },
     "metadata": {},
     "output_type": "display_data"
    }
   ],
   "source": [
    "sns.lineplot(x=range(1, 100), y=elbow_mnf)"
   ]
  },
  {
   "cell_type": "code",
   "execution_count": 71,
   "id": "8ffc6614-28c3-4315-b967-a28319f9082e",
   "metadata": {},
   "outputs": [],
   "source": [
    "nmf_model = NMF(n_components=20, random_state=0, max_iter=300, solver='mu')\n",
    "\n",
    "nmf_X = nmf_model.fit_transform(X_tfidf)"
   ]
  },
  {
   "cell_type": "code",
   "execution_count": 72,
   "id": "0ae972eb-1edf-4785-a19e-fbc553dfb07f",
   "metadata": {},
   "outputs": [
    {
     "data": {
      "text/plain": [
       "(60, 20)"
      ]
     },
     "execution_count": 72,
     "metadata": {},
     "output_type": "execute_result"
    }
   ],
   "source": [
    "nmf_X.shape"
   ]
  },
  {
   "cell_type": "code",
   "execution_count": 73,
   "id": "85fedc35-d11c-4cde-ae0c-bc3b49bedee1",
   "metadata": {},
   "outputs": [],
   "source": [
    "X_train, X_test, y_train, y_test = train_test_split(nmf_X, y, test_size=0.33, random_state=0)"
   ]
  },
  {
   "cell_type": "code",
   "execution_count": 74,
   "id": "d3335a19-03ad-40f4-90e7-f6d0b6290695",
   "metadata": {},
   "outputs": [],
   "source": [
    "clf = RandomForestClassifier(random_state=0)"
   ]
  },
  {
   "cell_type": "code",
   "execution_count": 75,
   "id": "4b2eca9c-bf57-45fe-a037-f57ed2b85d18",
   "metadata": {},
   "outputs": [
    {
     "data": {
      "text/html": [
       "<style>#sk-container-id-6 {color: black;background-color: white;}#sk-container-id-6 pre{padding: 0;}#sk-container-id-6 div.sk-toggleable {background-color: white;}#sk-container-id-6 label.sk-toggleable__label {cursor: pointer;display: block;width: 100%;margin-bottom: 0;padding: 0.3em;box-sizing: border-box;text-align: center;}#sk-container-id-6 label.sk-toggleable__label-arrow:before {content: \"▸\";float: left;margin-right: 0.25em;color: #696969;}#sk-container-id-6 label.sk-toggleable__label-arrow:hover:before {color: black;}#sk-container-id-6 div.sk-estimator:hover label.sk-toggleable__label-arrow:before {color: black;}#sk-container-id-6 div.sk-toggleable__content {max-height: 0;max-width: 0;overflow: hidden;text-align: left;background-color: #f0f8ff;}#sk-container-id-6 div.sk-toggleable__content pre {margin: 0.2em;color: black;border-radius: 0.25em;background-color: #f0f8ff;}#sk-container-id-6 input.sk-toggleable__control:checked~div.sk-toggleable__content {max-height: 200px;max-width: 100%;overflow: auto;}#sk-container-id-6 input.sk-toggleable__control:checked~label.sk-toggleable__label-arrow:before {content: \"▾\";}#sk-container-id-6 div.sk-estimator input.sk-toggleable__control:checked~label.sk-toggleable__label {background-color: #d4ebff;}#sk-container-id-6 div.sk-label input.sk-toggleable__control:checked~label.sk-toggleable__label {background-color: #d4ebff;}#sk-container-id-6 input.sk-hidden--visually {border: 0;clip: rect(1px 1px 1px 1px);clip: rect(1px, 1px, 1px, 1px);height: 1px;margin: -1px;overflow: hidden;padding: 0;position: absolute;width: 1px;}#sk-container-id-6 div.sk-estimator {font-family: monospace;background-color: #f0f8ff;border: 1px dotted black;border-radius: 0.25em;box-sizing: border-box;margin-bottom: 0.5em;}#sk-container-id-6 div.sk-estimator:hover {background-color: #d4ebff;}#sk-container-id-6 div.sk-parallel-item::after {content: \"\";width: 100%;border-bottom: 1px solid gray;flex-grow: 1;}#sk-container-id-6 div.sk-label:hover label.sk-toggleable__label {background-color: #d4ebff;}#sk-container-id-6 div.sk-serial::before {content: \"\";position: absolute;border-left: 1px solid gray;box-sizing: border-box;top: 0;bottom: 0;left: 50%;z-index: 0;}#sk-container-id-6 div.sk-serial {display: flex;flex-direction: column;align-items: center;background-color: white;padding-right: 0.2em;padding-left: 0.2em;position: relative;}#sk-container-id-6 div.sk-item {position: relative;z-index: 1;}#sk-container-id-6 div.sk-parallel {display: flex;align-items: stretch;justify-content: center;background-color: white;position: relative;}#sk-container-id-6 div.sk-item::before, #sk-container-id-6 div.sk-parallel-item::before {content: \"\";position: absolute;border-left: 1px solid gray;box-sizing: border-box;top: 0;bottom: 0;left: 50%;z-index: -1;}#sk-container-id-6 div.sk-parallel-item {display: flex;flex-direction: column;z-index: 1;position: relative;background-color: white;}#sk-container-id-6 div.sk-parallel-item:first-child::after {align-self: flex-end;width: 50%;}#sk-container-id-6 div.sk-parallel-item:last-child::after {align-self: flex-start;width: 50%;}#sk-container-id-6 div.sk-parallel-item:only-child::after {width: 0;}#sk-container-id-6 div.sk-dashed-wrapped {border: 1px dashed gray;margin: 0 0.4em 0.5em 0.4em;box-sizing: border-box;padding-bottom: 0.4em;background-color: white;}#sk-container-id-6 div.sk-label label {font-family: monospace;font-weight: bold;display: inline-block;line-height: 1.2em;}#sk-container-id-6 div.sk-label-container {text-align: center;}#sk-container-id-6 div.sk-container {/* jupyter's `normalize.less` sets `[hidden] { display: none; }` but bootstrap.min.css set `[hidden] { display: none !important; }` so we also need the `!important` here to be able to override the default hidden behavior on the sphinx rendered scikit-learn.org. See: https://github.com/scikit-learn/scikit-learn/issues/21755 */display: inline-block !important;position: relative;}#sk-container-id-6 div.sk-text-repr-fallback {display: none;}</style><div id=\"sk-container-id-6\" class=\"sk-top-container\"><div class=\"sk-text-repr-fallback\"><pre>RandomForestClassifier(random_state=0)</pre><b>In a Jupyter environment, please rerun this cell to show the HTML representation or trust the notebook. <br />On GitHub, the HTML representation is unable to render, please try loading this page with nbviewer.org.</b></div><div class=\"sk-container\" hidden><div class=\"sk-item\"><div class=\"sk-estimator sk-toggleable\"><input class=\"sk-toggleable__control sk-hidden--visually\" id=\"sk-estimator-id-6\" type=\"checkbox\" checked><label for=\"sk-estimator-id-6\" class=\"sk-toggleable__label sk-toggleable__label-arrow\">RandomForestClassifier</label><div class=\"sk-toggleable__content\"><pre>RandomForestClassifier(random_state=0)</pre></div></div></div></div></div>"
      ],
      "text/plain": [
       "RandomForestClassifier(random_state=0)"
      ]
     },
     "execution_count": 75,
     "metadata": {},
     "output_type": "execute_result"
    }
   ],
   "source": [
    "clf.fit(X_train, y_train)"
   ]
  },
  {
   "cell_type": "code",
   "execution_count": 76,
   "id": "92990f3a-015d-47e0-addb-f8e78865ef56",
   "metadata": {},
   "outputs": [],
   "source": [
    "y_pred_test = clf.predict(X_test)\n",
    "y_pred_train = clf.predict(X_train)"
   ]
  },
  {
   "cell_type": "code",
   "execution_count": 77,
   "id": "2ba91a6c-7c59-4487-aaa1-3e1853fa169c",
   "metadata": {},
   "outputs": [
    {
     "name": "stdout",
     "output_type": "stream",
     "text": [
      "Train Dataset Metrics\n",
      "                     precision    recall  f1-score   support\n",
      "\n",
      " aquecimento_global       1.00      1.00      1.00         8\n",
      "bauhaus_arquitetura       1.00      1.00      1.00         7\n",
      " economiabrasileira       1.00      1.00      1.00         7\n",
      "           genetica       1.00      1.00      1.00         5\n",
      "    machinelearning       1.00      1.00      1.00         7\n",
      "      saudeinfantil       1.00      1.00      1.00         6\n",
      "\n",
      "           accuracy                           1.00        40\n",
      "          macro avg       1.00      1.00      1.00        40\n",
      "       weighted avg       1.00      1.00      1.00        40\n",
      "\n",
      "--------------------------------\n",
      "Test Dataset Metrics\n",
      "                     precision    recall  f1-score   support\n",
      "\n",
      " aquecimento_global       0.50      0.50      0.50         2\n",
      "bauhaus_arquitetura       1.00      1.00      1.00         3\n",
      " economiabrasileira       0.67      0.67      0.67         3\n",
      "           genetica       1.00      1.00      1.00         5\n",
      "    machinelearning       0.60      1.00      0.75         3\n",
      "      saudeinfantil       1.00      0.50      0.67         4\n",
      "\n",
      "           accuracy                           0.80        20\n",
      "          macro avg       0.79      0.78      0.76        20\n",
      "       weighted avg       0.84      0.80      0.80        20\n",
      "\n"
     ]
    }
   ],
   "source": [
    "print(\"Train Dataset Metrics\")\n",
    "print(classification_report(y_train, y_pred_train))\n",
    "print(\"--------------------------------\")\n",
    "print(\"Test Dataset Metrics\")\n",
    "print(classification_report(y_test, y_pred_test))"
   ]
  },
  {
   "cell_type": "markdown",
   "id": "c7fcfe9f-8412-4c01-8c50-869bbfc736ac",
   "metadata": {},
   "source": [
    "## Conclusão"
   ]
  },
  {
   "cell_type": "markdown",
   "id": "e5397d7f-a459-4f3e-8198-7e058d55d479",
   "metadata": {},
   "source": [
    "No estudo realizado, foi analisado o desempenho de um classificador Random Forest utilizando diferentes técnicas de representação de texto em forma numérica. Foi observado que o melhor resultado foi obtido com a técnica de Latent Semantic Analysis (LSA), seguida pelo Word2Vec e, por último, pela Non-Negative Matrix Factorization (NMF).\n",
    "\n",
    "**Weighted Avg Accuracy, Test Dataset:**\n",
    "\n",
    "- RF w/ LSA: 0.95\n",
    "- RF w/ W2V: 0.85\n",
    "- RF w/ NMF: 0.80\n",
    "\n",
    "\n",
    "\n",
    "Estes resultados sugerem que a LSA é uma técnica eficiente para representar textos de forma numérica. No entanto, é importante lembrar que os resultados podem variar dependendo do conjunto de dados e do problema em questão, e, portanto, é sempre importante testar diferentes técnicas e avaliar o desempenho de cada uma delas."
   ]
  }
 ],
 "metadata": {
  "kernelspec": {
   "display_name": "NLP:Python",
   "language": "python",
   "name": "conda-env-NLP-py"
  },
  "language_info": {
   "codemirror_mode": {
    "name": "ipython",
    "version": 3
   },
   "file_extension": ".py",
   "mimetype": "text/x-python",
   "name": "python",
   "nbconvert_exporter": "python",
   "pygments_lexer": "ipython3",
   "version": "3.8.15"
  },
  "toc-autonumbering": false,
  "toc-showmarkdowntxt": false,
  "toc-showtags": false
 },
 "nbformat": 4,
 "nbformat_minor": 5
}
